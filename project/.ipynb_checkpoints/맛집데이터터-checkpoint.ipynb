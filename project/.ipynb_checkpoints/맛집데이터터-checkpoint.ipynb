{
 "cells": [
  {
   "cell_type": "code",
   "execution_count": 1,
   "id": "f2eb8682-8044-4a37-a2b2-234b9a381622",
   "metadata": {},
   "outputs": [],
   "source": [
    "import pandas as pd\n",
    "import numpy as np"
   ]
  },
  {
   "cell_type": "code",
   "execution_count": 2,
   "id": "6637cb79-67c2-4935-84b9-a495a6628944",
   "metadata": {},
   "outputs": [],
   "source": [
    "file='../DATA/대구광역시 맛집 데이터.json'"
   ]
  },
  {
   "cell_type": "code",
   "execution_count": 4,
   "id": "b789e55f-c723-4af6-8184-3fb7826ab732",
   "metadata": {},
   "outputs": [
    {
     "data": {
      "text/html": [
       "<div>\n",
       "<style scoped>\n",
       "    .dataframe tbody tr th:only-of-type {\n",
       "        vertical-align: middle;\n",
       "    }\n",
       "\n",
       "    .dataframe tbody tr th {\n",
       "        vertical-align: top;\n",
       "    }\n",
       "\n",
       "    .dataframe thead th {\n",
       "        text-align: right;\n",
       "    }\n",
       "</style>\n",
       "<table border=\"1\" class=\"dataframe\">\n",
       "  <thead>\n",
       "    <tr style=\"text-align: right;\">\n",
       "      <th></th>\n",
       "      <th>status</th>\n",
       "      <th>total</th>\n",
       "      <th>data</th>\n",
       "    </tr>\n",
       "  </thead>\n",
       "  <tbody>\n",
       "    <tr>\n",
       "      <th>0</th>\n",
       "      <td>DONE</td>\n",
       "      <td>184</td>\n",
       "      <td>{'cnt': '1', 'OPENDATA_ID': '1816', 'GNG_CS': ...</td>\n",
       "    </tr>\n",
       "    <tr>\n",
       "      <th>1</th>\n",
       "      <td>DONE</td>\n",
       "      <td>184</td>\n",
       "      <td>{'cnt': '2', 'OPENDATA_ID': '1810', 'GNG_CS': ...</td>\n",
       "    </tr>\n",
       "    <tr>\n",
       "      <th>2</th>\n",
       "      <td>DONE</td>\n",
       "      <td>184</td>\n",
       "      <td>{'cnt': '3', 'OPENDATA_ID': '1807', 'GNG_CS': ...</td>\n",
       "    </tr>\n",
       "    <tr>\n",
       "      <th>3</th>\n",
       "      <td>DONE</td>\n",
       "      <td>184</td>\n",
       "      <td>{'cnt': '4', 'OPENDATA_ID': '1806', 'GNG_CS': ...</td>\n",
       "    </tr>\n",
       "    <tr>\n",
       "      <th>4</th>\n",
       "      <td>DONE</td>\n",
       "      <td>184</td>\n",
       "      <td>{'cnt': '5', 'OPENDATA_ID': '1805', 'GNG_CS': ...</td>\n",
       "    </tr>\n",
       "    <tr>\n",
       "      <th>...</th>\n",
       "      <td>...</td>\n",
       "      <td>...</td>\n",
       "      <td>...</td>\n",
       "    </tr>\n",
       "    <tr>\n",
       "      <th>179</th>\n",
       "      <td>DONE</td>\n",
       "      <td>184</td>\n",
       "      <td>{'cnt': '180', 'OPENDATA_ID': '171', 'GNG_CS':...</td>\n",
       "    </tr>\n",
       "    <tr>\n",
       "      <th>180</th>\n",
       "      <td>DONE</td>\n",
       "      <td>184</td>\n",
       "      <td>{'cnt': '181', 'OPENDATA_ID': '167', 'GNG_CS':...</td>\n",
       "    </tr>\n",
       "    <tr>\n",
       "      <th>181</th>\n",
       "      <td>DONE</td>\n",
       "      <td>184</td>\n",
       "      <td>{'cnt': '182', 'OPENDATA_ID': '166', 'GNG_CS':...</td>\n",
       "    </tr>\n",
       "    <tr>\n",
       "      <th>182</th>\n",
       "      <td>DONE</td>\n",
       "      <td>184</td>\n",
       "      <td>{'cnt': '183', 'OPENDATA_ID': '165', 'GNG_CS':...</td>\n",
       "    </tr>\n",
       "    <tr>\n",
       "      <th>183</th>\n",
       "      <td>DONE</td>\n",
       "      <td>184</td>\n",
       "      <td>{'cnt': '184', 'OPENDATA_ID': '164', 'GNG_CS':...</td>\n",
       "    </tr>\n",
       "  </tbody>\n",
       "</table>\n",
       "<p>184 rows × 3 columns</p>\n",
       "</div>"
      ],
      "text/plain": [
       "    status  total                                               data\n",
       "0     DONE    184  {'cnt': '1', 'OPENDATA_ID': '1816', 'GNG_CS': ...\n",
       "1     DONE    184  {'cnt': '2', 'OPENDATA_ID': '1810', 'GNG_CS': ...\n",
       "2     DONE    184  {'cnt': '3', 'OPENDATA_ID': '1807', 'GNG_CS': ...\n",
       "3     DONE    184  {'cnt': '4', 'OPENDATA_ID': '1806', 'GNG_CS': ...\n",
       "4     DONE    184  {'cnt': '5', 'OPENDATA_ID': '1805', 'GNG_CS': ...\n",
       "..     ...    ...                                                ...\n",
       "179   DONE    184  {'cnt': '180', 'OPENDATA_ID': '171', 'GNG_CS':...\n",
       "180   DONE    184  {'cnt': '181', 'OPENDATA_ID': '167', 'GNG_CS':...\n",
       "181   DONE    184  {'cnt': '182', 'OPENDATA_ID': '166', 'GNG_CS':...\n",
       "182   DONE    184  {'cnt': '183', 'OPENDATA_ID': '165', 'GNG_CS':...\n",
       "183   DONE    184  {'cnt': '184', 'OPENDATA_ID': '164', 'GNG_CS':...\n",
       "\n",
       "[184 rows x 3 columns]"
      ]
     },
     "execution_count": 4,
     "metadata": {},
     "output_type": "execute_result"
    }
   ],
   "source": [
    "onebone=pd.read_json(file)\n",
    "onebone"
   ]
  },
  {
   "cell_type": "code",
   "execution_count": 12,
   "id": "5dbf2c38-5496-43e6-91fb-de3ab004282b",
   "metadata": {},
   "outputs": [
    {
     "ename": "ValueError",
     "evalue": "No axis named 없음 for object type DataFrame",
     "output_type": "error",
     "traceback": [
      "\u001b[1;31m---------------------------------------------------------------------------\u001b[0m",
      "\u001b[1;31mKeyError\u001b[0m                                  Traceback (most recent call last)",
      "File \u001b[1;32mE:\\user\\administrator\\anaconda3\\envs\\My_38\\lib\\site-packages\\pandas\\core\\generic.py:513\u001b[0m, in \u001b[0;36mNDFrame._get_axis_number\u001b[1;34m(cls, axis)\u001b[0m\n\u001b[0;32m    512\u001b[0m \u001b[38;5;28;01mtry\u001b[39;00m:\n\u001b[1;32m--> 513\u001b[0m     \u001b[38;5;28;01mreturn\u001b[39;00m \u001b[38;5;28;43mcls\u001b[39;49m\u001b[38;5;241;43m.\u001b[39;49m\u001b[43m_AXIS_TO_AXIS_NUMBER\u001b[49m\u001b[43m[\u001b[49m\u001b[43maxis\u001b[49m\u001b[43m]\u001b[49m\n\u001b[0;32m    514\u001b[0m \u001b[38;5;28;01mexcept\u001b[39;00m \u001b[38;5;167;01mKeyError\u001b[39;00m:\n",
      "\u001b[1;31mKeyError\u001b[0m: '없음'",
      "\nDuring handling of the above exception, another exception occurred:\n",
      "\u001b[1;31mValueError\u001b[0m                                Traceback (most recent call last)",
      "Cell \u001b[1;32mIn[12], line 3\u001b[0m\n\u001b[0;32m      1\u001b[0m data1\u001b[38;5;241m=\u001b[39mpd\u001b[38;5;241m.\u001b[39mjson_normalize(onebone[\u001b[38;5;124m'\u001b[39m\u001b[38;5;124mdata\u001b[39m\u001b[38;5;124m'\u001b[39m])\n\u001b[0;32m      2\u001b[0m data1\u001b[38;5;241m.\u001b[39mset_index(\u001b[38;5;124m'\u001b[39m\u001b[38;5;124mcnt\u001b[39m\u001b[38;5;124m'\u001b[39m,inplace\u001b[38;5;241m=\u001b[39m\u001b[38;5;28;01mTrue\u001b[39;00m)\n\u001b[1;32m----> 3\u001b[0m \u001b[43mdata1\u001b[49m\u001b[38;5;241;43m.\u001b[39;49m\u001b[43mcount\u001b[49m\u001b[43m(\u001b[49m\u001b[38;5;124;43m'\u001b[39;49m\u001b[38;5;124;43m없음\u001b[39;49m\u001b[38;5;124;43m'\u001b[39;49m\u001b[43m)\u001b[49m\n",
      "File \u001b[1;32mE:\\user\\administrator\\anaconda3\\envs\\My_38\\lib\\site-packages\\pandas\\core\\frame.py:10428\u001b[0m, in \u001b[0;36mDataFrame.count\u001b[1;34m(self, axis, numeric_only)\u001b[0m\n\u001b[0;32m  10364\u001b[0m \u001b[38;5;28;01mdef\u001b[39;00m \u001b[38;5;21mcount\u001b[39m(\u001b[38;5;28mself\u001b[39m, axis: Axis \u001b[38;5;241m=\u001b[39m \u001b[38;5;241m0\u001b[39m, numeric_only: \u001b[38;5;28mbool\u001b[39m \u001b[38;5;241m=\u001b[39m \u001b[38;5;28;01mFalse\u001b[39;00m):\n\u001b[0;32m  10365\u001b[0m \u001b[38;5;250m    \u001b[39m\u001b[38;5;124;03m\"\"\"\u001b[39;00m\n\u001b[0;32m  10366\u001b[0m \u001b[38;5;124;03m    Count non-NA cells for each column or row.\u001b[39;00m\n\u001b[0;32m  10367\u001b[0m \n\u001b[1;32m   (...)\u001b[0m\n\u001b[0;32m  10426\u001b[0m \u001b[38;5;124;03m    dtype: int64\u001b[39;00m\n\u001b[0;32m  10427\u001b[0m \u001b[38;5;124;03m    \"\"\"\u001b[39;00m\n\u001b[1;32m> 10428\u001b[0m     axis \u001b[38;5;241m=\u001b[39m \u001b[38;5;28;43mself\u001b[39;49m\u001b[38;5;241;43m.\u001b[39;49m\u001b[43m_get_axis_number\u001b[49m\u001b[43m(\u001b[49m\u001b[43maxis\u001b[49m\u001b[43m)\u001b[49m\n\u001b[0;32m  10430\u001b[0m     \u001b[38;5;28;01mif\u001b[39;00m numeric_only:\n\u001b[0;32m  10431\u001b[0m         frame \u001b[38;5;241m=\u001b[39m \u001b[38;5;28mself\u001b[39m\u001b[38;5;241m.\u001b[39m_get_numeric_data()\n",
      "File \u001b[1;32mE:\\user\\administrator\\anaconda3\\envs\\My_38\\lib\\site-packages\\pandas\\core\\generic.py:515\u001b[0m, in \u001b[0;36mNDFrame._get_axis_number\u001b[1;34m(cls, axis)\u001b[0m\n\u001b[0;32m    513\u001b[0m     \u001b[38;5;28;01mreturn\u001b[39;00m \u001b[38;5;28mcls\u001b[39m\u001b[38;5;241m.\u001b[39m_AXIS_TO_AXIS_NUMBER[axis]\n\u001b[0;32m    514\u001b[0m \u001b[38;5;28;01mexcept\u001b[39;00m \u001b[38;5;167;01mKeyError\u001b[39;00m:\n\u001b[1;32m--> 515\u001b[0m     \u001b[38;5;28;01mraise\u001b[39;00m \u001b[38;5;167;01mValueError\u001b[39;00m(\u001b[38;5;124mf\u001b[39m\u001b[38;5;124m\"\u001b[39m\u001b[38;5;124mNo axis named \u001b[39m\u001b[38;5;132;01m{\u001b[39;00maxis\u001b[38;5;132;01m}\u001b[39;00m\u001b[38;5;124m for object type \u001b[39m\u001b[38;5;132;01m{\u001b[39;00m\u001b[38;5;28mcls\u001b[39m\u001b[38;5;241m.\u001b[39m\u001b[38;5;18m__name__\u001b[39m\u001b[38;5;132;01m}\u001b[39;00m\u001b[38;5;124m\"\u001b[39m)\n",
      "\u001b[1;31mValueError\u001b[0m: No axis named 없음 for object type DataFrame"
     ]
    }
   ],
   "source": [
    "data1=pd.json_normalize(onebone['data'])\n",
    "data1.set_index('cnt',inplace=True)\n",
    "data1.count('없음')"
   ]
  },
  {
   "cell_type": "code",
   "execution_count": null,
   "id": "31a8211c-372e-4ea7-b776-b63ff4761b3b",
   "metadata": {},
   "outputs": [],
   "source": []
  }
 ],
 "metadata": {
  "kernelspec": {
   "display_name": "Python 3 (ipykernel)",
   "language": "python",
   "name": "python3"
  },
  "language_info": {
   "codemirror_mode": {
    "name": "ipython",
    "version": 3
   },
   "file_extension": ".py",
   "mimetype": "text/x-python",
   "name": "python",
   "nbconvert_exporter": "python",
   "pygments_lexer": "ipython3",
   "version": "3.8.18"
  }
 },
 "nbformat": 4,
 "nbformat_minor": 5
}
