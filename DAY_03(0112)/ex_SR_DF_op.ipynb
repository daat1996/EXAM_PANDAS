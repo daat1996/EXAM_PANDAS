{
 "cells": [
  {
   "cell_type": "markdown",
   "id": "e72c08fb-7cbe-4dc0-be3f-0e9285f20607",
   "metadata": {},
   "source": [
    "## [ Series 데이터 연산]"
   ]
  },
  {
   "cell_type": "markdown",
   "id": "f77b878c-75d3-47e5-983b-81f034fe091d",
   "metadata": {},
   "source": [
    "- (1) 모듈 로딩 <hr>"
   ]
  },
  {
   "cell_type": "code",
   "execution_count": 60,
   "id": "0bc9c47e-bd10-465b-9168-563921ba492f",
   "metadata": {},
   "outputs": [],
   "source": [
    "import pandas as pd\n",
    "import numpy as np                        # import math as m  ==> m.nan 도 같다(빈칸data를 위해 만듬)"
   ]
  },
  {
   "cell_type": "markdown",
   "id": "b0ed619c-a82f-4a9a-ba41-cef63363df5c",
   "metadata": {},
   "source": [
    "- (2) 데이터 준비 <hr>"
   ]
  },
  {
   "cell_type": "code",
   "execution_count": 114,
   "id": "dc84498a-449e-4e2a-8b86-eed2a63305fd",
   "metadata": {},
   "outputs": [],
   "source": [
    "data=[5, 7, np.nan, 9, 11]      # 1차원 데이터\n",
    "data1=[5, 7, 8, 9, 11]"
   ]
  },
  {
   "cell_type": "markdown",
   "id": "32a400c9-745a-417b-8cf3-ef71a56612a2",
   "metadata": {},
   "source": [
    "- (3) 데이터 저장 => 1차원 데이터로 Series에 저장"
   ]
  },
  {
   "cell_type": "code",
   "execution_count": 115,
   "id": "ee54387a-ec7f-4036-aced-ebe0345e96d7",
   "metadata": {},
   "outputs": [],
   "source": [
    "sr=pd.Series(data)"
   ]
  },
  {
   "cell_type": "markdown",
   "id": "acecee30-20ef-4d79-8a82-b29cd3428c51",
   "metadata": {},
   "source": [
    "- (4) 데이터 확인"
   ]
  },
  {
   "cell_type": "code",
   "execution_count": 116,
   "id": "d1dab360-9282-4731-b460-6ad59e46595e",
   "metadata": {},
   "outputs": [
    {
     "data": {
      "text/plain": [
       "(RangeIndex(start=0, stop=5, step=1), (5,), 1, dtype('float64'), 5)"
      ]
     },
     "execution_count": 116,
     "metadata": {},
     "output_type": "execute_result"
    }
   ],
   "source": [
    "sr.index, sr.shape, sr.ndim, sr.dtypes, sr.size          # nan 때문에 전부 실수로 묶임"
   ]
  },
  {
   "cell_type": "code",
   "execution_count": 117,
   "id": "ffc7beb2-1e6b-44e1-bb93-2c0b0957bcc2",
   "metadata": {},
   "outputs": [
    {
     "data": {
      "text/plain": [
       "array([ 5.,  7., nan,  9., 11.])"
      ]
     },
     "execution_count": 117,
     "metadata": {},
     "output_type": "execute_result"
    }
   ],
   "source": [
    "sr.values"
   ]
  },
  {
   "cell_type": "code",
   "execution_count": 118,
   "id": "1a243319-196b-4ce5-9843-ed658bf95499",
   "metadata": {},
   "outputs": [
    {
     "data": {
      "text/plain": [
       "True"
      ]
     },
     "execution_count": 118,
     "metadata": {},
     "output_type": "execute_result"
    }
   ],
   "source": [
    "sr.is_unique"
   ]
  },
  {
   "cell_type": "code",
   "execution_count": 120,
   "id": "4976843a-5403-4e91-b314-b633ce99c5bc",
   "metadata": {},
   "outputs": [],
   "source": [
    "sr0=pd.Series(data1)"
   ]
  },
  {
   "cell_type": "code",
   "execution_count": 122,
   "id": "7513c69f-74aa-4746-9e30-cdf13d36dd5e",
   "metadata": {},
   "outputs": [
    {
     "data": {
      "text/plain": [
       "True"
      ]
     },
     "execution_count": 122,
     "metadata": {},
     "output_type": "execute_result"
    }
   ],
   "source": [
    "sr0.is_monotonic_increasing"
   ]
  },
  {
   "cell_type": "code",
   "execution_count": 124,
   "id": "1f16387a-bfe8-4a6e-ad05-c9824009b3d8",
   "metadata": {},
   "outputs": [
    {
     "data": {
      "text/plain": [
       "4"
      ]
     },
     "execution_count": 124,
     "metadata": {},
     "output_type": "execute_result"
    }
   ],
   "source": [
    "sr.count()                   # nan이 아닌것만 count"
   ]
  },
  {
   "cell_type": "code",
   "execution_count": 126,
   "id": "cf472c92-b1d5-447b-b712-b3e734a7d440",
   "metadata": {},
   "outputs": [
    {
     "data": {
      "text/plain": [
       "32.0"
      ]
     },
     "execution_count": 126,
     "metadata": {},
     "output_type": "execute_result"
    }
   ],
   "source": [
    "sr.sum()                   # skipna = True라 NA가 빠진다."
   ]
  },
  {
   "cell_type": "code",
   "execution_count": 128,
   "id": "e788791f-e183-4568-9361-0846a8d396a6",
   "metadata": {},
   "outputs": [
    {
     "data": {
      "text/plain": [
       "nan"
      ]
     },
     "execution_count": 128,
     "metadata": {},
     "output_type": "execute_result"
    }
   ],
   "source": [
    "sr.sum(skipna=False)"
   ]
  },
  {
   "cell_type": "code",
   "execution_count": null,
   "id": "4c8146f8-92a0-4145-b448-052e230956cf",
   "metadata": {},
   "outputs": [],
   "source": []
  },
  {
   "cell_type": "code",
   "execution_count": null,
   "id": "05b2fdbc-2519-41dd-afed-cf38d9a14ed4",
   "metadata": {},
   "outputs": [],
   "source": []
  },
  {
   "cell_type": "code",
   "execution_count": null,
   "id": "208c51eb-02d5-4c5d-b6d2-3431972db2ed",
   "metadata": {},
   "outputs": [],
   "source": []
  },
  {
   "cell_type": "code",
   "execution_count": null,
   "id": "8b37589c-6260-4a09-a6dd-5a28c04ca4a7",
   "metadata": {},
   "outputs": [],
   "source": []
  },
  {
   "cell_type": "markdown",
   "id": "8184956c-b674-45a7-a6ff-b27c31d061f6",
   "metadata": {},
   "source": [
    "- (5) 연산 수행 => Series 객체 - 연산자 - 숫자"
   ]
  },
  {
   "cell_type": "code",
   "execution_count": 65,
   "id": "c06e7e53-9f93-4aba-b1d2-81cda3e7cabc",
   "metadata": {},
   "outputs": [
    {
     "data": {
      "text/plain": [
       "0    10.0\n",
       "1    12.0\n",
       "2     NaN\n",
       "3    14.0\n",
       "4    16.0\n",
       "dtype: float64"
      ]
     },
     "execution_count": 65,
     "metadata": {},
     "output_type": "execute_result"
    }
   ],
   "source": [
    "sr + 5"
   ]
  },
  {
   "cell_type": "code",
   "execution_count": 66,
   "id": "ff96a990-ffc1-484f-8593-9c0e537a2b81",
   "metadata": {},
   "outputs": [
    {
     "data": {
      "text/plain": [
       "0    0.0\n",
       "1    2.0\n",
       "2    NaN\n",
       "3    4.0\n",
       "4    6.0\n",
       "dtype: float64"
      ]
     },
     "execution_count": 66,
     "metadata": {},
     "output_type": "execute_result"
    }
   ],
   "source": [
    "sr - 5"
   ]
  },
  {
   "cell_type": "code",
   "execution_count": 67,
   "id": "a0263f11-2a60-42e8-ac57-61591fb31472",
   "metadata": {},
   "outputs": [
    {
     "data": {
      "text/plain": [
       "0    25.0\n",
       "1    35.0\n",
       "2     NaN\n",
       "3    45.0\n",
       "4    55.0\n",
       "dtype: float64"
      ]
     },
     "execution_count": 67,
     "metadata": {},
     "output_type": "execute_result"
    }
   ],
   "source": [
    "sr * 5"
   ]
  },
  {
   "cell_type": "code",
   "execution_count": 68,
   "id": "e4d1359b-0f35-4c19-85b6-2f659fa09503",
   "metadata": {},
   "outputs": [
    {
     "data": {
      "text/plain": [
       "0    1.0\n",
       "1    1.4\n",
       "2    NaN\n",
       "3    1.8\n",
       "4    2.2\n",
       "dtype: float64"
      ]
     },
     "execution_count": 68,
     "metadata": {},
     "output_type": "execute_result"
    }
   ],
   "source": [
    "sr / 5"
   ]
  },
  {
   "cell_type": "code",
   "execution_count": 69,
   "id": "bab5eb08-4ab4-467e-af83-f7358cab818d",
   "metadata": {},
   "outputs": [
    {
     "data": {
      "text/plain": [
       "0    1.0\n",
       "1    1.0\n",
       "2    NaN\n",
       "3    1.0\n",
       "4    2.0\n",
       "dtype: float64"
      ]
     },
     "execution_count": 69,
     "metadata": {},
     "output_type": "execute_result"
    }
   ],
   "source": [
    "sr //5"
   ]
  },
  {
   "cell_type": "code",
   "execution_count": 70,
   "id": "96eed640-85fc-4df2-9741-54d7b89d6a77",
   "metadata": {},
   "outputs": [
    {
     "data": {
      "text/plain": [
       "0    0.0\n",
       "1    2.0\n",
       "2    NaN\n",
       "3    4.0\n",
       "4    1.0\n",
       "dtype: float64"
      ]
     },
     "execution_count": 70,
     "metadata": {},
     "output_type": "execute_result"
    }
   ],
   "source": [
    "sr % 5"
   ]
  },
  {
   "cell_type": "code",
   "execution_count": 71,
   "id": "8debbf1f-e0fb-4d5f-9886-fdb1620eb893",
   "metadata": {},
   "outputs": [
    {
     "data": {
      "text/plain": [
       "0    False\n",
       "1     True\n",
       "2    False\n",
       "3     True\n",
       "4     True\n",
       "dtype: bool"
      ]
     },
     "execution_count": 71,
     "metadata": {},
     "output_type": "execute_result"
    }
   ],
   "source": [
    "sr > 5"
   ]
  },
  {
   "cell_type": "code",
   "execution_count": 72,
   "id": "6dedfad1-48a9-4503-b8ef-311884940a0c",
   "metadata": {},
   "outputs": [
    {
     "data": {
      "text/plain": [
       "0    False\n",
       "1    False\n",
       "2    False\n",
       "3    False\n",
       "4    False\n",
       "dtype: bool"
      ]
     },
     "execution_count": 72,
     "metadata": {},
     "output_type": "execute_result"
    }
   ],
   "source": [
    "sr < 5"
   ]
  },
  {
   "cell_type": "markdown",
   "id": "0687c46d-61a2-433c-8609-89ad1b8d7db2",
   "metadata": {},
   "source": [
    "- 논리연산 => & : and 연산,  | : or연산,  ~ : not연산"
   ]
  },
  {
   "cell_type": "code",
   "execution_count": 73,
   "id": "1a1ad01e-ec2b-45b6-9192-a13a43e6cab3",
   "metadata": {},
   "outputs": [
    {
     "data": {
      "text/plain": [
       "0    False\n",
       "1     True\n",
       "2    False\n",
       "3     True\n",
       "4    False\n",
       "dtype: bool"
      ]
     },
     "execution_count": 73,
     "metadata": {},
     "output_type": "execute_result"
    }
   ],
   "source": [
    "# and 연산자 대신 &사용\n",
    "(sr > 5) & (sr < 10)"
   ]
  },
  {
   "cell_type": "code",
   "execution_count": 74,
   "id": "ff24cf05-5097-42b1-aca2-d01d097e5ab8",
   "metadata": {},
   "outputs": [
    {
     "data": {
      "text/plain": [
       "0     True\n",
       "1     True\n",
       "2    False\n",
       "3     True\n",
       "4     True\n",
       "dtype: bool"
      ]
     },
     "execution_count": 74,
     "metadata": {},
     "output_type": "execute_result"
    }
   ],
   "source": [
    "# or 연산자 대신 |사용\n",
    "(sr > 5) | (sr < 10)"
   ]
  },
  {
   "cell_type": "code",
   "execution_count": 75,
   "id": "ea8a161b-da4d-4f15-9111-f007a9ec0a91",
   "metadata": {},
   "outputs": [
    {
     "name": "stdout",
     "output_type": "stream",
     "text": [
      "0     True\n",
      "1    False\n",
      "2     True\n",
      "3    False\n",
      "4    False\n",
      "dtype: bool\n",
      "\n",
      "0     True\n",
      "1     True\n",
      "2    False\n",
      "3     True\n",
      "4    False\n",
      "dtype: bool\n"
     ]
    }
   ],
   "source": [
    "# not 연산자 대신 ~사용\n",
    "print(~(sr > 5) , (sr < 10), sep='\\n\\n')"
   ]
  },
  {
   "cell_type": "markdown",
   "id": "5939e6f8-c673-44ec-9018-48239bd22fbe",
   "metadata": {},
   "source": [
    "- (5) 연산 수행 => Series 객체 + Series 객체"
   ]
  },
  {
   "cell_type": "code",
   "execution_count": 76,
   "id": "55a4cf6a-9639-4c61-b8d2-c161fefe417c",
   "metadata": {},
   "outputs": [],
   "source": [
    "data2=[2, 4, 6, 8, 9]\n",
    "sr2 = pd.Series(data2)"
   ]
  },
  {
   "cell_type": "code",
   "execution_count": 77,
   "id": "51ba817e-9fe8-4a36-b5fb-3d3bb66b2a33",
   "metadata": {},
   "outputs": [
    {
     "name": "stdout",
     "output_type": "stream",
     "text": [
      "0     7.0\n",
      "1    11.0\n",
      "2     NaN\n",
      "3    17.0\n",
      "4    20.0\n",
      "dtype: float64\n",
      "\n",
      "0    3.0\n",
      "1    3.0\n",
      "2    NaN\n",
      "3    1.0\n",
      "4    2.0\n",
      "dtype: float64\n",
      "\n",
      "0    10.0\n",
      "1    28.0\n",
      "2     NaN\n",
      "3    72.0\n",
      "4    99.0\n",
      "dtype: float64\n",
      "\n",
      "0    2.500000\n",
      "1    1.750000\n",
      "2         NaN\n",
      "3    1.125000\n",
      "4    1.222222\n",
      "dtype: float64\n",
      "\n",
      "0    2.0\n",
      "1    1.0\n",
      "2    NaN\n",
      "3    1.0\n",
      "4    1.0\n",
      "dtype: float64\n",
      "\n",
      "0    1.0\n",
      "1    3.0\n",
      "2    NaN\n",
      "3    1.0\n",
      "4    2.0\n",
      "dtype: float64\n"
     ]
    }
   ],
   "source": [
    "print(sr + sr2, sr-sr2, sr*sr2, sr/sr2, sr//sr2, sr%sr2, sep='\\n\\n')"
   ]
  },
  {
   "cell_type": "code",
   "execution_count": 78,
   "id": "cce455c3-3598-471a-b3e5-0c888dee8928",
   "metadata": {},
   "outputs": [
    {
     "name": "stdout",
     "output_type": "stream",
     "text": [
      "0     True\n",
      "1     True\n",
      "2    False\n",
      "3     True\n",
      "4     True\n",
      "dtype: bool\n",
      "\n",
      "0    False\n",
      "1    False\n",
      "2    False\n",
      "3    False\n",
      "4    False\n",
      "dtype: bool\n"
     ]
    }
   ],
   "source": [
    "print(sr > sr2, sr<sr2, sep='\\n\\n')"
   ]
  },
  {
   "cell_type": "code",
   "execution_count": 79,
   "id": "ba2f84ca-2f4c-42b6-9e84-d5d731260dbd",
   "metadata": {},
   "outputs": [
    {
     "data": {
      "text/plain": [
       "2    2\n",
       "3    4\n",
       "4    6\n",
       "5    8\n",
       "6    9\n",
       "dtype: int64"
      ]
     },
     "execution_count": 79,
     "metadata": {},
     "output_type": "execute_result"
    }
   ],
   "source": [
    "sr2.index=[2,3,4,5,6]\n",
    "sr2"
   ]
  },
  {
   "cell_type": "code",
   "execution_count": 80,
   "id": "14e604cc-38d1-467d-b4f5-0bd62c7b2891",
   "metadata": {},
   "outputs": [
    {
     "name": "stdout",
     "output_type": "stream",
     "text": [
      "0     NaN\n",
      "1     NaN\n",
      "2     NaN\n",
      "3    13.0\n",
      "4    17.0\n",
      "5     NaN\n",
      "6     NaN\n",
      "dtype: float64\n",
      "\n",
      "0    NaN\n",
      "1    NaN\n",
      "2    NaN\n",
      "3    5.0\n",
      "4    5.0\n",
      "5    NaN\n",
      "6    NaN\n",
      "dtype: float64\n",
      "\n",
      "0     NaN\n",
      "1     NaN\n",
      "2     NaN\n",
      "3    36.0\n",
      "4    66.0\n",
      "5     NaN\n",
      "6     NaN\n",
      "dtype: float64\n",
      "\n",
      "0         NaN\n",
      "1         NaN\n",
      "2         NaN\n",
      "3    2.250000\n",
      "4    1.833333\n",
      "5         NaN\n",
      "6         NaN\n",
      "dtype: float64\n",
      "\n",
      "0    NaN\n",
      "1    NaN\n",
      "2    NaN\n",
      "3    2.0\n",
      "4    1.0\n",
      "5    NaN\n",
      "6    NaN\n",
      "dtype: float64\n",
      "\n",
      "0    NaN\n",
      "1    NaN\n",
      "2    NaN\n",
      "3    1.0\n",
      "4    5.0\n",
      "5    NaN\n",
      "6    NaN\n",
      "dtype: float64\n"
     ]
    }
   ],
   "source": [
    "print(sr + sr2, sr-sr2, sr*sr2, sr/sr2, sr//sr2, sr%sr2, sep='\\n\\n')"
   ]
  },
  {
   "cell_type": "code",
   "execution_count": 81,
   "id": "8676c82a-2df0-406b-b55b-4b1bf21aecaf",
   "metadata": {},
   "outputs": [
    {
     "name": "stdout",
     "output_type": "stream",
     "text": [
      "   index  0\n",
      "0      2  2\n",
      "1      3  4\n",
      "2      4  6\n",
      "3      5  8\n",
      "4      6  9\n",
      "\n",
      "0    2\n",
      "1    4\n",
      "2    6\n",
      "3    8\n",
      "4    9\n",
      "dtype: int64\n"
     ]
    }
   ],
   "source": [
    "print(sr2.reset_index(), sr2.reset_index(drop=True), sep='\\n\\n')"
   ]
  },
  {
   "cell_type": "markdown",
   "id": "a8dc7080-f2d2-4ec6-b91d-69e802db3694",
   "metadata": {},
   "source": [
    "- (5) Series 연산수행 => 전용 메서드             fill_value 로 빈 자리를 채울 수 있다."
   ]
  },
  {
   "cell_type": "code",
   "execution_count": 82,
   "id": "d95fd54e-c896-46d7-81ac-20fe858d1588",
   "metadata": {},
   "outputs": [
    {
     "name": "stdout",
     "output_type": "stream",
     "text": [
      "0    10.0\n",
      "1    12.0\n",
      "2     NaN\n",
      "3    14.0\n",
      "4    16.0\n",
      "dtype: float64\n",
      "\n",
      "0    10.0\n",
      "1    12.0\n",
      "2     5.0\n",
      "3    14.0\n",
      "4    16.0\n",
      "dtype: float64\n"
     ]
    }
   ],
   "source": [
    "print(sr.add(5), sr.add(5, fill_value=0), sep='\\n\\n')"
   ]
  },
  {
   "cell_type": "code",
   "execution_count": 83,
   "id": "bc49299b-4098-40b3-a1b7-48a344c2f668",
   "metadata": {},
   "outputs": [
    {
     "name": "stdout",
     "output_type": "stream",
     "text": [
      "0    0.0\n",
      "1    2.0\n",
      "2    NaN\n",
      "3    4.0\n",
      "4    6.0\n",
      "dtype: float64\n",
      "\n",
      "0    0.0\n",
      "1    2.0\n",
      "2   -5.0\n",
      "3    4.0\n",
      "4    6.0\n",
      "dtype: float64\n"
     ]
    }
   ],
   "source": [
    "print(sr.sub(5), sr.sub(5, fill_value=0), sep='\\n\\n')"
   ]
  },
  {
   "cell_type": "code",
   "execution_count": 84,
   "id": "ca9ec4e5-34b2-431e-913d-7e4895098c00",
   "metadata": {},
   "outputs": [
    {
     "name": "stdout",
     "output_type": "stream",
     "text": [
      "0     NaN\n",
      "1     NaN\n",
      "2     NaN\n",
      "3    13.0\n",
      "4    17.0\n",
      "5     NaN\n",
      "6     NaN\n",
      "dtype: float64\n",
      "\n",
      "0     5.0\n",
      "1     7.0\n",
      "2     2.0\n",
      "3    13.0\n",
      "4    17.0\n",
      "5     8.0\n",
      "6     9.0\n",
      "dtype: float64\n"
     ]
    }
   ],
   "source": [
    "print(sr.add(sr2), sr.add(sr2, fill_value=0), sep='\\n\\n')"
   ]
  },
  {
   "cell_type": "code",
   "execution_count": 85,
   "id": "12bc8e4b-cde7-48e3-a0ea-fe74d23fab8a",
   "metadata": {},
   "outputs": [],
   "source": [
    "addSR=sr.add(sr2, fill_value=0)\n",
    "subSR=sr.sub(sr2, fill_value=0)\n",
    "mulSR=sr.mul(sr2, fill_value=0)\n",
    "divSR=sr.div(sr2, fill_value=0)"
   ]
  },
  {
   "cell_type": "code",
   "execution_count": 86,
   "id": "da48e9f0-276f-4a5c-9cd3-abb58a4c5e7e",
   "metadata": {
    "scrolled": true
   },
   "outputs": [
    {
     "data": {
      "text/plain": [
       "(0     5.0\n",
       " 1     7.0\n",
       " 2     2.0\n",
       " 3    13.0\n",
       " 4    17.0\n",
       " 5     8.0\n",
       " 6     9.0\n",
       " dtype: float64,\n",
       " 0    5.0\n",
       " 1    7.0\n",
       " 2   -2.0\n",
       " 3    5.0\n",
       " 4    5.0\n",
       " 5   -8.0\n",
       " 6   -9.0\n",
       " dtype: float64,\n",
       " 0     0.0\n",
       " 1     0.0\n",
       " 2     0.0\n",
       " 3    36.0\n",
       " 4    66.0\n",
       " 5     0.0\n",
       " 6     0.0\n",
       " dtype: float64,\n",
       " 0         inf\n",
       " 1         inf\n",
       " 2    0.000000\n",
       " 3    2.250000\n",
       " 4    1.833333\n",
       " 5    0.000000\n",
       " 6    0.000000\n",
       " dtype: float64)"
      ]
     },
     "execution_count": 86,
     "metadata": {},
     "output_type": "execute_result"
    }
   ],
   "source": [
    "addSR, subSR, mulSR, divSR"
   ]
  },
  {
   "cell_type": "markdown",
   "id": "b646f51c-e8a0-426c-b62b-1c66ffa970fd",
   "metadata": {},
   "source": [
    "- (6) DataFrame 연산수행"
   ]
  },
  {
   "cell_type": "code",
   "execution_count": 87,
   "id": "8f66b8ce-9ebc-48c5-bccc-167a9cb34801",
   "metadata": {},
   "outputs": [],
   "source": [
    "df=pd.DataFrame([addSR, subSR, mulSR, divSR], index=['add','sub','mul','div'])"
   ]
  },
  {
   "cell_type": "code",
   "execution_count": 88,
   "id": "4afd2448-9329-4cd2-bbd7-d0badc131b25",
   "metadata": {},
   "outputs": [
    {
     "data": {
      "text/html": [
       "<div>\n",
       "<style scoped>\n",
       "    .dataframe tbody tr th:only-of-type {\n",
       "        vertical-align: middle;\n",
       "    }\n",
       "\n",
       "    .dataframe tbody tr th {\n",
       "        vertical-align: top;\n",
       "    }\n",
       "\n",
       "    .dataframe thead th {\n",
       "        text-align: right;\n",
       "    }\n",
       "</style>\n",
       "<table border=\"1\" class=\"dataframe\">\n",
       "  <thead>\n",
       "    <tr style=\"text-align: right;\">\n",
       "      <th></th>\n",
       "      <th>0</th>\n",
       "      <th>1</th>\n",
       "      <th>2</th>\n",
       "      <th>3</th>\n",
       "      <th>4</th>\n",
       "      <th>5</th>\n",
       "      <th>6</th>\n",
       "    </tr>\n",
       "  </thead>\n",
       "  <tbody>\n",
       "    <tr>\n",
       "      <th>add</th>\n",
       "      <td>5.0</td>\n",
       "      <td>7.0</td>\n",
       "      <td>2.0</td>\n",
       "      <td>13.00</td>\n",
       "      <td>17.000000</td>\n",
       "      <td>8.0</td>\n",
       "      <td>9.0</td>\n",
       "    </tr>\n",
       "    <tr>\n",
       "      <th>sub</th>\n",
       "      <td>5.0</td>\n",
       "      <td>7.0</td>\n",
       "      <td>-2.0</td>\n",
       "      <td>5.00</td>\n",
       "      <td>5.000000</td>\n",
       "      <td>-8.0</td>\n",
       "      <td>-9.0</td>\n",
       "    </tr>\n",
       "    <tr>\n",
       "      <th>mul</th>\n",
       "      <td>0.0</td>\n",
       "      <td>0.0</td>\n",
       "      <td>0.0</td>\n",
       "      <td>36.00</td>\n",
       "      <td>66.000000</td>\n",
       "      <td>0.0</td>\n",
       "      <td>0.0</td>\n",
       "    </tr>\n",
       "    <tr>\n",
       "      <th>div</th>\n",
       "      <td>inf</td>\n",
       "      <td>inf</td>\n",
       "      <td>0.0</td>\n",
       "      <td>2.25</td>\n",
       "      <td>1.833333</td>\n",
       "      <td>0.0</td>\n",
       "      <td>0.0</td>\n",
       "    </tr>\n",
       "  </tbody>\n",
       "</table>\n",
       "</div>"
      ],
      "text/plain": [
       "       0    1    2      3          4    5    6\n",
       "add  5.0  7.0  2.0  13.00  17.000000  8.0  9.0\n",
       "sub  5.0  7.0 -2.0   5.00   5.000000 -8.0 -9.0\n",
       "mul  0.0  0.0  0.0  36.00  66.000000  0.0  0.0\n",
       "div  inf  inf  0.0   2.25   1.833333  0.0  0.0"
      ]
     },
     "execution_count": 88,
     "metadata": {},
     "output_type": "execute_result"
    }
   ],
   "source": [
    "df"
   ]
  },
  {
   "cell_type": "markdown",
   "id": "ec7485a9-be47-4216-a293-cffae8361e9c",
   "metadata": {},
   "source": [
    "- DataFrame과 숫자 연산 수행"
   ]
  },
  {
   "cell_type": "code",
   "execution_count": 89,
   "id": "dcd7722e-32ee-4fdc-9082-50feab548945",
   "metadata": {},
   "outputs": [
    {
     "name": "stdout",
     "output_type": "stream",
     "text": [
      "        0     1    2      3          4     5     6\n",
      "add  10.0  12.0  7.0  18.00  22.000000  13.0  14.0\n",
      "sub  10.0  12.0  3.0  10.00  10.000000  -3.0  -4.0\n",
      "mul   5.0   5.0  5.0  41.00  71.000000   5.0   5.0\n",
      "div   inf   inf  5.0   7.25   6.833333   5.0   5.0\n",
      "\n",
      "       0    1    2      3          4     5     6\n",
      "add  0.0  2.0 -3.0   8.00  12.000000   3.0   4.0\n",
      "sub  0.0  2.0 -7.0   0.00   0.000000 -13.0 -14.0\n",
      "mul -5.0 -5.0 -5.0  31.00  61.000000  -5.0  -5.0\n",
      "div  inf  inf -5.0  -2.75  -3.166667  -5.0  -5.0\n"
     ]
    }
   ],
   "source": [
    "print(df+5, df-5, sep='\\n\\n')"
   ]
  },
  {
   "cell_type": "code",
   "execution_count": 90,
   "id": "9436ebb8-f2b8-4e41-9a7a-dc351ff32e4e",
   "metadata": {},
   "outputs": [
    {
     "name": "stdout",
     "output_type": "stream",
     "text": [
      "         0      1      2      3      4      5      6\n",
      "add  False   True  False   True   True   True   True\n",
      "sub  False   True  False  False  False  False  False\n",
      "mul  False  False  False   True   True  False  False\n",
      "div   True   True  False  False  False  False  False\n",
      "\n",
      "         0      1     2      3      4      5      6\n",
      "add  False  False  True  False  False  False  False\n",
      "sub  False  False  True  False  False   True   True\n",
      "mul   True   True  True  False  False   True   True\n",
      "div  False  False  True   True   True   True   True\n"
     ]
    }
   ],
   "source": [
    "print(df>5, df<5, sep='\\n\\n')"
   ]
  },
  {
   "cell_type": "markdown",
   "id": "167d7594-87a7-48d3-afd0-f8bbdac64649",
   "metadata": {},
   "source": [
    "- DataFrame과 DataFrame 연산 수행 => 동일 위치에 원소끼리 연산 수행"
   ]
  },
  {
   "cell_type": "code",
   "execution_count": 91,
   "id": "118f6681-90b3-4b78-9e45-df259218afda",
   "metadata": {},
   "outputs": [
    {
     "data": {
      "text/html": [
       "<div>\n",
       "<style scoped>\n",
       "    .dataframe tbody tr th:only-of-type {\n",
       "        vertical-align: middle;\n",
       "    }\n",
       "\n",
       "    .dataframe tbody tr th {\n",
       "        vertical-align: top;\n",
       "    }\n",
       "\n",
       "    .dataframe thead th {\n",
       "        text-align: right;\n",
       "    }\n",
       "</style>\n",
       "<table border=\"1\" class=\"dataframe\">\n",
       "  <thead>\n",
       "    <tr style=\"text-align: right;\">\n",
       "      <th></th>\n",
       "      <th>0</th>\n",
       "      <th>1</th>\n",
       "      <th>2</th>\n",
       "      <th>3</th>\n",
       "      <th>4</th>\n",
       "      <th>5</th>\n",
       "      <th>6</th>\n",
       "    </tr>\n",
       "  </thead>\n",
       "  <tbody>\n",
       "    <tr>\n",
       "      <th>add</th>\n",
       "      <td>50.0</td>\n",
       "      <td>70.0</td>\n",
       "      <td>20.0</td>\n",
       "      <td>130.0</td>\n",
       "      <td>170.000000</td>\n",
       "      <td>80.0</td>\n",
       "      <td>90.0</td>\n",
       "    </tr>\n",
       "    <tr>\n",
       "      <th>sub</th>\n",
       "      <td>50.0</td>\n",
       "      <td>70.0</td>\n",
       "      <td>-20.0</td>\n",
       "      <td>50.0</td>\n",
       "      <td>50.000000</td>\n",
       "      <td>-80.0</td>\n",
       "      <td>-90.0</td>\n",
       "    </tr>\n",
       "    <tr>\n",
       "      <th>mul</th>\n",
       "      <td>0.0</td>\n",
       "      <td>0.0</td>\n",
       "      <td>0.0</td>\n",
       "      <td>360.0</td>\n",
       "      <td>660.000000</td>\n",
       "      <td>0.0</td>\n",
       "      <td>0.0</td>\n",
       "    </tr>\n",
       "    <tr>\n",
       "      <th>div</th>\n",
       "      <td>inf</td>\n",
       "      <td>inf</td>\n",
       "      <td>0.0</td>\n",
       "      <td>22.5</td>\n",
       "      <td>18.333333</td>\n",
       "      <td>0.0</td>\n",
       "      <td>0.0</td>\n",
       "    </tr>\n",
       "  </tbody>\n",
       "</table>\n",
       "</div>"
      ],
      "text/plain": [
       "        0     1     2      3           4     5     6\n",
       "add  50.0  70.0  20.0  130.0  170.000000  80.0  90.0\n",
       "sub  50.0  70.0 -20.0   50.0   50.000000 -80.0 -90.0\n",
       "mul   0.0   0.0   0.0  360.0  660.000000   0.0   0.0\n",
       "div   inf   inf   0.0   22.5   18.333333   0.0   0.0"
      ]
     },
     "execution_count": 91,
     "metadata": {},
     "output_type": "execute_result"
    }
   ],
   "source": [
    "df2 = df*10\n",
    "df2"
   ]
  },
  {
   "cell_type": "code",
   "execution_count": 92,
   "id": "99903dff-f30a-45ec-9ab9-aa3a89d9a796",
   "metadata": {},
   "outputs": [
    {
     "name": "stdout",
     "output_type": "stream",
     "text": [
      "        0     1     2       3           4     5     6\n",
      "add  55.0  77.0  22.0  143.00  187.000000  88.0  99.0\n",
      "sub  55.0  77.0 -22.0   55.00   55.000000 -88.0 -99.0\n",
      "mul   0.0   0.0   0.0  396.00  726.000000   0.0   0.0\n",
      "div   inf   inf   0.0   24.75   20.166667   0.0   0.0\n",
      "\n",
      "         0      1     2          3             4      5      6\n",
      "add  250.0  490.0  40.0   1690.000   2890.000000  640.0  810.0\n",
      "sub  250.0  490.0  40.0    250.000    250.000000  640.0  810.0\n",
      "mul    0.0    0.0   0.0  12960.000  43560.000000    0.0    0.0\n",
      "div    inf    inf   0.0     50.625     33.611111    0.0    0.0\n"
     ]
    }
   ],
   "source": [
    "print(df+df2, df*df2, sep='\\n\\n')"
   ]
  },
  {
   "cell_type": "code",
   "execution_count": 93,
   "id": "ec534ebc-0770-48f1-8e7e-475c4bb3687f",
   "metadata": {},
   "outputs": [
    {
     "data": {
      "text/plain": [
       "(Index(['add', 'sub', 'mul', 'div'], dtype='object'),\n",
       " Index([0, 1, 2, 3, 4, 5, 6], dtype='int64'))"
      ]
     },
     "execution_count": 93,
     "metadata": {},
     "output_type": "execute_result"
    }
   ],
   "source": [
    "df.index, df.columns"
   ]
  },
  {
   "cell_type": "code",
   "execution_count": 94,
   "id": "eb6775dd-1522-4952-8f38-b44b98122e5b",
   "metadata": {},
   "outputs": [
    {
     "data": {
      "text/plain": [
       "(Index(['add', 'sub', 'mul', 'div'], dtype='object'),\n",
       " Index([0, 1, 2, 3, 4, 5, 6], dtype='int64'))"
      ]
     },
     "execution_count": 94,
     "metadata": {},
     "output_type": "execute_result"
    }
   ],
   "source": [
    "df2.index, df2.columns"
   ]
  },
  {
   "cell_type": "code",
   "execution_count": 95,
   "id": "cc260f57-ae55-4f87-851e-4add6014c5a3",
   "metadata": {},
   "outputs": [],
   "source": [
    "df2.index=['add','minus','mul','/']"
   ]
  },
  {
   "cell_type": "code",
   "execution_count": 96,
   "id": "d6fcfd33-06b5-44c7-85f0-d9d8f5850bbf",
   "metadata": {},
   "outputs": [
    {
     "name": "stdout",
     "output_type": "stream",
     "text": [
      "          0     1     2      3      4     5     6\n",
      "/       NaN   NaN   NaN    NaN    NaN   NaN   NaN\n",
      "add    55.0  77.0  22.0  143.0  187.0  88.0  99.0\n",
      "div     NaN   NaN   NaN    NaN    NaN   NaN   NaN\n",
      "minus   NaN   NaN   NaN    NaN    NaN   NaN   NaN\n",
      "mul     0.0   0.0   0.0  396.0  726.0   0.0   0.0\n",
      "sub     NaN   NaN   NaN    NaN    NaN   NaN   NaN\n",
      "\n",
      "           0      1     2        3        4      5      6\n",
      "/        NaN    NaN   NaN      NaN      NaN    NaN    NaN\n",
      "add    250.0  490.0  40.0   1690.0   2890.0  640.0  810.0\n",
      "div      NaN    NaN   NaN      NaN      NaN    NaN    NaN\n",
      "minus    NaN    NaN   NaN      NaN      NaN    NaN    NaN\n",
      "mul      0.0    0.0   0.0  12960.0  43560.0    0.0    0.0\n",
      "sub      NaN    NaN   NaN      NaN      NaN    NaN    NaN\n"
     ]
    }
   ],
   "source": [
    "print(df+df2, df*df2, sep='\\n\\n')"
   ]
  },
  {
   "cell_type": "markdown",
   "id": "ee46bf47-060f-4543-8a65-e4096ecc6bbc",
   "metadata": {},
   "source": [
    "- 연산 수행 메소드 활용 => 결측치 즉 NaN 빈칸에 대한 처리를 수행 가능\n",
    "    * fill_value 파라미터에 값 설정"
   ]
  },
  {
   "cell_type": "code",
   "execution_count": 97,
   "id": "59763bf0-3c7d-4fe7-86b4-e779a430dc21",
   "metadata": {},
   "outputs": [
    {
     "data": {
      "text/html": [
       "<div>\n",
       "<style scoped>\n",
       "    .dataframe tbody tr th:only-of-type {\n",
       "        vertical-align: middle;\n",
       "    }\n",
       "\n",
       "    .dataframe tbody tr th {\n",
       "        vertical-align: top;\n",
       "    }\n",
       "\n",
       "    .dataframe thead th {\n",
       "        text-align: right;\n",
       "    }\n",
       "</style>\n",
       "<table border=\"1\" class=\"dataframe\">\n",
       "  <thead>\n",
       "    <tr style=\"text-align: right;\">\n",
       "      <th></th>\n",
       "      <th>0</th>\n",
       "      <th>1</th>\n",
       "      <th>2</th>\n",
       "      <th>3</th>\n",
       "      <th>4</th>\n",
       "      <th>5</th>\n",
       "      <th>6</th>\n",
       "    </tr>\n",
       "  </thead>\n",
       "  <tbody>\n",
       "    <tr>\n",
       "      <th>/</th>\n",
       "      <td>inf</td>\n",
       "      <td>inf</td>\n",
       "      <td>0.0</td>\n",
       "      <td>22.50</td>\n",
       "      <td>18.333333</td>\n",
       "      <td>0.0</td>\n",
       "      <td>0.0</td>\n",
       "    </tr>\n",
       "    <tr>\n",
       "      <th>add</th>\n",
       "      <td>55.0</td>\n",
       "      <td>77.0</td>\n",
       "      <td>22.0</td>\n",
       "      <td>143.00</td>\n",
       "      <td>187.000000</td>\n",
       "      <td>88.0</td>\n",
       "      <td>99.0</td>\n",
       "    </tr>\n",
       "    <tr>\n",
       "      <th>div</th>\n",
       "      <td>inf</td>\n",
       "      <td>inf</td>\n",
       "      <td>0.0</td>\n",
       "      <td>2.25</td>\n",
       "      <td>1.833333</td>\n",
       "      <td>0.0</td>\n",
       "      <td>0.0</td>\n",
       "    </tr>\n",
       "    <tr>\n",
       "      <th>minus</th>\n",
       "      <td>50.0</td>\n",
       "      <td>70.0</td>\n",
       "      <td>-20.0</td>\n",
       "      <td>50.00</td>\n",
       "      <td>50.000000</td>\n",
       "      <td>-80.0</td>\n",
       "      <td>-90.0</td>\n",
       "    </tr>\n",
       "    <tr>\n",
       "      <th>mul</th>\n",
       "      <td>0.0</td>\n",
       "      <td>0.0</td>\n",
       "      <td>0.0</td>\n",
       "      <td>396.00</td>\n",
       "      <td>726.000000</td>\n",
       "      <td>0.0</td>\n",
       "      <td>0.0</td>\n",
       "    </tr>\n",
       "    <tr>\n",
       "      <th>sub</th>\n",
       "      <td>5.0</td>\n",
       "      <td>7.0</td>\n",
       "      <td>-2.0</td>\n",
       "      <td>5.00</td>\n",
       "      <td>5.000000</td>\n",
       "      <td>-8.0</td>\n",
       "      <td>-9.0</td>\n",
       "    </tr>\n",
       "  </tbody>\n",
       "</table>\n",
       "</div>"
      ],
      "text/plain": [
       "          0     1     2       3           4     5     6\n",
       "/       inf   inf   0.0   22.50   18.333333   0.0   0.0\n",
       "add    55.0  77.0  22.0  143.00  187.000000  88.0  99.0\n",
       "div     inf   inf   0.0    2.25    1.833333   0.0   0.0\n",
       "minus  50.0  70.0 -20.0   50.00   50.000000 -80.0 -90.0\n",
       "mul     0.0   0.0   0.0  396.00  726.000000   0.0   0.0\n",
       "sub     5.0   7.0  -2.0    5.00    5.000000  -8.0  -9.0"
      ]
     },
     "execution_count": 97,
     "metadata": {},
     "output_type": "execute_result"
    }
   ],
   "source": [
    "df.add(df2, fill_value=0)"
   ]
  },
  {
   "cell_type": "code",
   "execution_count": null,
   "id": "b9619731-9ce7-4661-b00e-6619aaf405f1",
   "metadata": {},
   "outputs": [],
   "source": []
  }
 ],
 "metadata": {
  "kernelspec": {
   "display_name": "Python 3 (ipykernel)",
   "language": "python",
   "name": "python3"
  },
  "language_info": {
   "codemirror_mode": {
    "name": "ipython",
    "version": 3
   },
   "file_extension": ".py",
   "mimetype": "text/x-python",
   "name": "python",
   "nbconvert_exporter": "python",
   "pygments_lexer": "ipython3",
   "version": "3.8.18"
  }
 },
 "nbformat": 4,
 "nbformat_minor": 5
}
