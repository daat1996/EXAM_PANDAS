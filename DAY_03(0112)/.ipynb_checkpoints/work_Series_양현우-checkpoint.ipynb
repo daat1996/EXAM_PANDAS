{
 "cells": [
  {
   "cell_type": "markdown",
   "id": "ad23f92b-902b-469a-8143-0546d91433db",
   "metadata": {},
   "source": [
    "## [2장 Series 객체]"
   ]
  },
  {
   "cell_type": "markdown",
   "id": "ebf7b26b-5053-4410-81fc-5cd8c7c6bd71",
   "metadata": {},
   "source": [
    "#### (1) 모듈 로딩"
   ]
  },
  {
   "cell_type": "code",
   "execution_count": 2,
   "id": "63f42c12-d4bd-41da-afd6-237f71bb335c",
   "metadata": {},
   "outputs": [],
   "source": [
    "import pandas as pd\n",
    "import numpy as np"
   ]
  },
  {
   "cell_type": "code",
   "execution_count": 5,
   "id": "0c4bcd33-b766-41c1-9a27-4295f0dbbc3b",
   "metadata": {},
   "outputs": [
    {
     "name": "stdout",
     "output_type": "stream",
     "text": [
      "0     Chocolate\n",
      "1       Vanilla\n",
      "2    Strawberry\n",
      "3    Rum raisin\n",
      "dtype: object\n",
      "\n",
      "0       Monday\n",
      "1    Wednesday\n",
      "2       Friday\n",
      "3     Saturday\n",
      "dtype: object\n",
      "\n",
      "<class 'pandas.core.series.Series'>\n",
      "\n",
      "<class 'pandas.core.series.Series'>\n"
     ]
    }
   ],
   "source": [
    "ice_cream_flavors = ['Chocolate','Vanilla','Strawberry','Rum raisin']\n",
    "days_of_week = ('Monday','Wednesday','Friday','Saturday')\n",
    "ice=pd.Series(ice_cream_flavors)\n",
    "days=pd.Series(days_of_week)\n",
    "print(ice,days, type(ice),type(days),sep='\\n\\n')"
   ]
  },
  {
   "cell_type": "code",
   "execution_count": 6,
   "id": "a9d52162-d755-4470-a697-f1ac54d48130",
   "metadata": {},
   "outputs": [
    {
     "data": {
      "text/plain": [
       "Monday        Chocolate\n",
       "Wednesday       Vanilla\n",
       "Friday       Strawberry\n",
       "Saturday     Rum raisin\n",
       "dtype: object"
      ]
     },
     "execution_count": 6,
     "metadata": {},
     "output_type": "execute_result"
    }
   ],
   "source": [
    "all=pd.Series(ice_cream_flavors,days_of_week)\n",
    "all"
   ]
  },
  {
   "cell_type": "code",
   "execution_count": null,
   "id": "4a7f1ddf-346f-49f4-9516-f3b4c18ae6ab",
   "metadata": {},
   "outputs": [],
   "source": []
  }
 ],
 "metadata": {
  "kernelspec": {
   "display_name": "Python 3 (ipykernel)",
   "language": "python",
   "name": "python3"
  },
  "language_info": {
   "codemirror_mode": {
    "name": "ipython",
    "version": 3
   },
   "file_extension": ".py",
   "mimetype": "text/x-python",
   "name": "python",
   "nbconvert_exporter": "python",
   "pygments_lexer": "ipython3",
   "version": "3.8.18"
  }
 },
 "nbformat": 4,
 "nbformat_minor": 5
}
