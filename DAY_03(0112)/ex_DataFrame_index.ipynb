{
 "cells": [
  {
   "cell_type": "markdown",
   "id": "1c426ed7-4205-4344-82df-e1d2f31fe090",
   "metadata": {},
   "source": [
    "## [DataFrame 인덱스 다루기]"
   ]
  },
  {
   "cell_type": "markdown",
   "id": "9a253986-e4a7-4c62-871c-cfa002230d49",
   "metadata": {},
   "source": [
    "- (1) 모듈 로딩 <hr>"
   ]
  },
  {
   "cell_type": "code",
   "execution_count": 52,
   "id": "cf597797-f1af-4a65-8f26-337898b25f99",
   "metadata": {},
   "outputs": [],
   "source": [
    "import pandas as pd"
   ]
  },
  {
   "cell_type": "markdown",
   "id": "99790b6b-2234-4c23-a804-6cac038fbfc1",
   "metadata": {},
   "source": [
    "- (2) 데이터 준비 <hr>"
   ]
  },
  {
   "cell_type": "code",
   "execution_count": 53,
   "id": "fecd3a51-3519-473e-8692-7facd482c485",
   "metadata": {},
   "outputs": [],
   "source": [
    "exam={ '이름':['마징가', '베트맨', '홍길동', '임꺽정'],\n",
    "      '국어':[98, 79, 99, 100],\n",
    "      '미술':[70, 99, 87, 80],\n",
    "      '수학':[46, 85, 89, 60],\n",
    "      '체육':[80, 88, 75, 100]}"
   ]
  },
  {
   "cell_type": "markdown",
   "id": "5ab8c481-e609-404f-90b1-ba8e609a2bcb",
   "metadata": {},
   "source": [
    "- (3) 데이터 저장"
   ]
  },
  {
   "cell_type": "code",
   "execution_count": 54,
   "id": "e1da455f-23c6-4c17-bf33-694afdb2df66",
   "metadata": {},
   "outputs": [],
   "source": [
    "examDF=pd.DataFrame(exam)"
   ]
  },
  {
   "cell_type": "markdown",
   "id": "4a0b2de2-0ee3-4c1f-9196-e9a92db9f4fc",
   "metadata": {},
   "source": [
    "- (4) 데이터 확인"
   ]
  },
  {
   "cell_type": "code",
   "execution_count": 55,
   "id": "10881c58-035d-4aa5-acab-025e57c7035a",
   "metadata": {},
   "outputs": [
    {
     "data": {
      "text/html": [
       "<div>\n",
       "<style scoped>\n",
       "    .dataframe tbody tr th:only-of-type {\n",
       "        vertical-align: middle;\n",
       "    }\n",
       "\n",
       "    .dataframe tbody tr th {\n",
       "        vertical-align: top;\n",
       "    }\n",
       "\n",
       "    .dataframe thead th {\n",
       "        text-align: right;\n",
       "    }\n",
       "</style>\n",
       "<table border=\"1\" class=\"dataframe\">\n",
       "  <thead>\n",
       "    <tr style=\"text-align: right;\">\n",
       "      <th></th>\n",
       "      <th>이름</th>\n",
       "      <th>국어</th>\n",
       "      <th>미술</th>\n",
       "      <th>수학</th>\n",
       "      <th>체육</th>\n",
       "    </tr>\n",
       "  </thead>\n",
       "  <tbody>\n",
       "    <tr>\n",
       "      <th>0</th>\n",
       "      <td>마징가</td>\n",
       "      <td>98</td>\n",
       "      <td>70</td>\n",
       "      <td>46</td>\n",
       "      <td>80</td>\n",
       "    </tr>\n",
       "    <tr>\n",
       "      <th>1</th>\n",
       "      <td>베트맨</td>\n",
       "      <td>79</td>\n",
       "      <td>99</td>\n",
       "      <td>85</td>\n",
       "      <td>88</td>\n",
       "    </tr>\n",
       "    <tr>\n",
       "      <th>2</th>\n",
       "      <td>홍길동</td>\n",
       "      <td>99</td>\n",
       "      <td>87</td>\n",
       "      <td>89</td>\n",
       "      <td>75</td>\n",
       "    </tr>\n",
       "    <tr>\n",
       "      <th>3</th>\n",
       "      <td>임꺽정</td>\n",
       "      <td>100</td>\n",
       "      <td>80</td>\n",
       "      <td>60</td>\n",
       "      <td>100</td>\n",
       "    </tr>\n",
       "  </tbody>\n",
       "</table>\n",
       "</div>"
      ],
      "text/plain": [
       "    이름   국어  미술  수학   체육\n",
       "0  마징가   98  70  46   80\n",
       "1  베트맨   79  99  85   88\n",
       "2  홍길동   99  87  89   75\n",
       "3  임꺽정  100  80  60  100"
      ]
     },
     "execution_count": 55,
     "metadata": {},
     "output_type": "execute_result"
    }
   ],
   "source": [
    "examDF"
   ]
  },
  {
   "cell_type": "markdown",
   "id": "c79b9c97-6512-411c-bd35-f7c6cc37bd59",
   "metadata": {},
   "source": [
    "- (5) 새로운 인덱스 설정 - 방법1 : 인덱스 일부 변경 DF.rename()"
   ]
  },
  {
   "cell_type": "code",
   "execution_count": 56,
   "id": "f1842ad6-7e78-4685-9ae9-5688189aa1de",
   "metadata": {},
   "outputs": [
    {
     "data": {
      "text/html": [
       "<div>\n",
       "<style scoped>\n",
       "    .dataframe tbody tr th:only-of-type {\n",
       "        vertical-align: middle;\n",
       "    }\n",
       "\n",
       "    .dataframe tbody tr th {\n",
       "        vertical-align: top;\n",
       "    }\n",
       "\n",
       "    .dataframe thead th {\n",
       "        text-align: right;\n",
       "    }\n",
       "</style>\n",
       "<table border=\"1\" class=\"dataframe\">\n",
       "  <thead>\n",
       "    <tr style=\"text-align: right;\">\n",
       "      <th></th>\n",
       "      <th>이름</th>\n",
       "      <th>국어</th>\n",
       "      <th>미술</th>\n",
       "      <th>수학</th>\n",
       "      <th>체육</th>\n",
       "    </tr>\n",
       "  </thead>\n",
       "  <tbody>\n",
       "    <tr>\n",
       "      <th>zero</th>\n",
       "      <td>마징가</td>\n",
       "      <td>98</td>\n",
       "      <td>70</td>\n",
       "      <td>46</td>\n",
       "      <td>80</td>\n",
       "    </tr>\n",
       "    <tr>\n",
       "      <th>1</th>\n",
       "      <td>베트맨</td>\n",
       "      <td>79</td>\n",
       "      <td>99</td>\n",
       "      <td>85</td>\n",
       "      <td>88</td>\n",
       "    </tr>\n",
       "    <tr>\n",
       "      <th>2</th>\n",
       "      <td>홍길동</td>\n",
       "      <td>99</td>\n",
       "      <td>87</td>\n",
       "      <td>89</td>\n",
       "      <td>75</td>\n",
       "    </tr>\n",
       "    <tr>\n",
       "      <th>3</th>\n",
       "      <td>임꺽정</td>\n",
       "      <td>100</td>\n",
       "      <td>80</td>\n",
       "      <td>60</td>\n",
       "      <td>100</td>\n",
       "    </tr>\n",
       "  </tbody>\n",
       "</table>\n",
       "</div>"
      ],
      "text/plain": [
       "       이름   국어  미술  수학   체육\n",
       "zero  마징가   98  70  46   80\n",
       "1     베트맨   79  99  85   88\n",
       "2     홍길동   99  87  89   75\n",
       "3     임꺽정  100  80  60  100"
      ]
     },
     "execution_count": 56,
     "metadata": {},
     "output_type": "execute_result"
    }
   ],
   "source": [
    "# 행 인덱스 일부 변경 => {기존인덱스:새로운인덱스}\n",
    "examDF.rename(index={0:'zero'})   # 원본에 영향을 안준다."
   ]
  },
  {
   "cell_type": "code",
   "execution_count": 57,
   "id": "596fe79d-35d2-4a21-a9f5-257330a2fc79",
   "metadata": {},
   "outputs": [
    {
     "data": {
      "text/html": [
       "<div>\n",
       "<style scoped>\n",
       "    .dataframe tbody tr th:only-of-type {\n",
       "        vertical-align: middle;\n",
       "    }\n",
       "\n",
       "    .dataframe tbody tr th {\n",
       "        vertical-align: top;\n",
       "    }\n",
       "\n",
       "    .dataframe thead th {\n",
       "        text-align: right;\n",
       "    }\n",
       "</style>\n",
       "<table border=\"1\" class=\"dataframe\">\n",
       "  <thead>\n",
       "    <tr style=\"text-align: right;\">\n",
       "      <th></th>\n",
       "      <th>이름</th>\n",
       "      <th>국어</th>\n",
       "      <th>미술</th>\n",
       "      <th>수학</th>\n",
       "      <th>체육</th>\n",
       "    </tr>\n",
       "  </thead>\n",
       "  <tbody>\n",
       "    <tr>\n",
       "      <th>0</th>\n",
       "      <td>마징가</td>\n",
       "      <td>98</td>\n",
       "      <td>70</td>\n",
       "      <td>46</td>\n",
       "      <td>80</td>\n",
       "    </tr>\n",
       "    <tr>\n",
       "      <th>1</th>\n",
       "      <td>베트맨</td>\n",
       "      <td>79</td>\n",
       "      <td>99</td>\n",
       "      <td>85</td>\n",
       "      <td>88</td>\n",
       "    </tr>\n",
       "    <tr>\n",
       "      <th>2</th>\n",
       "      <td>홍길동</td>\n",
       "      <td>99</td>\n",
       "      <td>87</td>\n",
       "      <td>89</td>\n",
       "      <td>75</td>\n",
       "    </tr>\n",
       "    <tr>\n",
       "      <th>3</th>\n",
       "      <td>임꺽정</td>\n",
       "      <td>100</td>\n",
       "      <td>80</td>\n",
       "      <td>60</td>\n",
       "      <td>100</td>\n",
       "    </tr>\n",
       "  </tbody>\n",
       "</table>\n",
       "</div>"
      ],
      "text/plain": [
       "    이름   국어  미술  수학   체육\n",
       "0  마징가   98  70  46   80\n",
       "1  베트맨   79  99  85   88\n",
       "2  홍길동   99  87  89   75\n",
       "3  임꺽정  100  80  60  100"
      ]
     },
     "execution_count": 57,
     "metadata": {},
     "output_type": "execute_result"
    }
   ],
   "source": [
    "examDF"
   ]
  },
  {
   "cell_type": "code",
   "execution_count": 58,
   "id": "6124b367-49ae-422c-8b44-19cf431f9ea1",
   "metadata": {},
   "outputs": [],
   "source": [
    "# 행 인덱스 일부 변경 => {기존인덱스:새로운인덱스}\n",
    "# inplace 매개변수/파라미터 => 원본 DataFrame에 변경여부 결정, 기본은 원본 변경 안함 False!!!\n",
    "examDF.rename(index={0:'zero'}, inplace=True)  "
   ]
  },
  {
   "cell_type": "code",
   "execution_count": 59,
   "id": "e58b795e-137a-4593-a7fc-8833a4fdf346",
   "metadata": {},
   "outputs": [
    {
     "data": {
      "text/html": [
       "<div>\n",
       "<style scoped>\n",
       "    .dataframe tbody tr th:only-of-type {\n",
       "        vertical-align: middle;\n",
       "    }\n",
       "\n",
       "    .dataframe tbody tr th {\n",
       "        vertical-align: top;\n",
       "    }\n",
       "\n",
       "    .dataframe thead th {\n",
       "        text-align: right;\n",
       "    }\n",
       "</style>\n",
       "<table border=\"1\" class=\"dataframe\">\n",
       "  <thead>\n",
       "    <tr style=\"text-align: right;\">\n",
       "      <th></th>\n",
       "      <th>이름</th>\n",
       "      <th>국어</th>\n",
       "      <th>미술</th>\n",
       "      <th>수학</th>\n",
       "      <th>체육</th>\n",
       "    </tr>\n",
       "  </thead>\n",
       "  <tbody>\n",
       "    <tr>\n",
       "      <th>zero</th>\n",
       "      <td>마징가</td>\n",
       "      <td>98</td>\n",
       "      <td>70</td>\n",
       "      <td>46</td>\n",
       "      <td>80</td>\n",
       "    </tr>\n",
       "    <tr>\n",
       "      <th>1</th>\n",
       "      <td>베트맨</td>\n",
       "      <td>79</td>\n",
       "      <td>99</td>\n",
       "      <td>85</td>\n",
       "      <td>88</td>\n",
       "    </tr>\n",
       "    <tr>\n",
       "      <th>2</th>\n",
       "      <td>홍길동</td>\n",
       "      <td>99</td>\n",
       "      <td>87</td>\n",
       "      <td>89</td>\n",
       "      <td>75</td>\n",
       "    </tr>\n",
       "    <tr>\n",
       "      <th>3</th>\n",
       "      <td>임꺽정</td>\n",
       "      <td>100</td>\n",
       "      <td>80</td>\n",
       "      <td>60</td>\n",
       "      <td>100</td>\n",
       "    </tr>\n",
       "  </tbody>\n",
       "</table>\n",
       "</div>"
      ],
      "text/plain": [
       "       이름   국어  미술  수학   체육\n",
       "zero  마징가   98  70  46   80\n",
       "1     베트맨   79  99  85   88\n",
       "2     홍길동   99  87  89   75\n",
       "3     임꺽정  100  80  60  100"
      ]
     },
     "execution_count": 59,
     "metadata": {},
     "output_type": "execute_result"
    }
   ],
   "source": [
    "examDF"
   ]
  },
  {
   "cell_type": "code",
   "execution_count": 60,
   "id": "b9383a0f-fff2-47cf-bbbd-032f70d8422d",
   "metadata": {},
   "outputs": [],
   "source": [
    "# 열 이름 인덱스 일부 변경 => column={기존인덱스:새로운인덱스}\n",
    "examDF.rename(columns={'체육':'음악'}, inplace=True)"
   ]
  },
  {
   "cell_type": "code",
   "execution_count": 61,
   "id": "f9036773-ec74-40de-9dce-365de657fb9b",
   "metadata": {},
   "outputs": [
    {
     "data": {
      "text/plain": [
       "Index(['이름', '국어', '미술', '수학', '음악'], dtype='object')"
      ]
     },
     "execution_count": 61,
     "metadata": {},
     "output_type": "execute_result"
    }
   ],
   "source": [
    "examDF.columns"
   ]
  },
  {
   "cell_type": "markdown",
   "id": "ec611576-f6a9-4cd9-9aa7-ff07d8bb9d52",
   "metadata": {},
   "source": [
    "- (5) 새로운 인덱스 설정 - 방법2: 특정 컬럼 => 인덱스 : DF.set_index()"
   ]
  },
  {
   "cell_type": "code",
   "execution_count": 62,
   "id": "5ad3cbfb-6509-4d6f-8323-d266298859ea",
   "metadata": {},
   "outputs": [
    {
     "data": {
      "text/plain": [
       "Index(['zero', 1, 2, 3], dtype='object')"
      ]
     },
     "execution_count": 62,
     "metadata": {},
     "output_type": "execute_result"
    }
   ],
   "source": [
    "# 현재 기본 0 ~ ==> 이름 컬럼 인덱스로 설정\n",
    "examDF.index"
   ]
  },
  {
   "cell_type": "code",
   "execution_count": 63,
   "id": "20232426-f223-4299-a193-1d3e9cbf4e0b",
   "metadata": {},
   "outputs": [
    {
     "data": {
      "text/plain": [
       "Index(['마징가', '베트맨', '홍길동', '임꺽정'], dtype='object', name='이름')"
      ]
     },
     "execution_count": 63,
     "metadata": {},
     "output_type": "execute_result"
    }
   ],
   "source": [
    "# 1개 컬럼을 인덱스로 설정 단, inplace 파라메터가 False로 원본에 적용 안됨!\n",
    "examDF2 = examDF.set_index('이름')\n",
    "examDF2.index"
   ]
  },
  {
   "cell_type": "code",
   "execution_count": 64,
   "id": "562321c7-a2ae-4ca7-a8fe-c123dca8e669",
   "metadata": {},
   "outputs": [
    {
     "data": {
      "text/plain": [
       "국어    98\n",
       "미술    70\n",
       "수학    46\n",
       "음악    80\n",
       "Name: 마징가, dtype: int64"
      ]
     },
     "execution_count": 64,
     "metadata": {},
     "output_type": "execute_result"
    }
   ],
   "source": [
    "examDF2.loc['마징가']"
   ]
  },
  {
   "cell_type": "code",
   "execution_count": 65,
   "id": "8518df23-e0fd-4059-88a6-7f874c6bf9fd",
   "metadata": {},
   "outputs": [
    {
     "data": {
      "text/plain": [
       "MultiIndex([('마징가',  98, 46),\n",
       "            ('베트맨',  79, 85),\n",
       "            ('홍길동',  99, 89),\n",
       "            ('임꺽정', 100, 60)],\n",
       "           names=['이름', '국어', '수학'])"
      ]
     },
     "execution_count": 65,
     "metadata": {},
     "output_type": "execute_result"
    }
   ],
   "source": [
    "# 2개의 컬럼을 행 인덱스 설정 단, inplace 파라메터가 False로 원본에 적용 안됨!\n",
    "examDF3 = examDF.set_index(['이름','국어','수학'])\n",
    "examDF3.index"
   ]
  },
  {
   "cell_type": "code",
   "execution_count": 66,
   "id": "e2f1cdcb-23b5-4d8b-8748-05920e67e2be",
   "metadata": {},
   "outputs": [
    {
     "data": {
      "text/plain": [
       "미술    70\n",
       "음악    80\n",
       "Name: (마징가, 98, 46), dtype: int64"
      ]
     },
     "execution_count": 66,
     "metadata": {},
     "output_type": "execute_result"
    }
   ],
   "source": [
    "examDF3.loc[('마징가',98,46)]"
   ]
  },
  {
   "cell_type": "code",
   "execution_count": 67,
   "id": "adfad7d9-1019-40f2-b148-2e8b91b198b0",
   "metadata": {},
   "outputs": [
    {
     "name": "stderr",
     "output_type": "stream",
     "text": [
      "C:\\Users\\KDP-23\\AppData\\Local\\Temp\\ipykernel_2696\\3044410823.py:1: PerformanceWarning: indexing past lexsort depth may impact performance.\n",
      "  examDF3.loc[('마징가',98)]\n"
     ]
    },
    {
     "data": {
      "text/html": [
       "<div>\n",
       "<style scoped>\n",
       "    .dataframe tbody tr th:only-of-type {\n",
       "        vertical-align: middle;\n",
       "    }\n",
       "\n",
       "    .dataframe tbody tr th {\n",
       "        vertical-align: top;\n",
       "    }\n",
       "\n",
       "    .dataframe thead th {\n",
       "        text-align: right;\n",
       "    }\n",
       "</style>\n",
       "<table border=\"1\" class=\"dataframe\">\n",
       "  <thead>\n",
       "    <tr style=\"text-align: right;\">\n",
       "      <th></th>\n",
       "      <th>미술</th>\n",
       "      <th>음악</th>\n",
       "    </tr>\n",
       "    <tr>\n",
       "      <th>수학</th>\n",
       "      <th></th>\n",
       "      <th></th>\n",
       "    </tr>\n",
       "  </thead>\n",
       "  <tbody>\n",
       "    <tr>\n",
       "      <th>46</th>\n",
       "      <td>70</td>\n",
       "      <td>80</td>\n",
       "    </tr>\n",
       "  </tbody>\n",
       "</table>\n",
       "</div>"
      ],
      "text/plain": [
       "    미술  음악\n",
       "수학        \n",
       "46  70  80"
      ]
     },
     "execution_count": 67,
     "metadata": {},
     "output_type": "execute_result"
    }
   ],
   "source": [
    "examDF3.loc[('마징가',98)]"
   ]
  },
  {
   "cell_type": "code",
   "execution_count": 68,
   "id": "7d10a2ea-0a4c-4f18-966b-d99a1f47ded9",
   "metadata": {},
   "outputs": [],
   "source": [
    "# keyError => '마징가', 98, 46 형식으로 98로 시작하는 key 없음\n",
    "# examDF3.loc[(98,46)]"
   ]
  },
  {
   "cell_type": "markdown",
   "id": "a27c62cc-d051-4b28-9a59-eaad2d03cc87",
   "metadata": {},
   "source": [
    "- (5) 새로운 인덱스 설정 방법 3:"
   ]
  },
  {
   "cell_type": "code",
   "execution_count": 69,
   "id": "f340c893-e971-4348-8dc2-536e0bf70ea7",
   "metadata": {},
   "outputs": [],
   "source": [
    "examDF.set_index('이름', inplace=True)"
   ]
  },
  {
   "cell_type": "code",
   "execution_count": 70,
   "id": "8187d41b-3dfe-4dbb-bc1e-8a41aaec8106",
   "metadata": {},
   "outputs": [
    {
     "data": {
      "text/html": [
       "<div>\n",
       "<style scoped>\n",
       "    .dataframe tbody tr th:only-of-type {\n",
       "        vertical-align: middle;\n",
       "    }\n",
       "\n",
       "    .dataframe tbody tr th {\n",
       "        vertical-align: top;\n",
       "    }\n",
       "\n",
       "    .dataframe thead th {\n",
       "        text-align: right;\n",
       "    }\n",
       "</style>\n",
       "<table border=\"1\" class=\"dataframe\">\n",
       "  <thead>\n",
       "    <tr style=\"text-align: right;\">\n",
       "      <th></th>\n",
       "      <th>국어</th>\n",
       "      <th>미술</th>\n",
       "      <th>수학</th>\n",
       "      <th>음악</th>\n",
       "    </tr>\n",
       "    <tr>\n",
       "      <th>이름</th>\n",
       "      <th></th>\n",
       "      <th></th>\n",
       "      <th></th>\n",
       "      <th></th>\n",
       "    </tr>\n",
       "  </thead>\n",
       "  <tbody>\n",
       "    <tr>\n",
       "      <th>마징가</th>\n",
       "      <td>98</td>\n",
       "      <td>70</td>\n",
       "      <td>46</td>\n",
       "      <td>80</td>\n",
       "    </tr>\n",
       "    <tr>\n",
       "      <th>베트맨</th>\n",
       "      <td>79</td>\n",
       "      <td>99</td>\n",
       "      <td>85</td>\n",
       "      <td>88</td>\n",
       "    </tr>\n",
       "    <tr>\n",
       "      <th>홍길동</th>\n",
       "      <td>99</td>\n",
       "      <td>87</td>\n",
       "      <td>89</td>\n",
       "      <td>75</td>\n",
       "    </tr>\n",
       "    <tr>\n",
       "      <th>임꺽정</th>\n",
       "      <td>100</td>\n",
       "      <td>80</td>\n",
       "      <td>60</td>\n",
       "      <td>100</td>\n",
       "    </tr>\n",
       "  </tbody>\n",
       "</table>\n",
       "</div>"
      ],
      "text/plain": [
       "      국어  미술  수학   음악\n",
       "이름                   \n",
       "마징가   98  70  46   80\n",
       "베트맨   79  99  85   88\n",
       "홍길동   99  87  89   75\n",
       "임꺽정  100  80  60  100"
      ]
     },
     "execution_count": 70,
     "metadata": {},
     "output_type": "execute_result"
    }
   ],
   "source": [
    "examDF"
   ]
  },
  {
   "cell_type": "code",
   "execution_count": 71,
   "id": "eb3165ff-792d-49a5-a229-977602b3ef4e",
   "metadata": {},
   "outputs": [
    {
     "data": {
      "text/html": [
       "<div>\n",
       "<style scoped>\n",
       "    .dataframe tbody tr th:only-of-type {\n",
       "        vertical-align: middle;\n",
       "    }\n",
       "\n",
       "    .dataframe tbody tr th {\n",
       "        vertical-align: top;\n",
       "    }\n",
       "\n",
       "    .dataframe thead th {\n",
       "        text-align: right;\n",
       "    }\n",
       "</style>\n",
       "<table border=\"1\" class=\"dataframe\">\n",
       "  <thead>\n",
       "    <tr style=\"text-align: right;\">\n",
       "      <th></th>\n",
       "      <th>이름</th>\n",
       "      <th>국어</th>\n",
       "      <th>미술</th>\n",
       "      <th>수학</th>\n",
       "      <th>음악</th>\n",
       "    </tr>\n",
       "  </thead>\n",
       "  <tbody>\n",
       "    <tr>\n",
       "      <th>0</th>\n",
       "      <td>마징가</td>\n",
       "      <td>98</td>\n",
       "      <td>70</td>\n",
       "      <td>46</td>\n",
       "      <td>80</td>\n",
       "    </tr>\n",
       "    <tr>\n",
       "      <th>1</th>\n",
       "      <td>베트맨</td>\n",
       "      <td>79</td>\n",
       "      <td>99</td>\n",
       "      <td>85</td>\n",
       "      <td>88</td>\n",
       "    </tr>\n",
       "    <tr>\n",
       "      <th>2</th>\n",
       "      <td>홍길동</td>\n",
       "      <td>99</td>\n",
       "      <td>87</td>\n",
       "      <td>89</td>\n",
       "      <td>75</td>\n",
       "    </tr>\n",
       "    <tr>\n",
       "      <th>3</th>\n",
       "      <td>임꺽정</td>\n",
       "      <td>100</td>\n",
       "      <td>80</td>\n",
       "      <td>60</td>\n",
       "      <td>100</td>\n",
       "    </tr>\n",
       "  </tbody>\n",
       "</table>\n",
       "</div>"
      ],
      "text/plain": [
       "    이름   국어  미술  수학   음악\n",
       "0  마징가   98  70  46   80\n",
       "1  베트맨   79  99  85   88\n",
       "2  홍길동   99  87  89   75\n",
       "3  임꺽정  100  80  60  100"
      ]
     },
     "execution_count": 71,
     "metadata": {},
     "output_type": "execute_result"
    }
   ],
   "source": [
    "# 현재 행 인덱스 ===> 컬럼으로 추가 ==> 원본으로 돌아가는 느낌(실제 원본은 아님)\n",
    "examDF.reset_index()    "
   ]
  },
  {
   "cell_type": "code",
   "execution_count": 77,
   "id": "7f8ec390-ab2e-4671-a1e1-13b7a71105a1",
   "metadata": {},
   "outputs": [
    {
     "data": {
      "text/html": [
       "<div>\n",
       "<style scoped>\n",
       "    .dataframe tbody tr th:only-of-type {\n",
       "        vertical-align: middle;\n",
       "    }\n",
       "\n",
       "    .dataframe tbody tr th {\n",
       "        vertical-align: top;\n",
       "    }\n",
       "\n",
       "    .dataframe thead th {\n",
       "        text-align: right;\n",
       "    }\n",
       "</style>\n",
       "<table border=\"1\" class=\"dataframe\">\n",
       "  <thead>\n",
       "    <tr style=\"text-align: right;\">\n",
       "      <th></th>\n",
       "      <th>국어</th>\n",
       "      <th>미술</th>\n",
       "      <th>수학</th>\n",
       "      <th>음악</th>\n",
       "    </tr>\n",
       "    <tr>\n",
       "      <th>이름</th>\n",
       "      <th></th>\n",
       "      <th></th>\n",
       "      <th></th>\n",
       "      <th></th>\n",
       "    </tr>\n",
       "  </thead>\n",
       "  <tbody>\n",
       "    <tr>\n",
       "      <th>마징가</th>\n",
       "      <td>98</td>\n",
       "      <td>70</td>\n",
       "      <td>46</td>\n",
       "      <td>80</td>\n",
       "    </tr>\n",
       "    <tr>\n",
       "      <th>베트맨</th>\n",
       "      <td>79</td>\n",
       "      <td>99</td>\n",
       "      <td>85</td>\n",
       "      <td>88</td>\n",
       "    </tr>\n",
       "    <tr>\n",
       "      <th>홍길동</th>\n",
       "      <td>99</td>\n",
       "      <td>87</td>\n",
       "      <td>89</td>\n",
       "      <td>75</td>\n",
       "    </tr>\n",
       "    <tr>\n",
       "      <th>임꺽정</th>\n",
       "      <td>100</td>\n",
       "      <td>80</td>\n",
       "      <td>60</td>\n",
       "      <td>100</td>\n",
       "    </tr>\n",
       "  </tbody>\n",
       "</table>\n",
       "</div>"
      ],
      "text/plain": [
       "      국어  미술  수학   음악\n",
       "이름                   \n",
       "마징가   98  70  46   80\n",
       "베트맨   79  99  85   88\n",
       "홍길동   99  87  89   75\n",
       "임꺽정  100  80  60  100"
      ]
     },
     "execution_count": 77,
     "metadata": {},
     "output_type": "execute_result"
    }
   ],
   "source": [
    "examDF"
   ]
  },
  {
   "cell_type": "code",
   "execution_count": 78,
   "id": "9b0e4f0f-9b94-4f9d-8405-02333c7f2407",
   "metadata": {},
   "outputs": [
    {
     "data": {
      "text/html": [
       "<div>\n",
       "<style scoped>\n",
       "    .dataframe tbody tr th:only-of-type {\n",
       "        vertical-align: middle;\n",
       "    }\n",
       "\n",
       "    .dataframe tbody tr th {\n",
       "        vertical-align: top;\n",
       "    }\n",
       "\n",
       "    .dataframe thead th {\n",
       "        text-align: right;\n",
       "    }\n",
       "</style>\n",
       "<table border=\"1\" class=\"dataframe\">\n",
       "  <thead>\n",
       "    <tr style=\"text-align: right;\">\n",
       "      <th></th>\n",
       "      <th>국어</th>\n",
       "      <th>미술</th>\n",
       "      <th>수학</th>\n",
       "      <th>음악</th>\n",
       "    </tr>\n",
       "  </thead>\n",
       "  <tbody>\n",
       "    <tr>\n",
       "      <th>0</th>\n",
       "      <td>98</td>\n",
       "      <td>70</td>\n",
       "      <td>46</td>\n",
       "      <td>80</td>\n",
       "    </tr>\n",
       "    <tr>\n",
       "      <th>1</th>\n",
       "      <td>79</td>\n",
       "      <td>99</td>\n",
       "      <td>85</td>\n",
       "      <td>88</td>\n",
       "    </tr>\n",
       "    <tr>\n",
       "      <th>2</th>\n",
       "      <td>99</td>\n",
       "      <td>87</td>\n",
       "      <td>89</td>\n",
       "      <td>75</td>\n",
       "    </tr>\n",
       "    <tr>\n",
       "      <th>3</th>\n",
       "      <td>100</td>\n",
       "      <td>80</td>\n",
       "      <td>60</td>\n",
       "      <td>100</td>\n",
       "    </tr>\n",
       "  </tbody>\n",
       "</table>\n",
       "</div>"
      ],
      "text/plain": [
       "    국어  미술  수학   음악\n",
       "0   98  70  46   80\n",
       "1   79  99  85   88\n",
       "2   99  87  89   75\n",
       "3  100  80  60  100"
      ]
     },
     "execution_count": 78,
     "metadata": {},
     "output_type": "execute_result"
    }
   ],
   "source": [
    "# 현재 행 인덱스를 컬럼에 추가하지 않고 삭제 => drop 파라미터를 True로 설정\n",
    "df2 = examDF.reset_index(drop=True)\n",
    "df2"
   ]
  },
  {
   "cell_type": "code",
   "execution_count": 79,
   "id": "1abb8588-c3d9-4a51-95ab-b01cbdb53de8",
   "metadata": {},
   "outputs": [
    {
     "data": {
      "text/html": [
       "<div>\n",
       "<style scoped>\n",
       "    .dataframe tbody tr th:only-of-type {\n",
       "        vertical-align: middle;\n",
       "    }\n",
       "\n",
       "    .dataframe tbody tr th {\n",
       "        vertical-align: top;\n",
       "    }\n",
       "\n",
       "    .dataframe thead th {\n",
       "        text-align: right;\n",
       "    }\n",
       "</style>\n",
       "<table border=\"1\" class=\"dataframe\">\n",
       "  <thead>\n",
       "    <tr style=\"text-align: right;\">\n",
       "      <th></th>\n",
       "      <th>이름</th>\n",
       "      <th>국어</th>\n",
       "      <th>미술</th>\n",
       "      <th>수학</th>\n",
       "      <th>음악</th>\n",
       "    </tr>\n",
       "  </thead>\n",
       "  <tbody>\n",
       "    <tr>\n",
       "      <th>0</th>\n",
       "      <td>마징가</td>\n",
       "      <td>98</td>\n",
       "      <td>70</td>\n",
       "      <td>46</td>\n",
       "      <td>80</td>\n",
       "    </tr>\n",
       "    <tr>\n",
       "      <th>1</th>\n",
       "      <td>베트맨</td>\n",
       "      <td>79</td>\n",
       "      <td>99</td>\n",
       "      <td>85</td>\n",
       "      <td>88</td>\n",
       "    </tr>\n",
       "    <tr>\n",
       "      <th>2</th>\n",
       "      <td>홍길동</td>\n",
       "      <td>99</td>\n",
       "      <td>87</td>\n",
       "      <td>89</td>\n",
       "      <td>75</td>\n",
       "    </tr>\n",
       "    <tr>\n",
       "      <th>3</th>\n",
       "      <td>임꺽정</td>\n",
       "      <td>100</td>\n",
       "      <td>80</td>\n",
       "      <td>60</td>\n",
       "      <td>100</td>\n",
       "    </tr>\n",
       "  </tbody>\n",
       "</table>\n",
       "</div>"
      ],
      "text/plain": [
       "    이름   국어  미술  수학   음악\n",
       "0  마징가   98  70  46   80\n",
       "1  베트맨   79  99  85   88\n",
       "2  홍길동   99  87  89   75\n",
       "3  임꺽정  100  80  60  100"
      ]
     },
     "execution_count": 79,
     "metadata": {},
     "output_type": "execute_result"
    }
   ],
   "source": [
    "examDF.reset_index()"
   ]
  },
  {
   "cell_type": "code",
   "execution_count": null,
   "id": "5aa2ed05-fafe-4572-8e05-cd3bb3f8923a",
   "metadata": {},
   "outputs": [],
   "source": []
  }
 ],
 "metadata": {
  "kernelspec": {
   "display_name": "Python 3 (ipykernel)",
   "language": "python",
   "name": "python3"
  },
  "language_info": {
   "codemirror_mode": {
    "name": "ipython",
    "version": 3
   },
   "file_extension": ".py",
   "mimetype": "text/x-python",
   "name": "python",
   "nbconvert_exporter": "python",
   "pygments_lexer": "ipython3",
   "version": "3.8.18"
  }
 },
 "nbformat": 4,
 "nbformat_minor": 5
}
