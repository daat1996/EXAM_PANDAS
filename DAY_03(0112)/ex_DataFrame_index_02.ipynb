{
 "cells": [
  {
   "cell_type": "markdown",
   "id": "1c426ed7-4205-4344-82df-e1d2f31fe090",
   "metadata": {},
   "source": [
    "## [DataFrame 인덱스 다루기]"
   ]
  },
  {
   "cell_type": "markdown",
   "id": "9a253986-e4a7-4c62-871c-cfa002230d49",
   "metadata": {},
   "source": [
    "- (1) 모듈 로딩 <hr>"
   ]
  },
  {
   "cell_type": "code",
   "execution_count": 2,
   "id": "cf597797-f1af-4a65-8f26-337898b25f99",
   "metadata": {},
   "outputs": [],
   "source": [
    "import pandas as pd"
   ]
  },
  {
   "cell_type": "markdown",
   "id": "99790b6b-2234-4c23-a804-6cac038fbfc1",
   "metadata": {},
   "source": [
    "- (2) 데이터 준비 <hr>"
   ]
  },
  {
   "cell_type": "code",
   "execution_count": 3,
   "id": "fecd3a51-3519-473e-8692-7facd482c485",
   "metadata": {},
   "outputs": [],
   "source": [
    "exam={ '이름':['마징가', '베트맨', '홍길동', '임꺽정'],\n",
    "      '국어':[98, 79, 99, 100],\n",
    "      '미술':[70, 99, 87, 80],\n",
    "      '수학':[77, 70, 89, 72],\n",
    "      '체육':[77, 80, 75, 100]}"
   ]
  },
  {
   "cell_type": "markdown",
   "id": "5ab8c481-e609-404f-90b1-ba8e609a2bcb",
   "metadata": {},
   "source": [
    "- (3) 데이터 저장"
   ]
  },
  {
   "cell_type": "code",
   "execution_count": 4,
   "id": "e1da455f-23c6-4c17-bf33-694afdb2df66",
   "metadata": {},
   "outputs": [],
   "source": [
    "examDF=pd.DataFrame(exam)"
   ]
  },
  {
   "cell_type": "markdown",
   "id": "4a0b2de2-0ee3-4c1f-9196-e9a92db9f4fc",
   "metadata": {},
   "source": [
    "- (4) 데이터 확인"
   ]
  },
  {
   "cell_type": "code",
   "execution_count": 5,
   "id": "10881c58-035d-4aa5-acab-025e57c7035a",
   "metadata": {},
   "outputs": [
    {
     "data": {
      "text/html": [
       "<div>\n",
       "<style scoped>\n",
       "    .dataframe tbody tr th:only-of-type {\n",
       "        vertical-align: middle;\n",
       "    }\n",
       "\n",
       "    .dataframe tbody tr th {\n",
       "        vertical-align: top;\n",
       "    }\n",
       "\n",
       "    .dataframe thead th {\n",
       "        text-align: right;\n",
       "    }\n",
       "</style>\n",
       "<table border=\"1\" class=\"dataframe\">\n",
       "  <thead>\n",
       "    <tr style=\"text-align: right;\">\n",
       "      <th></th>\n",
       "      <th>이름</th>\n",
       "      <th>국어</th>\n",
       "      <th>미술</th>\n",
       "      <th>수학</th>\n",
       "      <th>체육</th>\n",
       "    </tr>\n",
       "  </thead>\n",
       "  <tbody>\n",
       "    <tr>\n",
       "      <th>0</th>\n",
       "      <td>마징가</td>\n",
       "      <td>98</td>\n",
       "      <td>70</td>\n",
       "      <td>77</td>\n",
       "      <td>77</td>\n",
       "    </tr>\n",
       "    <tr>\n",
       "      <th>1</th>\n",
       "      <td>베트맨</td>\n",
       "      <td>79</td>\n",
       "      <td>99</td>\n",
       "      <td>70</td>\n",
       "      <td>80</td>\n",
       "    </tr>\n",
       "    <tr>\n",
       "      <th>2</th>\n",
       "      <td>홍길동</td>\n",
       "      <td>99</td>\n",
       "      <td>87</td>\n",
       "      <td>89</td>\n",
       "      <td>75</td>\n",
       "    </tr>\n",
       "    <tr>\n",
       "      <th>3</th>\n",
       "      <td>임꺽정</td>\n",
       "      <td>100</td>\n",
       "      <td>80</td>\n",
       "      <td>72</td>\n",
       "      <td>100</td>\n",
       "    </tr>\n",
       "  </tbody>\n",
       "</table>\n",
       "</div>"
      ],
      "text/plain": [
       "    이름   국어  미술  수학   체육\n",
       "0  마징가   98  70  77   77\n",
       "1  베트맨   79  99  70   80\n",
       "2  홍길동   99  87  89   75\n",
       "3  임꺽정  100  80  72  100"
      ]
     },
     "execution_count": 5,
     "metadata": {},
     "output_type": "execute_result"
    }
   ],
   "source": [
    "examDF"
   ]
  },
  {
   "cell_type": "markdown",
   "id": "68346839-7cd7-4c23-971f-be5a46f7e9ca",
   "metadata": {},
   "source": [
    "- 행 데이터 추가"
   ]
  },
  {
   "cell_type": "code",
   "execution_count": 6,
   "id": "1d5bb636-824d-4079-b711-1a7c0c65ad97",
   "metadata": {},
   "outputs": [],
   "source": [
    "# 마징가 98 50 60 77\n",
    "examDF.loc[4] = ['마징가', 98, 50, 60, 77]"
   ]
  },
  {
   "cell_type": "code",
   "execution_count": 7,
   "id": "0d904d3c-d598-454f-a1b2-6c549d39a75f",
   "metadata": {},
   "outputs": [],
   "source": [
    "# 마징가 98 87 77 91\n",
    "examDF.loc[5] = ['마징가', 98, 87, 70, 91]"
   ]
  },
  {
   "cell_type": "code",
   "execution_count": 8,
   "id": "2462669b-4b98-4640-9fb5-effa660dfa62",
   "metadata": {},
   "outputs": [
    {
     "data": {
      "text/html": [
       "<div>\n",
       "<style scoped>\n",
       "    .dataframe tbody tr th:only-of-type {\n",
       "        vertical-align: middle;\n",
       "    }\n",
       "\n",
       "    .dataframe tbody tr th {\n",
       "        vertical-align: top;\n",
       "    }\n",
       "\n",
       "    .dataframe thead th {\n",
       "        text-align: right;\n",
       "    }\n",
       "</style>\n",
       "<table border=\"1\" class=\"dataframe\">\n",
       "  <thead>\n",
       "    <tr style=\"text-align: right;\">\n",
       "      <th></th>\n",
       "      <th>이름</th>\n",
       "      <th>국어</th>\n",
       "      <th>미술</th>\n",
       "      <th>수학</th>\n",
       "      <th>체육</th>\n",
       "    </tr>\n",
       "  </thead>\n",
       "  <tbody>\n",
       "    <tr>\n",
       "      <th>0</th>\n",
       "      <td>마징가</td>\n",
       "      <td>98</td>\n",
       "      <td>70</td>\n",
       "      <td>77</td>\n",
       "      <td>77</td>\n",
       "    </tr>\n",
       "    <tr>\n",
       "      <th>1</th>\n",
       "      <td>베트맨</td>\n",
       "      <td>79</td>\n",
       "      <td>99</td>\n",
       "      <td>70</td>\n",
       "      <td>80</td>\n",
       "    </tr>\n",
       "    <tr>\n",
       "      <th>2</th>\n",
       "      <td>홍길동</td>\n",
       "      <td>99</td>\n",
       "      <td>87</td>\n",
       "      <td>89</td>\n",
       "      <td>75</td>\n",
       "    </tr>\n",
       "    <tr>\n",
       "      <th>3</th>\n",
       "      <td>임꺽정</td>\n",
       "      <td>100</td>\n",
       "      <td>80</td>\n",
       "      <td>72</td>\n",
       "      <td>100</td>\n",
       "    </tr>\n",
       "    <tr>\n",
       "      <th>4</th>\n",
       "      <td>마징가</td>\n",
       "      <td>98</td>\n",
       "      <td>50</td>\n",
       "      <td>60</td>\n",
       "      <td>77</td>\n",
       "    </tr>\n",
       "    <tr>\n",
       "      <th>5</th>\n",
       "      <td>마징가</td>\n",
       "      <td>98</td>\n",
       "      <td>87</td>\n",
       "      <td>70</td>\n",
       "      <td>91</td>\n",
       "    </tr>\n",
       "  </tbody>\n",
       "</table>\n",
       "</div>"
      ],
      "text/plain": [
       "    이름   국어  미술  수학   체육\n",
       "0  마징가   98  70  77   77\n",
       "1  베트맨   79  99  70   80\n",
       "2  홍길동   99  87  89   75\n",
       "3  임꺽정  100  80  72  100\n",
       "4  마징가   98  50  60   77\n",
       "5  마징가   98  87  70   91"
      ]
     },
     "execution_count": 8,
     "metadata": {},
     "output_type": "execute_result"
    }
   ],
   "source": [
    "examDF"
   ]
  },
  {
   "cell_type": "code",
   "execution_count": null,
   "id": "7b29b108-5b02-4b60-abcd-018c60bdd151",
   "metadata": {},
   "outputs": [],
   "source": []
  },
  {
   "cell_type": "markdown",
   "id": "c79b9c97-6512-411c-bd35-f7c6cc37bd59",
   "metadata": {},
   "source": [
    "- (5) 새로운 인덱스 설정 - 방법1 : 인덱스 일부 변경 DF.rename()"
   ]
  },
  {
   "cell_type": "code",
   "execution_count": 9,
   "id": "f1842ad6-7e78-4685-9ae9-5688189aa1de",
   "metadata": {},
   "outputs": [
    {
     "data": {
      "text/html": [
       "<div>\n",
       "<style scoped>\n",
       "    .dataframe tbody tr th:only-of-type {\n",
       "        vertical-align: middle;\n",
       "    }\n",
       "\n",
       "    .dataframe tbody tr th {\n",
       "        vertical-align: top;\n",
       "    }\n",
       "\n",
       "    .dataframe thead th {\n",
       "        text-align: right;\n",
       "    }\n",
       "</style>\n",
       "<table border=\"1\" class=\"dataframe\">\n",
       "  <thead>\n",
       "    <tr style=\"text-align: right;\">\n",
       "      <th></th>\n",
       "      <th>이름</th>\n",
       "      <th>국어</th>\n",
       "      <th>미술</th>\n",
       "      <th>수학</th>\n",
       "      <th>체육</th>\n",
       "    </tr>\n",
       "  </thead>\n",
       "  <tbody>\n",
       "    <tr>\n",
       "      <th>zero</th>\n",
       "      <td>마징가</td>\n",
       "      <td>98</td>\n",
       "      <td>70</td>\n",
       "      <td>77</td>\n",
       "      <td>77</td>\n",
       "    </tr>\n",
       "    <tr>\n",
       "      <th>1</th>\n",
       "      <td>베트맨</td>\n",
       "      <td>79</td>\n",
       "      <td>99</td>\n",
       "      <td>70</td>\n",
       "      <td>80</td>\n",
       "    </tr>\n",
       "    <tr>\n",
       "      <th>2</th>\n",
       "      <td>홍길동</td>\n",
       "      <td>99</td>\n",
       "      <td>87</td>\n",
       "      <td>89</td>\n",
       "      <td>75</td>\n",
       "    </tr>\n",
       "    <tr>\n",
       "      <th>3</th>\n",
       "      <td>임꺽정</td>\n",
       "      <td>100</td>\n",
       "      <td>80</td>\n",
       "      <td>72</td>\n",
       "      <td>100</td>\n",
       "    </tr>\n",
       "    <tr>\n",
       "      <th>4</th>\n",
       "      <td>마징가</td>\n",
       "      <td>98</td>\n",
       "      <td>50</td>\n",
       "      <td>60</td>\n",
       "      <td>77</td>\n",
       "    </tr>\n",
       "    <tr>\n",
       "      <th>5</th>\n",
       "      <td>마징가</td>\n",
       "      <td>98</td>\n",
       "      <td>87</td>\n",
       "      <td>70</td>\n",
       "      <td>91</td>\n",
       "    </tr>\n",
       "  </tbody>\n",
       "</table>\n",
       "</div>"
      ],
      "text/plain": [
       "       이름   국어  미술  수학   체육\n",
       "zero  마징가   98  70  77   77\n",
       "1     베트맨   79  99  70   80\n",
       "2     홍길동   99  87  89   75\n",
       "3     임꺽정  100  80  72  100\n",
       "4     마징가   98  50  60   77\n",
       "5     마징가   98  87  70   91"
      ]
     },
     "execution_count": 9,
     "metadata": {},
     "output_type": "execute_result"
    }
   ],
   "source": [
    "# 행 인덱스 일부 변경 => {기존인덱스:새로운인덱스}\n",
    "examDF.rename(index={0:'zero'})   # 원본에 영향을 안준다."
   ]
  },
  {
   "cell_type": "code",
   "execution_count": 10,
   "id": "596fe79d-35d2-4a21-a9f5-257330a2fc79",
   "metadata": {},
   "outputs": [
    {
     "data": {
      "text/html": [
       "<div>\n",
       "<style scoped>\n",
       "    .dataframe tbody tr th:only-of-type {\n",
       "        vertical-align: middle;\n",
       "    }\n",
       "\n",
       "    .dataframe tbody tr th {\n",
       "        vertical-align: top;\n",
       "    }\n",
       "\n",
       "    .dataframe thead th {\n",
       "        text-align: right;\n",
       "    }\n",
       "</style>\n",
       "<table border=\"1\" class=\"dataframe\">\n",
       "  <thead>\n",
       "    <tr style=\"text-align: right;\">\n",
       "      <th></th>\n",
       "      <th>이름</th>\n",
       "      <th>국어</th>\n",
       "      <th>미술</th>\n",
       "      <th>수학</th>\n",
       "      <th>체육</th>\n",
       "    </tr>\n",
       "  </thead>\n",
       "  <tbody>\n",
       "    <tr>\n",
       "      <th>0</th>\n",
       "      <td>마징가</td>\n",
       "      <td>98</td>\n",
       "      <td>70</td>\n",
       "      <td>77</td>\n",
       "      <td>77</td>\n",
       "    </tr>\n",
       "    <tr>\n",
       "      <th>1</th>\n",
       "      <td>베트맨</td>\n",
       "      <td>79</td>\n",
       "      <td>99</td>\n",
       "      <td>70</td>\n",
       "      <td>80</td>\n",
       "    </tr>\n",
       "    <tr>\n",
       "      <th>2</th>\n",
       "      <td>홍길동</td>\n",
       "      <td>99</td>\n",
       "      <td>87</td>\n",
       "      <td>89</td>\n",
       "      <td>75</td>\n",
       "    </tr>\n",
       "    <tr>\n",
       "      <th>3</th>\n",
       "      <td>임꺽정</td>\n",
       "      <td>100</td>\n",
       "      <td>80</td>\n",
       "      <td>72</td>\n",
       "      <td>100</td>\n",
       "    </tr>\n",
       "    <tr>\n",
       "      <th>4</th>\n",
       "      <td>마징가</td>\n",
       "      <td>98</td>\n",
       "      <td>50</td>\n",
       "      <td>60</td>\n",
       "      <td>77</td>\n",
       "    </tr>\n",
       "    <tr>\n",
       "      <th>5</th>\n",
       "      <td>마징가</td>\n",
       "      <td>98</td>\n",
       "      <td>87</td>\n",
       "      <td>70</td>\n",
       "      <td>91</td>\n",
       "    </tr>\n",
       "  </tbody>\n",
       "</table>\n",
       "</div>"
      ],
      "text/plain": [
       "    이름   국어  미술  수학   체육\n",
       "0  마징가   98  70  77   77\n",
       "1  베트맨   79  99  70   80\n",
       "2  홍길동   99  87  89   75\n",
       "3  임꺽정  100  80  72  100\n",
       "4  마징가   98  50  60   77\n",
       "5  마징가   98  87  70   91"
      ]
     },
     "execution_count": 10,
     "metadata": {},
     "output_type": "execute_result"
    }
   ],
   "source": [
    "examDF"
   ]
  },
  {
   "cell_type": "code",
   "execution_count": 11,
   "id": "6124b367-49ae-422c-8b44-19cf431f9ea1",
   "metadata": {},
   "outputs": [
    {
     "data": {
      "text/html": [
       "<div>\n",
       "<style scoped>\n",
       "    .dataframe tbody tr th:only-of-type {\n",
       "        vertical-align: middle;\n",
       "    }\n",
       "\n",
       "    .dataframe tbody tr th {\n",
       "        vertical-align: top;\n",
       "    }\n",
       "\n",
       "    .dataframe thead th {\n",
       "        text-align: right;\n",
       "    }\n",
       "</style>\n",
       "<table border=\"1\" class=\"dataframe\">\n",
       "  <thead>\n",
       "    <tr style=\"text-align: right;\">\n",
       "      <th></th>\n",
       "      <th>이름</th>\n",
       "      <th>국어</th>\n",
       "      <th>미술</th>\n",
       "      <th>수학</th>\n",
       "      <th>체육</th>\n",
       "    </tr>\n",
       "  </thead>\n",
       "  <tbody>\n",
       "    <tr>\n",
       "      <th>zero</th>\n",
       "      <td>마징가</td>\n",
       "      <td>98</td>\n",
       "      <td>70</td>\n",
       "      <td>77</td>\n",
       "      <td>77</td>\n",
       "    </tr>\n",
       "    <tr>\n",
       "      <th>1</th>\n",
       "      <td>베트맨</td>\n",
       "      <td>79</td>\n",
       "      <td>99</td>\n",
       "      <td>70</td>\n",
       "      <td>80</td>\n",
       "    </tr>\n",
       "    <tr>\n",
       "      <th>2</th>\n",
       "      <td>홍길동</td>\n",
       "      <td>99</td>\n",
       "      <td>87</td>\n",
       "      <td>89</td>\n",
       "      <td>75</td>\n",
       "    </tr>\n",
       "    <tr>\n",
       "      <th>3</th>\n",
       "      <td>임꺽정</td>\n",
       "      <td>100</td>\n",
       "      <td>80</td>\n",
       "      <td>72</td>\n",
       "      <td>100</td>\n",
       "    </tr>\n",
       "    <tr>\n",
       "      <th>4</th>\n",
       "      <td>마징가</td>\n",
       "      <td>98</td>\n",
       "      <td>50</td>\n",
       "      <td>60</td>\n",
       "      <td>77</td>\n",
       "    </tr>\n",
       "    <tr>\n",
       "      <th>5</th>\n",
       "      <td>마징가</td>\n",
       "      <td>98</td>\n",
       "      <td>87</td>\n",
       "      <td>70</td>\n",
       "      <td>91</td>\n",
       "    </tr>\n",
       "  </tbody>\n",
       "</table>\n",
       "</div>"
      ],
      "text/plain": [
       "       이름   국어  미술  수학   체육\n",
       "zero  마징가   98  70  77   77\n",
       "1     베트맨   79  99  70   80\n",
       "2     홍길동   99  87  89   75\n",
       "3     임꺽정  100  80  72  100\n",
       "4     마징가   98  50  60   77\n",
       "5     마징가   98  87  70   91"
      ]
     },
     "execution_count": 11,
     "metadata": {},
     "output_type": "execute_result"
    }
   ],
   "source": [
    "# 행 인덱스 일부 변경 => {기존인덱스:새로운인덱스}\n",
    "# inplace 매개변수/파라미터 => 원본 DataFrame에 변경여부 결정, 기본은 원본 변경 안함 False!!!\n",
    "examDF.rename(index={0:'zero'})  "
   ]
  },
  {
   "cell_type": "code",
   "execution_count": 12,
   "id": "e58b795e-137a-4593-a7fc-8833a4fdf346",
   "metadata": {},
   "outputs": [
    {
     "data": {
      "text/html": [
       "<div>\n",
       "<style scoped>\n",
       "    .dataframe tbody tr th:only-of-type {\n",
       "        vertical-align: middle;\n",
       "    }\n",
       "\n",
       "    .dataframe tbody tr th {\n",
       "        vertical-align: top;\n",
       "    }\n",
       "\n",
       "    .dataframe thead th {\n",
       "        text-align: right;\n",
       "    }\n",
       "</style>\n",
       "<table border=\"1\" class=\"dataframe\">\n",
       "  <thead>\n",
       "    <tr style=\"text-align: right;\">\n",
       "      <th></th>\n",
       "      <th>이름</th>\n",
       "      <th>국어</th>\n",
       "      <th>미술</th>\n",
       "      <th>수학</th>\n",
       "      <th>체육</th>\n",
       "    </tr>\n",
       "  </thead>\n",
       "  <tbody>\n",
       "    <tr>\n",
       "      <th>0</th>\n",
       "      <td>마징가</td>\n",
       "      <td>98</td>\n",
       "      <td>70</td>\n",
       "      <td>77</td>\n",
       "      <td>77</td>\n",
       "    </tr>\n",
       "    <tr>\n",
       "      <th>1</th>\n",
       "      <td>베트맨</td>\n",
       "      <td>79</td>\n",
       "      <td>99</td>\n",
       "      <td>70</td>\n",
       "      <td>80</td>\n",
       "    </tr>\n",
       "    <tr>\n",
       "      <th>2</th>\n",
       "      <td>홍길동</td>\n",
       "      <td>99</td>\n",
       "      <td>87</td>\n",
       "      <td>89</td>\n",
       "      <td>75</td>\n",
       "    </tr>\n",
       "    <tr>\n",
       "      <th>3</th>\n",
       "      <td>임꺽정</td>\n",
       "      <td>100</td>\n",
       "      <td>80</td>\n",
       "      <td>72</td>\n",
       "      <td>100</td>\n",
       "    </tr>\n",
       "    <tr>\n",
       "      <th>4</th>\n",
       "      <td>마징가</td>\n",
       "      <td>98</td>\n",
       "      <td>50</td>\n",
       "      <td>60</td>\n",
       "      <td>77</td>\n",
       "    </tr>\n",
       "    <tr>\n",
       "      <th>5</th>\n",
       "      <td>마징가</td>\n",
       "      <td>98</td>\n",
       "      <td>87</td>\n",
       "      <td>70</td>\n",
       "      <td>91</td>\n",
       "    </tr>\n",
       "  </tbody>\n",
       "</table>\n",
       "</div>"
      ],
      "text/plain": [
       "    이름   국어  미술  수학   체육\n",
       "0  마징가   98  70  77   77\n",
       "1  베트맨   79  99  70   80\n",
       "2  홍길동   99  87  89   75\n",
       "3  임꺽정  100  80  72  100\n",
       "4  마징가   98  50  60   77\n",
       "5  마징가   98  87  70   91"
      ]
     },
     "execution_count": 12,
     "metadata": {},
     "output_type": "execute_result"
    }
   ],
   "source": [
    "examDF"
   ]
  },
  {
   "cell_type": "code",
   "execution_count": 13,
   "id": "b9383a0f-fff2-47cf-bbbd-032f70d8422d",
   "metadata": {},
   "outputs": [
    {
     "data": {
      "text/html": [
       "<div>\n",
       "<style scoped>\n",
       "    .dataframe tbody tr th:only-of-type {\n",
       "        vertical-align: middle;\n",
       "    }\n",
       "\n",
       "    .dataframe tbody tr th {\n",
       "        vertical-align: top;\n",
       "    }\n",
       "\n",
       "    .dataframe thead th {\n",
       "        text-align: right;\n",
       "    }\n",
       "</style>\n",
       "<table border=\"1\" class=\"dataframe\">\n",
       "  <thead>\n",
       "    <tr style=\"text-align: right;\">\n",
       "      <th></th>\n",
       "      <th>이름</th>\n",
       "      <th>국어</th>\n",
       "      <th>미술</th>\n",
       "      <th>수학</th>\n",
       "      <th>음악</th>\n",
       "    </tr>\n",
       "  </thead>\n",
       "  <tbody>\n",
       "    <tr>\n",
       "      <th>0</th>\n",
       "      <td>마징가</td>\n",
       "      <td>98</td>\n",
       "      <td>70</td>\n",
       "      <td>77</td>\n",
       "      <td>77</td>\n",
       "    </tr>\n",
       "    <tr>\n",
       "      <th>1</th>\n",
       "      <td>베트맨</td>\n",
       "      <td>79</td>\n",
       "      <td>99</td>\n",
       "      <td>70</td>\n",
       "      <td>80</td>\n",
       "    </tr>\n",
       "    <tr>\n",
       "      <th>2</th>\n",
       "      <td>홍길동</td>\n",
       "      <td>99</td>\n",
       "      <td>87</td>\n",
       "      <td>89</td>\n",
       "      <td>75</td>\n",
       "    </tr>\n",
       "    <tr>\n",
       "      <th>3</th>\n",
       "      <td>임꺽정</td>\n",
       "      <td>100</td>\n",
       "      <td>80</td>\n",
       "      <td>72</td>\n",
       "      <td>100</td>\n",
       "    </tr>\n",
       "    <tr>\n",
       "      <th>4</th>\n",
       "      <td>마징가</td>\n",
       "      <td>98</td>\n",
       "      <td>50</td>\n",
       "      <td>60</td>\n",
       "      <td>77</td>\n",
       "    </tr>\n",
       "    <tr>\n",
       "      <th>5</th>\n",
       "      <td>마징가</td>\n",
       "      <td>98</td>\n",
       "      <td>87</td>\n",
       "      <td>70</td>\n",
       "      <td>91</td>\n",
       "    </tr>\n",
       "  </tbody>\n",
       "</table>\n",
       "</div>"
      ],
      "text/plain": [
       "    이름   국어  미술  수학   음악\n",
       "0  마징가   98  70  77   77\n",
       "1  베트맨   79  99  70   80\n",
       "2  홍길동   99  87  89   75\n",
       "3  임꺽정  100  80  72  100\n",
       "4  마징가   98  50  60   77\n",
       "5  마징가   98  87  70   91"
      ]
     },
     "execution_count": 13,
     "metadata": {},
     "output_type": "execute_result"
    }
   ],
   "source": [
    "# 열 이름 인덱스 일부 변경 => column={기존인덱스:새로운인덱스}\n",
    "examDF.rename(columns={'체육':'음악'})"
   ]
  },
  {
   "cell_type": "code",
   "execution_count": 14,
   "id": "f9036773-ec74-40de-9dce-365de657fb9b",
   "metadata": {},
   "outputs": [
    {
     "data": {
      "text/plain": [
       "Index(['이름', '국어', '미술', '수학', '체육'], dtype='object')"
      ]
     },
     "execution_count": 14,
     "metadata": {},
     "output_type": "execute_result"
    }
   ],
   "source": [
    "examDF.columns"
   ]
  },
  {
   "cell_type": "markdown",
   "id": "ec611576-f6a9-4cd9-9aa7-ff07d8bb9d52",
   "metadata": {},
   "source": [
    "- (5) 새로운 인덱스 설정 - 방법2: 특정 컬럼 => 인덱스 : DF.set_index()"
   ]
  },
  {
   "cell_type": "code",
   "execution_count": 15,
   "id": "5ad3cbfb-6509-4d6f-8323-d266298859ea",
   "metadata": {},
   "outputs": [
    {
     "data": {
      "text/plain": [
       "Index([0, 1, 2, 3, 4, 5], dtype='int64')"
      ]
     },
     "execution_count": 15,
     "metadata": {},
     "output_type": "execute_result"
    }
   ],
   "source": [
    "# 현재 기본 0 ~ ==> 이름 컬럼 인덱스로 설정\n",
    "examDF.index"
   ]
  },
  {
   "cell_type": "code",
   "execution_count": 16,
   "id": "20232426-f223-4299-a193-1d3e9cbf4e0b",
   "metadata": {},
   "outputs": [
    {
     "data": {
      "text/plain": [
       "Index(['마징가', '베트맨', '홍길동', '임꺽정', '마징가', '마징가'], dtype='object', name='이름')"
      ]
     },
     "execution_count": 16,
     "metadata": {},
     "output_type": "execute_result"
    }
   ],
   "source": [
    "# 1개 컬럼을 인덱스로 설정 단, inplace 파라메터가 False로 원본에 적용 안됨!\n",
    "examDF2 = examDF.set_index('이름')\n",
    "examDF2.index"
   ]
  },
  {
   "cell_type": "code",
   "execution_count": 17,
   "id": "562321c7-a2ae-4ca7-a8fe-c123dca8e669",
   "metadata": {},
   "outputs": [
    {
     "data": {
      "text/html": [
       "<div>\n",
       "<style scoped>\n",
       "    .dataframe tbody tr th:only-of-type {\n",
       "        vertical-align: middle;\n",
       "    }\n",
       "\n",
       "    .dataframe tbody tr th {\n",
       "        vertical-align: top;\n",
       "    }\n",
       "\n",
       "    .dataframe thead th {\n",
       "        text-align: right;\n",
       "    }\n",
       "</style>\n",
       "<table border=\"1\" class=\"dataframe\">\n",
       "  <thead>\n",
       "    <tr style=\"text-align: right;\">\n",
       "      <th></th>\n",
       "      <th>국어</th>\n",
       "      <th>미술</th>\n",
       "      <th>수학</th>\n",
       "      <th>체육</th>\n",
       "    </tr>\n",
       "    <tr>\n",
       "      <th>이름</th>\n",
       "      <th></th>\n",
       "      <th></th>\n",
       "      <th></th>\n",
       "      <th></th>\n",
       "    </tr>\n",
       "  </thead>\n",
       "  <tbody>\n",
       "    <tr>\n",
       "      <th>마징가</th>\n",
       "      <td>98</td>\n",
       "      <td>70</td>\n",
       "      <td>77</td>\n",
       "      <td>77</td>\n",
       "    </tr>\n",
       "    <tr>\n",
       "      <th>마징가</th>\n",
       "      <td>98</td>\n",
       "      <td>50</td>\n",
       "      <td>60</td>\n",
       "      <td>77</td>\n",
       "    </tr>\n",
       "    <tr>\n",
       "      <th>마징가</th>\n",
       "      <td>98</td>\n",
       "      <td>87</td>\n",
       "      <td>70</td>\n",
       "      <td>91</td>\n",
       "    </tr>\n",
       "  </tbody>\n",
       "</table>\n",
       "</div>"
      ],
      "text/plain": [
       "     국어  미술  수학  체육\n",
       "이름                 \n",
       "마징가  98  70  77  77\n",
       "마징가  98  50  60  77\n",
       "마징가  98  87  70  91"
      ]
     },
     "execution_count": 17,
     "metadata": {},
     "output_type": "execute_result"
    }
   ],
   "source": [
    "examDF2.loc['마징가']"
   ]
  },
  {
   "cell_type": "code",
   "execution_count": 18,
   "id": "8518df23-e0fd-4059-88a6-7f874c6bf9fd",
   "metadata": {},
   "outputs": [
    {
     "data": {
      "text/plain": [
       "MultiIndex([('마징가',  98, 77),\n",
       "            ('베트맨',  79, 70),\n",
       "            ('홍길동',  99, 89),\n",
       "            ('임꺽정', 100, 72),\n",
       "            ('마징가',  98, 60),\n",
       "            ('마징가',  98, 70)],\n",
       "           names=['이름', '국어', '수학'])"
      ]
     },
     "execution_count": 18,
     "metadata": {},
     "output_type": "execute_result"
    }
   ],
   "source": [
    "# 2개의 컬럼을 행 인덱스 설정 단, inplace 파라메터가 False로 원본에 적용 안됨!\n",
    "examDF3 = examDF.set_index(['이름','국어','수학'])\n",
    "examDF3.index"
   ]
  },
  {
   "cell_type": "code",
   "execution_count": 19,
   "id": "e2f1cdcb-23b5-4d8b-8748-05920e67e2be",
   "metadata": {},
   "outputs": [
    {
     "data": {
      "text/plain": [
       "미술    87\n",
       "체육    91\n",
       "Name: (마징가, 98, 70), dtype: int64"
      ]
     },
     "execution_count": 19,
     "metadata": {},
     "output_type": "execute_result"
    }
   ],
   "source": [
    "examDF3.loc[('마징가',98,70)]"
   ]
  },
  {
   "cell_type": "code",
   "execution_count": 20,
   "id": "adfad7d9-1019-40f2-b148-2e8b91b198b0",
   "metadata": {},
   "outputs": [
    {
     "name": "stderr",
     "output_type": "stream",
     "text": [
      "C:\\Users\\KDP-23\\AppData\\Local\\Temp\\ipykernel_13336\\3044410823.py:1: PerformanceWarning: indexing past lexsort depth may impact performance.\n",
      "  examDF3.loc[('마징가',98)]\n"
     ]
    },
    {
     "data": {
      "text/html": [
       "<div>\n",
       "<style scoped>\n",
       "    .dataframe tbody tr th:only-of-type {\n",
       "        vertical-align: middle;\n",
       "    }\n",
       "\n",
       "    .dataframe tbody tr th {\n",
       "        vertical-align: top;\n",
       "    }\n",
       "\n",
       "    .dataframe thead th {\n",
       "        text-align: right;\n",
       "    }\n",
       "</style>\n",
       "<table border=\"1\" class=\"dataframe\">\n",
       "  <thead>\n",
       "    <tr style=\"text-align: right;\">\n",
       "      <th></th>\n",
       "      <th>미술</th>\n",
       "      <th>체육</th>\n",
       "    </tr>\n",
       "    <tr>\n",
       "      <th>수학</th>\n",
       "      <th></th>\n",
       "      <th></th>\n",
       "    </tr>\n",
       "  </thead>\n",
       "  <tbody>\n",
       "    <tr>\n",
       "      <th>77</th>\n",
       "      <td>70</td>\n",
       "      <td>77</td>\n",
       "    </tr>\n",
       "    <tr>\n",
       "      <th>60</th>\n",
       "      <td>50</td>\n",
       "      <td>77</td>\n",
       "    </tr>\n",
       "    <tr>\n",
       "      <th>70</th>\n",
       "      <td>87</td>\n",
       "      <td>91</td>\n",
       "    </tr>\n",
       "  </tbody>\n",
       "</table>\n",
       "</div>"
      ],
      "text/plain": [
       "    미술  체육\n",
       "수학        \n",
       "77  70  77\n",
       "60  50  77\n",
       "70  87  91"
      ]
     },
     "execution_count": 20,
     "metadata": {},
     "output_type": "execute_result"
    }
   ],
   "source": [
    "examDF3.loc[('마징가',98)]"
   ]
  },
  {
   "cell_type": "code",
   "execution_count": 21,
   "id": "7d10a2ea-0a4c-4f18-966b-d99a1f47ded9",
   "metadata": {},
   "outputs": [],
   "source": [
    "# keyError => '마징가', 98, 46 형식으로 98로 시작하는 key 없음\n",
    "# examDF3.loc[(98,46)]"
   ]
  },
  {
   "cell_type": "markdown",
   "id": "a27c62cc-d051-4b28-9a59-eaad2d03cc87",
   "metadata": {},
   "source": [
    "- (5) 새로운 인덱스 설정 방법 3 : 멀티인덱스 제어 DF.set_index([컬럼1, 컬럼2, ..., 컬럼n])"
   ]
  },
  {
   "cell_type": "code",
   "execution_count": 22,
   "id": "f340c893-e971-4348-8dc2-536e0bf70ea7",
   "metadata": {},
   "outputs": [
    {
     "data": {
      "text/html": [
       "<div>\n",
       "<style scoped>\n",
       "    .dataframe tbody tr th:only-of-type {\n",
       "        vertical-align: middle;\n",
       "    }\n",
       "\n",
       "    .dataframe tbody tr th {\n",
       "        vertical-align: top;\n",
       "    }\n",
       "\n",
       "    .dataframe thead th {\n",
       "        text-align: right;\n",
       "    }\n",
       "</style>\n",
       "<table border=\"1\" class=\"dataframe\">\n",
       "  <thead>\n",
       "    <tr style=\"text-align: right;\">\n",
       "      <th></th>\n",
       "      <th></th>\n",
       "      <th></th>\n",
       "      <th>미술</th>\n",
       "      <th>체육</th>\n",
       "    </tr>\n",
       "    <tr>\n",
       "      <th>이름</th>\n",
       "      <th>국어</th>\n",
       "      <th>수학</th>\n",
       "      <th></th>\n",
       "      <th></th>\n",
       "    </tr>\n",
       "  </thead>\n",
       "  <tbody>\n",
       "    <tr>\n",
       "      <th>마징가</th>\n",
       "      <th>98</th>\n",
       "      <th>77</th>\n",
       "      <td>70</td>\n",
       "      <td>77</td>\n",
       "    </tr>\n",
       "    <tr>\n",
       "      <th>베트맨</th>\n",
       "      <th>79</th>\n",
       "      <th>70</th>\n",
       "      <td>99</td>\n",
       "      <td>80</td>\n",
       "    </tr>\n",
       "    <tr>\n",
       "      <th>홍길동</th>\n",
       "      <th>99</th>\n",
       "      <th>89</th>\n",
       "      <td>87</td>\n",
       "      <td>75</td>\n",
       "    </tr>\n",
       "    <tr>\n",
       "      <th>임꺽정</th>\n",
       "      <th>100</th>\n",
       "      <th>72</th>\n",
       "      <td>80</td>\n",
       "      <td>100</td>\n",
       "    </tr>\n",
       "    <tr>\n",
       "      <th rowspan=\"2\" valign=\"top\">마징가</th>\n",
       "      <th rowspan=\"2\" valign=\"top\">98</th>\n",
       "      <th>60</th>\n",
       "      <td>50</td>\n",
       "      <td>77</td>\n",
       "    </tr>\n",
       "    <tr>\n",
       "      <th>70</th>\n",
       "      <td>87</td>\n",
       "      <td>91</td>\n",
       "    </tr>\n",
       "  </tbody>\n",
       "</table>\n",
       "</div>"
      ],
      "text/plain": [
       "            미술   체육\n",
       "이름  국어  수학         \n",
       "마징가 98  77  70   77\n",
       "베트맨 79  70  99   80\n",
       "홍길동 99  89  87   75\n",
       "임꺽정 100 72  80  100\n",
       "마징가 98  60  50   77\n",
       "        70  87   91"
      ]
     },
     "execution_count": 22,
     "metadata": {},
     "output_type": "execute_result"
    }
   ],
   "source": [
    "# 이름, 국어, 수학을 인덱스로 설정\n",
    "examDF.set_index(['이름', '국어', '수학'])"
   ]
  },
  {
   "cell_type": "code",
   "execution_count": 23,
   "id": "8187d41b-3dfe-4dbb-bc1e-8a41aaec8106",
   "metadata": {},
   "outputs": [
    {
     "data": {
      "text/html": [
       "<div>\n",
       "<style scoped>\n",
       "    .dataframe tbody tr th:only-of-type {\n",
       "        vertical-align: middle;\n",
       "    }\n",
       "\n",
       "    .dataframe tbody tr th {\n",
       "        vertical-align: top;\n",
       "    }\n",
       "\n",
       "    .dataframe thead th {\n",
       "        text-align: right;\n",
       "    }\n",
       "</style>\n",
       "<table border=\"1\" class=\"dataframe\">\n",
       "  <thead>\n",
       "    <tr style=\"text-align: right;\">\n",
       "      <th></th>\n",
       "      <th></th>\n",
       "      <th></th>\n",
       "      <th>미술</th>\n",
       "      <th>체육</th>\n",
       "    </tr>\n",
       "    <tr>\n",
       "      <th>이름</th>\n",
       "      <th>국어</th>\n",
       "      <th>수학</th>\n",
       "      <th></th>\n",
       "      <th></th>\n",
       "    </tr>\n",
       "  </thead>\n",
       "  <tbody>\n",
       "    <tr>\n",
       "      <th>마징가</th>\n",
       "      <th>98</th>\n",
       "      <th>77</th>\n",
       "      <td>70</td>\n",
       "      <td>77</td>\n",
       "    </tr>\n",
       "    <tr>\n",
       "      <th>베트맨</th>\n",
       "      <th>79</th>\n",
       "      <th>70</th>\n",
       "      <td>99</td>\n",
       "      <td>80</td>\n",
       "    </tr>\n",
       "    <tr>\n",
       "      <th>홍길동</th>\n",
       "      <th>99</th>\n",
       "      <th>89</th>\n",
       "      <td>87</td>\n",
       "      <td>75</td>\n",
       "    </tr>\n",
       "    <tr>\n",
       "      <th>임꺽정</th>\n",
       "      <th>100</th>\n",
       "      <th>72</th>\n",
       "      <td>80</td>\n",
       "      <td>100</td>\n",
       "    </tr>\n",
       "    <tr>\n",
       "      <th rowspan=\"2\" valign=\"top\">마징가</th>\n",
       "      <th rowspan=\"2\" valign=\"top\">98</th>\n",
       "      <th>60</th>\n",
       "      <td>50</td>\n",
       "      <td>77</td>\n",
       "    </tr>\n",
       "    <tr>\n",
       "      <th>70</th>\n",
       "      <td>87</td>\n",
       "      <td>91</td>\n",
       "    </tr>\n",
       "  </tbody>\n",
       "</table>\n",
       "</div>"
      ],
      "text/plain": [
       "            미술   체육\n",
       "이름  국어  수학         \n",
       "마징가 98  77  70   77\n",
       "베트맨 79  70  99   80\n",
       "홍길동 99  89  87   75\n",
       "임꺽정 100 72  80  100\n",
       "마징가 98  60  50   77\n",
       "        70  87   91"
      ]
     },
     "execution_count": 23,
     "metadata": {},
     "output_type": "execute_result"
    }
   ],
   "source": [
    "# 인덱스 속성 확인\n",
    "examDF1 = examDF.set_index(['이름', '국어', '수학'])\n",
    "examDF1"
   ]
  },
  {
   "cell_type": "code",
   "execution_count": 24,
   "id": "eb3165ff-792d-49a5-a229-977602b3ef4e",
   "metadata": {},
   "outputs": [
    {
     "data": {
      "text/plain": [
       "MultiIndex([('마징가',  98, 77),\n",
       "            ('베트맨',  79, 70),\n",
       "            ('홍길동',  99, 89),\n",
       "            ('임꺽정', 100, 72),\n",
       "            ('마징가',  98, 60),\n",
       "            ('마징가',  98, 70)],\n",
       "           names=['이름', '국어', '수학'])"
      ]
     },
     "execution_count": 24,
     "metadata": {},
     "output_type": "execute_result"
    }
   ],
   "source": [
    "# 인덱스 속성 확인\n",
    "examDF1.index"
   ]
  },
  {
   "cell_type": "markdown",
   "id": "aa5fc7d0-a52d-4d5e-85aa-4329ec0fc4db",
   "metadata": {},
   "source": [
    "- 행 데이터 선택 : DF객체변수명.loc[행 레이블] / DF객체변수명.iloc[위치인덱스]"
   ]
  },
  {
   "cell_type": "code",
   "execution_count": 25,
   "id": "1abb8588-c3d9-4a51-95ab-b01cbdb53de8",
   "metadata": {},
   "outputs": [
    {
     "data": {
      "text/plain": [
       "미술    70\n",
       "체육    77\n",
       "Name: (마징가, 98, 77), dtype: int64"
      ]
     },
     "execution_count": 25,
     "metadata": {},
     "output_type": "execute_result"
    }
   ],
   "source": [
    "examDF1.loc[('마징가', 98, 77)]"
   ]
  },
  {
   "cell_type": "code",
   "execution_count": 26,
   "id": "5aa2ed05-fafe-4572-8e05-cd3bb3f8923a",
   "metadata": {},
   "outputs": [
    {
     "data": {
      "text/plain": [
       "미술    87\n",
       "체육    91\n",
       "Name: (마징가, 98, 70), dtype: int64"
      ]
     },
     "execution_count": 26,
     "metadata": {},
     "output_type": "execute_result"
    }
   ],
   "source": [
    "examDF1.loc[('마징가', 98, 70)]"
   ]
  },
  {
   "cell_type": "code",
   "execution_count": 27,
   "id": "42c4874b-f3ff-46c2-9977-b00ed1d02e88",
   "metadata": {},
   "outputs": [
    {
     "data": {
      "text/plain": [
       "미술    50\n",
       "체육    77\n",
       "Name: (마징가, 98, 60), dtype: int64"
      ]
     },
     "execution_count": 27,
     "metadata": {},
     "output_type": "execute_result"
    }
   ],
   "source": [
    "examDF1.loc[('마징가', 98, 60)]"
   ]
  },
  {
   "cell_type": "code",
   "execution_count": 28,
   "id": "63a96738-0aa8-4fb9-b101-d304d4e1d23f",
   "metadata": {},
   "outputs": [],
   "source": [
    "# KeyError 발생 ===> ('마징가', 98, 77)\n",
    "#examDF1.loc[(98)]"
   ]
  },
  {
   "cell_type": "markdown",
   "id": "64775619-0d8b-43f3-ad34-fcbda825d94b",
   "metadata": {},
   "source": [
    "- 멀티인덱스의 인덱스의 일부분을 기준으로 행 선택 : xs()\n",
    "     * 예) '마징가' 98 77 => Level 0 1 2"
   ]
  },
  {
   "cell_type": "code",
   "execution_count": 29,
   "id": "a46f390f-663b-45c8-b0e5-d3f33f83f8ad",
   "metadata": {},
   "outputs": [
    {
     "data": {
      "text/html": [
       "<div>\n",
       "<style scoped>\n",
       "    .dataframe tbody tr th:only-of-type {\n",
       "        vertical-align: middle;\n",
       "    }\n",
       "\n",
       "    .dataframe tbody tr th {\n",
       "        vertical-align: top;\n",
       "    }\n",
       "\n",
       "    .dataframe thead th {\n",
       "        text-align: right;\n",
       "    }\n",
       "</style>\n",
       "<table border=\"1\" class=\"dataframe\">\n",
       "  <thead>\n",
       "    <tr style=\"text-align: right;\">\n",
       "      <th></th>\n",
       "      <th></th>\n",
       "      <th>미술</th>\n",
       "      <th>체육</th>\n",
       "    </tr>\n",
       "    <tr>\n",
       "      <th>국어</th>\n",
       "      <th>수학</th>\n",
       "      <th></th>\n",
       "      <th></th>\n",
       "    </tr>\n",
       "  </thead>\n",
       "  <tbody>\n",
       "    <tr>\n",
       "      <th rowspan=\"3\" valign=\"top\">98</th>\n",
       "      <th>77</th>\n",
       "      <td>70</td>\n",
       "      <td>77</td>\n",
       "    </tr>\n",
       "    <tr>\n",
       "      <th>60</th>\n",
       "      <td>50</td>\n",
       "      <td>77</td>\n",
       "    </tr>\n",
       "    <tr>\n",
       "      <th>70</th>\n",
       "      <td>87</td>\n",
       "      <td>91</td>\n",
       "    </tr>\n",
       "  </tbody>\n",
       "</table>\n",
       "</div>"
      ],
      "text/plain": [
       "       미술  체육\n",
       "국어 수학        \n",
       "98 77  70  77\n",
       "   60  50  77\n",
       "   70  87  91"
      ]
     },
     "execution_count": 29,
     "metadata": {},
     "output_type": "execute_result"
    }
   ],
   "source": [
    "examDF1.xs('마징가', level=0)"
   ]
  },
  {
   "cell_type": "code",
   "execution_count": 30,
   "id": "dd4935dc-0497-40d3-8f3b-0d04ed3f2d70",
   "metadata": {},
   "outputs": [
    {
     "data": {
      "text/html": [
       "<div>\n",
       "<style scoped>\n",
       "    .dataframe tbody tr th:only-of-type {\n",
       "        vertical-align: middle;\n",
       "    }\n",
       "\n",
       "    .dataframe tbody tr th {\n",
       "        vertical-align: top;\n",
       "    }\n",
       "\n",
       "    .dataframe thead th {\n",
       "        text-align: right;\n",
       "    }\n",
       "</style>\n",
       "<table border=\"1\" class=\"dataframe\">\n",
       "  <thead>\n",
       "    <tr style=\"text-align: right;\">\n",
       "      <th></th>\n",
       "      <th></th>\n",
       "      <th>미술</th>\n",
       "      <th>체육</th>\n",
       "    </tr>\n",
       "    <tr>\n",
       "      <th>이름</th>\n",
       "      <th>수학</th>\n",
       "      <th></th>\n",
       "      <th></th>\n",
       "    </tr>\n",
       "  </thead>\n",
       "  <tbody>\n",
       "    <tr>\n",
       "      <th rowspan=\"3\" valign=\"top\">마징가</th>\n",
       "      <th>77</th>\n",
       "      <td>70</td>\n",
       "      <td>77</td>\n",
       "    </tr>\n",
       "    <tr>\n",
       "      <th>60</th>\n",
       "      <td>50</td>\n",
       "      <td>77</td>\n",
       "    </tr>\n",
       "    <tr>\n",
       "      <th>70</th>\n",
       "      <td>87</td>\n",
       "      <td>91</td>\n",
       "    </tr>\n",
       "  </tbody>\n",
       "</table>\n",
       "</div>"
      ],
      "text/plain": [
       "        미술  체육\n",
       "이름  수학        \n",
       "마징가 77  70  77\n",
       "    60  50  77\n",
       "    70  87  91"
      ]
     },
     "execution_count": 30,
     "metadata": {},
     "output_type": "execute_result"
    }
   ],
   "source": [
    "examDF1.xs(98, level=1)"
   ]
  },
  {
   "cell_type": "code",
   "execution_count": 31,
   "id": "b211d57e-ebdb-407f-ae23-7329071db031",
   "metadata": {},
   "outputs": [
    {
     "data": {
      "text/html": [
       "<div>\n",
       "<style scoped>\n",
       "    .dataframe tbody tr th:only-of-type {\n",
       "        vertical-align: middle;\n",
       "    }\n",
       "\n",
       "    .dataframe tbody tr th {\n",
       "        vertical-align: top;\n",
       "    }\n",
       "\n",
       "    .dataframe thead th {\n",
       "        text-align: right;\n",
       "    }\n",
       "</style>\n",
       "<table border=\"1\" class=\"dataframe\">\n",
       "  <thead>\n",
       "    <tr style=\"text-align: right;\">\n",
       "      <th></th>\n",
       "      <th></th>\n",
       "      <th>미술</th>\n",
       "      <th>체육</th>\n",
       "    </tr>\n",
       "    <tr>\n",
       "      <th>이름</th>\n",
       "      <th>국어</th>\n",
       "      <th></th>\n",
       "      <th></th>\n",
       "    </tr>\n",
       "  </thead>\n",
       "  <tbody>\n",
       "    <tr>\n",
       "      <th>베트맨</th>\n",
       "      <th>79</th>\n",
       "      <td>99</td>\n",
       "      <td>80</td>\n",
       "    </tr>\n",
       "    <tr>\n",
       "      <th>마징가</th>\n",
       "      <th>98</th>\n",
       "      <td>87</td>\n",
       "      <td>91</td>\n",
       "    </tr>\n",
       "  </tbody>\n",
       "</table>\n",
       "</div>"
      ],
      "text/plain": [
       "        미술  체육\n",
       "이름  국어        \n",
       "베트맨 79  99  80\n",
       "마징가 98  87  91"
      ]
     },
     "execution_count": 31,
     "metadata": {},
     "output_type": "execute_result"
    }
   ],
   "source": [
    "examDF1.xs(70, level=2)"
   ]
  },
  {
   "cell_type": "markdown",
   "id": "8b686f04-24e5-4155-a249-6dc968d9c2d8",
   "metadata": {},
   "source": [
    "- ('마징가',98,77), ('임꺽정',100,72) 2개 행을 한꺼번에 가져오기"
   ]
  },
  {
   "cell_type": "code",
   "execution_count": 32,
   "id": "b52286e7-c570-41e9-ba81-98e00b0439ce",
   "metadata": {},
   "outputs": [
    {
     "data": {
      "text/html": [
       "<div>\n",
       "<style scoped>\n",
       "    .dataframe tbody tr th:only-of-type {\n",
       "        vertical-align: middle;\n",
       "    }\n",
       "\n",
       "    .dataframe tbody tr th {\n",
       "        vertical-align: top;\n",
       "    }\n",
       "\n",
       "    .dataframe thead th {\n",
       "        text-align: right;\n",
       "    }\n",
       "</style>\n",
       "<table border=\"1\" class=\"dataframe\">\n",
       "  <thead>\n",
       "    <tr style=\"text-align: right;\">\n",
       "      <th></th>\n",
       "      <th></th>\n",
       "      <th></th>\n",
       "      <th>미술</th>\n",
       "      <th>체육</th>\n",
       "    </tr>\n",
       "    <tr>\n",
       "      <th>이름</th>\n",
       "      <th>국어</th>\n",
       "      <th>수학</th>\n",
       "      <th></th>\n",
       "      <th></th>\n",
       "    </tr>\n",
       "  </thead>\n",
       "  <tbody>\n",
       "    <tr>\n",
       "      <th>마징가</th>\n",
       "      <th>98</th>\n",
       "      <th>77</th>\n",
       "      <td>70</td>\n",
       "      <td>77</td>\n",
       "    </tr>\n",
       "    <tr>\n",
       "      <th>임꺽정</th>\n",
       "      <th>100</th>\n",
       "      <th>72</th>\n",
       "      <td>80</td>\n",
       "      <td>100</td>\n",
       "    </tr>\n",
       "  </tbody>\n",
       "</table>\n",
       "</div>"
      ],
      "text/plain": [
       "            미술   체육\n",
       "이름  국어  수학         \n",
       "마징가 98  77  70   77\n",
       "임꺽정 100 72  80  100"
      ]
     },
     "execution_count": 32,
     "metadata": {},
     "output_type": "execute_result"
    }
   ],
   "source": [
    "examDF1.loc[[('마징가', 98, 77), ('임꺽정',100,72)]]"
   ]
  },
  {
   "cell_type": "code",
   "execution_count": 33,
   "id": "60fda823-b692-4933-8999-b1b3b508895a",
   "metadata": {},
   "outputs": [
    {
     "data": {
      "text/plain": [
       "미술    70\n",
       "체육    77\n",
       "Name: (마징가, 98, 77), dtype: int64"
      ]
     },
     "execution_count": 33,
     "metadata": {},
     "output_type": "execute_result"
    }
   ],
   "source": [
    "examDF1.loc[('마징가', 98, 77)]"
   ]
  },
  {
   "cell_type": "code",
   "execution_count": 34,
   "id": "376ca389-bd99-4f0a-a3d6-ba8567ab05a6",
   "metadata": {},
   "outputs": [
    {
     "data": {
      "text/html": [
       "<div>\n",
       "<style scoped>\n",
       "    .dataframe tbody tr th:only-of-type {\n",
       "        vertical-align: middle;\n",
       "    }\n",
       "\n",
       "    .dataframe tbody tr th {\n",
       "        vertical-align: top;\n",
       "    }\n",
       "\n",
       "    .dataframe thead th {\n",
       "        text-align: right;\n",
       "    }\n",
       "</style>\n",
       "<table border=\"1\" class=\"dataframe\">\n",
       "  <thead>\n",
       "    <tr style=\"text-align: right;\">\n",
       "      <th></th>\n",
       "      <th></th>\n",
       "      <th></th>\n",
       "      <th>미술</th>\n",
       "      <th>체육</th>\n",
       "    </tr>\n",
       "    <tr>\n",
       "      <th>이름</th>\n",
       "      <th>국어</th>\n",
       "      <th>수학</th>\n",
       "      <th></th>\n",
       "      <th></th>\n",
       "    </tr>\n",
       "  </thead>\n",
       "  <tbody>\n",
       "    <tr>\n",
       "      <th>마징가</th>\n",
       "      <th>98</th>\n",
       "      <th>77</th>\n",
       "      <td>70</td>\n",
       "      <td>77</td>\n",
       "    </tr>\n",
       "  </tbody>\n",
       "</table>\n",
       "</div>"
      ],
      "text/plain": [
       "           미술  체육\n",
       "이름  국어 수학        \n",
       "마징가 98 77  70  77"
      ]
     },
     "execution_count": 34,
     "metadata": {},
     "output_type": "execute_result"
    }
   ],
   "source": [
    "examDF1.loc[[('마징가', 98, 77)]]"
   ]
  },
  {
   "cell_type": "markdown",
   "id": "704b5958-78a6-442a-9976-db1f23c712da",
   "metadata": {},
   "source": [
    "- (5) 인덱스 재배치 : 행/열 인덱스를 원하는 순서대로 재배치+ 존재하지 않는 행/열 추가\n",
    "     * DF.reindex()"
   ]
  },
  {
   "cell_type": "code",
   "execution_count": 35,
   "id": "4531c3d3-5145-45d9-a996-11b952e0e675",
   "metadata": {},
   "outputs": [
    {
     "name": "stdout",
     "output_type": "stream",
     "text": [
      "Index([0, 1, 2, 3, 4, 5], dtype='int64')\n",
      "\n",
      "Index(['이름', '국어', '미술', '수학', '체육'], dtype='object')\n"
     ]
    }
   ],
   "source": [
    "print(examDF.index, examDF.columns, sep='\\n\\n')"
   ]
  },
  {
   "cell_type": "markdown",
   "id": "ddd186b1-a757-46e3-9fd4-228c74463082",
   "metadata": {},
   "source": [
    "- 컬럼명 순서 변경 ==> '체육', '미술', '국어', '수학'"
   ]
  },
  {
   "cell_type": "code",
   "execution_count": 36,
   "id": "34b6c387-5e39-4693-b347-a2104a8aa41b",
   "metadata": {},
   "outputs": [
    {
     "data": {
      "text/html": [
       "<div>\n",
       "<style scoped>\n",
       "    .dataframe tbody tr th:only-of-type {\n",
       "        vertical-align: middle;\n",
       "    }\n",
       "\n",
       "    .dataframe tbody tr th {\n",
       "        vertical-align: top;\n",
       "    }\n",
       "\n",
       "    .dataframe thead th {\n",
       "        text-align: right;\n",
       "    }\n",
       "</style>\n",
       "<table border=\"1\" class=\"dataframe\">\n",
       "  <thead>\n",
       "    <tr style=\"text-align: right;\">\n",
       "      <th></th>\n",
       "      <th>이름</th>\n",
       "      <th>국어</th>\n",
       "      <th>미술</th>\n",
       "      <th>수학</th>\n",
       "      <th>체육</th>\n",
       "    </tr>\n",
       "  </thead>\n",
       "  <tbody>\n",
       "    <tr>\n",
       "      <th>체육</th>\n",
       "      <td>NaN</td>\n",
       "      <td>NaN</td>\n",
       "      <td>NaN</td>\n",
       "      <td>NaN</td>\n",
       "      <td>NaN</td>\n",
       "    </tr>\n",
       "    <tr>\n",
       "      <th>미술</th>\n",
       "      <td>NaN</td>\n",
       "      <td>NaN</td>\n",
       "      <td>NaN</td>\n",
       "      <td>NaN</td>\n",
       "      <td>NaN</td>\n",
       "    </tr>\n",
       "    <tr>\n",
       "      <th>국어</th>\n",
       "      <td>NaN</td>\n",
       "      <td>NaN</td>\n",
       "      <td>NaN</td>\n",
       "      <td>NaN</td>\n",
       "      <td>NaN</td>\n",
       "    </tr>\n",
       "    <tr>\n",
       "      <th>수학</th>\n",
       "      <td>NaN</td>\n",
       "      <td>NaN</td>\n",
       "      <td>NaN</td>\n",
       "      <td>NaN</td>\n",
       "      <td>NaN</td>\n",
       "    </tr>\n",
       "  </tbody>\n",
       "</table>\n",
       "</div>"
      ],
      "text/plain": [
       "     이름  국어  미술  수학  체육\n",
       "체육  NaN NaN NaN NaN NaN\n",
       "미술  NaN NaN NaN NaN NaN\n",
       "국어  NaN NaN NaN NaN NaN\n",
       "수학  NaN NaN NaN NaN NaN"
      ]
     },
     "execution_count": 36,
     "metadata": {},
     "output_type": "execute_result"
    }
   ],
   "source": [
    "examDF.reindex(['체육', '미술', '국어', '수학'])    # axis 기본은 행(index)"
   ]
  },
  {
   "cell_type": "code",
   "execution_count": 37,
   "id": "1b55bfeb-cbe2-4e0e-9859-fbac07115843",
   "metadata": {},
   "outputs": [
    {
     "data": {
      "text/html": [
       "<div>\n",
       "<style scoped>\n",
       "    .dataframe tbody tr th:only-of-type {\n",
       "        vertical-align: middle;\n",
       "    }\n",
       "\n",
       "    .dataframe tbody tr th {\n",
       "        vertical-align: top;\n",
       "    }\n",
       "\n",
       "    .dataframe thead th {\n",
       "        text-align: right;\n",
       "    }\n",
       "</style>\n",
       "<table border=\"1\" class=\"dataframe\">\n",
       "  <thead>\n",
       "    <tr style=\"text-align: right;\">\n",
       "      <th></th>\n",
       "      <th>체육</th>\n",
       "      <th>미술</th>\n",
       "      <th>국어</th>\n",
       "      <th>수학</th>\n",
       "      <th>총합</th>\n",
       "    </tr>\n",
       "  </thead>\n",
       "  <tbody>\n",
       "    <tr>\n",
       "      <th>0</th>\n",
       "      <td>77</td>\n",
       "      <td>70</td>\n",
       "      <td>98</td>\n",
       "      <td>77</td>\n",
       "      <td>NaN</td>\n",
       "    </tr>\n",
       "    <tr>\n",
       "      <th>1</th>\n",
       "      <td>80</td>\n",
       "      <td>99</td>\n",
       "      <td>79</td>\n",
       "      <td>70</td>\n",
       "      <td>NaN</td>\n",
       "    </tr>\n",
       "    <tr>\n",
       "      <th>2</th>\n",
       "      <td>75</td>\n",
       "      <td>87</td>\n",
       "      <td>99</td>\n",
       "      <td>89</td>\n",
       "      <td>NaN</td>\n",
       "    </tr>\n",
       "    <tr>\n",
       "      <th>3</th>\n",
       "      <td>100</td>\n",
       "      <td>80</td>\n",
       "      <td>100</td>\n",
       "      <td>72</td>\n",
       "      <td>NaN</td>\n",
       "    </tr>\n",
       "    <tr>\n",
       "      <th>4</th>\n",
       "      <td>77</td>\n",
       "      <td>50</td>\n",
       "      <td>98</td>\n",
       "      <td>60</td>\n",
       "      <td>NaN</td>\n",
       "    </tr>\n",
       "    <tr>\n",
       "      <th>5</th>\n",
       "      <td>91</td>\n",
       "      <td>87</td>\n",
       "      <td>98</td>\n",
       "      <td>70</td>\n",
       "      <td>NaN</td>\n",
       "    </tr>\n",
       "  </tbody>\n",
       "</table>\n",
       "</div>"
      ],
      "text/plain": [
       "    체육  미술   국어  수학  총합\n",
       "0   77  70   98  77 NaN\n",
       "1   80  99   79  70 NaN\n",
       "2   75  87   99  89 NaN\n",
       "3  100  80  100  72 NaN\n",
       "4   77  50   98  60 NaN\n",
       "5   91  87   98  70 NaN"
      ]
     },
     "execution_count": 37,
     "metadata": {},
     "output_type": "execute_result"
    }
   ],
   "source": [
    "examDF.reindex(['체육', '미술', '국어', '수학','총합'], axis='columns')"
   ]
  },
  {
   "cell_type": "code",
   "execution_count": 38,
   "id": "4f9d1240-386b-46f8-b684-5ef788cf4369",
   "metadata": {},
   "outputs": [
    {
     "data": {
      "text/html": [
       "<div>\n",
       "<style scoped>\n",
       "    .dataframe tbody tr th:only-of-type {\n",
       "        vertical-align: middle;\n",
       "    }\n",
       "\n",
       "    .dataframe tbody tr th {\n",
       "        vertical-align: top;\n",
       "    }\n",
       "\n",
       "    .dataframe thead th {\n",
       "        text-align: right;\n",
       "    }\n",
       "</style>\n",
       "<table border=\"1\" class=\"dataframe\">\n",
       "  <thead>\n",
       "    <tr style=\"text-align: right;\">\n",
       "      <th></th>\n",
       "      <th>체육</th>\n",
       "      <th>미술</th>\n",
       "      <th>국어</th>\n",
       "      <th>수학</th>\n",
       "      <th>총합</th>\n",
       "    </tr>\n",
       "  </thead>\n",
       "  <tbody>\n",
       "    <tr>\n",
       "      <th>0</th>\n",
       "      <td>77</td>\n",
       "      <td>70</td>\n",
       "      <td>98</td>\n",
       "      <td>77</td>\n",
       "      <td>0</td>\n",
       "    </tr>\n",
       "    <tr>\n",
       "      <th>1</th>\n",
       "      <td>80</td>\n",
       "      <td>99</td>\n",
       "      <td>79</td>\n",
       "      <td>70</td>\n",
       "      <td>0</td>\n",
       "    </tr>\n",
       "    <tr>\n",
       "      <th>2</th>\n",
       "      <td>75</td>\n",
       "      <td>87</td>\n",
       "      <td>99</td>\n",
       "      <td>89</td>\n",
       "      <td>0</td>\n",
       "    </tr>\n",
       "    <tr>\n",
       "      <th>3</th>\n",
       "      <td>100</td>\n",
       "      <td>80</td>\n",
       "      <td>100</td>\n",
       "      <td>72</td>\n",
       "      <td>0</td>\n",
       "    </tr>\n",
       "    <tr>\n",
       "      <th>4</th>\n",
       "      <td>77</td>\n",
       "      <td>50</td>\n",
       "      <td>98</td>\n",
       "      <td>60</td>\n",
       "      <td>0</td>\n",
       "    </tr>\n",
       "    <tr>\n",
       "      <th>5</th>\n",
       "      <td>91</td>\n",
       "      <td>87</td>\n",
       "      <td>98</td>\n",
       "      <td>70</td>\n",
       "      <td>0</td>\n",
       "    </tr>\n",
       "  </tbody>\n",
       "</table>\n",
       "</div>"
      ],
      "text/plain": [
       "    체육  미술   국어  수학  총합\n",
       "0   77  70   98  77   0\n",
       "1   80  99   79  70   0\n",
       "2   75  87   99  89   0\n",
       "3  100  80  100  72   0\n",
       "4   77  50   98  60   0\n",
       "5   91  87   98  70   0"
      ]
     },
     "execution_count": 38,
     "metadata": {},
     "output_type": "execute_result"
    }
   ],
   "source": [
    "examDF.reindex(['체육', '미술', '국어', '수학','총합'], axis='columns', fill_value=0)"
   ]
  },
  {
   "cell_type": "markdown",
   "id": "85ec1e9e-43fa-4a8a-9500-ac0ad14be56c",
   "metadata": {},
   "source": [
    "- 행 인덱스 재배치:0,2,4,1,3,5"
   ]
  },
  {
   "cell_type": "code",
   "execution_count": 39,
   "id": "36f3140c-6367-4862-9ba6-45826eb3345e",
   "metadata": {},
   "outputs": [
    {
     "data": {
      "text/html": [
       "<div>\n",
       "<style scoped>\n",
       "    .dataframe tbody tr th:only-of-type {\n",
       "        vertical-align: middle;\n",
       "    }\n",
       "\n",
       "    .dataframe tbody tr th {\n",
       "        vertical-align: top;\n",
       "    }\n",
       "\n",
       "    .dataframe thead th {\n",
       "        text-align: right;\n",
       "    }\n",
       "</style>\n",
       "<table border=\"1\" class=\"dataframe\">\n",
       "  <thead>\n",
       "    <tr style=\"text-align: right;\">\n",
       "      <th></th>\n",
       "      <th>이름</th>\n",
       "      <th>국어</th>\n",
       "      <th>미술</th>\n",
       "      <th>수학</th>\n",
       "      <th>체육</th>\n",
       "    </tr>\n",
       "  </thead>\n",
       "  <tbody>\n",
       "    <tr>\n",
       "      <th>0</th>\n",
       "      <td>마징가</td>\n",
       "      <td>98</td>\n",
       "      <td>70</td>\n",
       "      <td>77</td>\n",
       "      <td>77</td>\n",
       "    </tr>\n",
       "    <tr>\n",
       "      <th>2</th>\n",
       "      <td>홍길동</td>\n",
       "      <td>99</td>\n",
       "      <td>87</td>\n",
       "      <td>89</td>\n",
       "      <td>75</td>\n",
       "    </tr>\n",
       "    <tr>\n",
       "      <th>4</th>\n",
       "      <td>마징가</td>\n",
       "      <td>98</td>\n",
       "      <td>50</td>\n",
       "      <td>60</td>\n",
       "      <td>77</td>\n",
       "    </tr>\n",
       "    <tr>\n",
       "      <th>1</th>\n",
       "      <td>베트맨</td>\n",
       "      <td>79</td>\n",
       "      <td>99</td>\n",
       "      <td>70</td>\n",
       "      <td>80</td>\n",
       "    </tr>\n",
       "    <tr>\n",
       "      <th>3</th>\n",
       "      <td>임꺽정</td>\n",
       "      <td>100</td>\n",
       "      <td>80</td>\n",
       "      <td>72</td>\n",
       "      <td>100</td>\n",
       "    </tr>\n",
       "    <tr>\n",
       "      <th>5</th>\n",
       "      <td>마징가</td>\n",
       "      <td>98</td>\n",
       "      <td>87</td>\n",
       "      <td>70</td>\n",
       "      <td>91</td>\n",
       "    </tr>\n",
       "  </tbody>\n",
       "</table>\n",
       "</div>"
      ],
      "text/plain": [
       "    이름   국어  미술  수학   체육\n",
       "0  마징가   98  70  77   77\n",
       "2  홍길동   99  87  89   75\n",
       "4  마징가   98  50  60   77\n",
       "1  베트맨   79  99  70   80\n",
       "3  임꺽정  100  80  72  100\n",
       "5  마징가   98  87  70   91"
      ]
     },
     "execution_count": 39,
     "metadata": {},
     "output_type": "execute_result"
    }
   ],
   "source": [
    "examDF.reindex([0,2,4,1,3,5], axis='index', fill_value=0)"
   ]
  },
  {
   "cell_type": "markdown",
   "id": "8a9d83a2-9e54-4740-a2c8-b3f3693dceef",
   "metadata": {},
   "source": [
    "- 컬럼명 순서 변경 ==> '체육','미술','국어','수학','총합' + 행인덱스 => 0,2,4,1,3,5 재배치"
   ]
  },
  {
   "cell_type": "code",
   "execution_count": 40,
   "id": "5058e32f-6899-4bad-b511-4c768ffcf8fc",
   "metadata": {},
   "outputs": [
    {
     "data": {
      "text/html": [
       "<div>\n",
       "<style scoped>\n",
       "    .dataframe tbody tr th:only-of-type {\n",
       "        vertical-align: middle;\n",
       "    }\n",
       "\n",
       "    .dataframe tbody tr th {\n",
       "        vertical-align: top;\n",
       "    }\n",
       "\n",
       "    .dataframe thead th {\n",
       "        text-align: right;\n",
       "    }\n",
       "</style>\n",
       "<table border=\"1\" class=\"dataframe\">\n",
       "  <thead>\n",
       "    <tr style=\"text-align: right;\">\n",
       "      <th></th>\n",
       "      <th>체육</th>\n",
       "      <th>미술</th>\n",
       "      <th>국어</th>\n",
       "      <th>수학</th>\n",
       "      <th>총합</th>\n",
       "    </tr>\n",
       "  </thead>\n",
       "  <tbody>\n",
       "    <tr>\n",
       "      <th>0</th>\n",
       "      <td>77</td>\n",
       "      <td>70</td>\n",
       "      <td>98</td>\n",
       "      <td>77</td>\n",
       "      <td>0</td>\n",
       "    </tr>\n",
       "    <tr>\n",
       "      <th>2</th>\n",
       "      <td>75</td>\n",
       "      <td>87</td>\n",
       "      <td>99</td>\n",
       "      <td>89</td>\n",
       "      <td>0</td>\n",
       "    </tr>\n",
       "    <tr>\n",
       "      <th>4</th>\n",
       "      <td>77</td>\n",
       "      <td>50</td>\n",
       "      <td>98</td>\n",
       "      <td>60</td>\n",
       "      <td>0</td>\n",
       "    </tr>\n",
       "    <tr>\n",
       "      <th>1</th>\n",
       "      <td>80</td>\n",
       "      <td>99</td>\n",
       "      <td>79</td>\n",
       "      <td>70</td>\n",
       "      <td>0</td>\n",
       "    </tr>\n",
       "    <tr>\n",
       "      <th>3</th>\n",
       "      <td>100</td>\n",
       "      <td>80</td>\n",
       "      <td>100</td>\n",
       "      <td>72</td>\n",
       "      <td>0</td>\n",
       "    </tr>\n",
       "    <tr>\n",
       "      <th>5</th>\n",
       "      <td>91</td>\n",
       "      <td>87</td>\n",
       "      <td>98</td>\n",
       "      <td>70</td>\n",
       "      <td>0</td>\n",
       "    </tr>\n",
       "  </tbody>\n",
       "</table>\n",
       "</div>"
      ],
      "text/plain": [
       "    체육  미술   국어  수학  총합\n",
       "0   77  70   98  77   0\n",
       "2   75  87   99  89   0\n",
       "4   77  50   98  60   0\n",
       "1   80  99   79  70   0\n",
       "3  100  80  100  72   0\n",
       "5   91  87   98  70   0"
      ]
     },
     "execution_count": 40,
     "metadata": {},
     "output_type": "execute_result"
    }
   ],
   "source": [
    "examDF.reindex(index=[0,2,4,1,3,5], columns=['체육', '미술', '국어', '수학','총합'], fill_value=0)     "
   ]
  },
  {
   "cell_type": "code",
   "execution_count": null,
   "id": "7543b37b-e686-4b1d-8f1c-5a0f6e511aa3",
   "metadata": {},
   "outputs": [],
   "source": []
  }
 ],
 "metadata": {
  "kernelspec": {
   "display_name": "Python 3 (ipykernel)",
   "language": "python",
   "name": "python3"
  },
  "language_info": {
   "codemirror_mode": {
    "name": "ipython",
    "version": 3
   },
   "file_extension": ".py",
   "mimetype": "text/x-python",
   "name": "python",
   "nbconvert_exporter": "python",
   "pygments_lexer": "ipython3",
   "version": "3.8.18"
  }
 },
 "nbformat": 4,
 "nbformat_minor": 5
}
