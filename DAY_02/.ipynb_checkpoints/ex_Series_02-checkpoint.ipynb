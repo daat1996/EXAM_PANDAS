{
 "cells": [
  {
   "cell_type": "markdown",
   "id": "ebcd8504-3038-4f63-8570-1be7bef3d479",
   "metadata": {},
   "source": [
    "### [다양한 Series 객체 생성]"
   ]
  },
  {
   "cell_type": "markdown",
   "id": "cc4be82e-c910-47db-a1f4-af278940bd83",
   "metadata": {},
   "source": [
    "#### (1) 모듈 로딩"
   ]
  },
  {
   "cell_type": "code",
   "execution_count": 2,
   "id": "63d17277-fcdf-4606-94b8-526392027ea3",
   "metadata": {},
   "outputs": [],
   "source": [
    "import pandas as pd"
   ]
  },
  {
   "cell_type": "markdown",
   "id": "35450fc6-6c60-4b6b-a87e-8769e866b58f",
   "metadata": {},
   "source": [
    "#### (2) Series 객체 생성 - 방법 1\n",
    "- Series(data, index=지정)"
   ]
  },
  {
   "cell_type": "code",
   "execution_count": 3,
   "id": "18438ed3-aa24-4b14-bb00-9a9eb465abe0",
   "metadata": {},
   "outputs": [],
   "source": [
    "sr1=pd.Series([11,22,33], index=['one','two','three'])"
   ]
  },
  {
   "cell_type": "code",
   "execution_count": 4,
   "id": "5a4efef4-cb70-445c-8faa-190dc1461459",
   "metadata": {},
   "outputs": [
    {
     "data": {
      "text/plain": [
       "one      11\n",
       "two      22\n",
       "three    33\n",
       "dtype: int64"
      ]
     },
     "execution_count": 4,
     "metadata": {},
     "output_type": "execute_result"
    }
   ],
   "source": [
    "sr1"
   ]
  },
  {
   "cell_type": "markdown",
   "id": "461cbdaf-6605-4c70-83e9-3cf0b1ba9a11",
   "metadata": {},
   "source": [
    "#### (2) Series 객체 생성 - 방법2"
   ]
  },
  {
   "cell_type": "code",
   "execution_count": 5,
   "id": "85a35724-083e-481e-a7e9-0f6673b912f4",
   "metadata": {},
   "outputs": [
    {
     "data": {
      "text/plain": [
       "one      11\n",
       "two      22\n",
       "three    33\n",
       "Name: jumsu, dtype: int64"
      ]
     },
     "execution_count": 5,
     "metadata": {},
     "output_type": "execute_result"
    }
   ],
   "source": [
    "sr1=pd.Series([11,22,33], index=['one','two','three'], name='jumsu')\n",
    "sr1"
   ]
  },
  {
   "cell_type": "markdown",
   "id": "f92ed13d-aec3-4b3a-9b25-6c04d511db84",
   "metadata": {},
   "source": [
    "#### (2) Series 객체 생성 - 방법3"
   ]
  },
  {
   "cell_type": "code",
   "execution_count": 6,
   "id": "5e920688-259d-4e3a-bea1-cb6b2cd2399c",
   "metadata": {},
   "outputs": [
    {
     "data": {
      "text/plain": [
       "one      11\n",
       "two      22\n",
       "three    33\n",
       "Name: jumsu, dtype: uint8"
      ]
     },
     "execution_count": 6,
     "metadata": {},
     "output_type": "execute_result"
    }
   ],
   "source": [
    "sr1=pd.Series([11,22,33], index=['one','two','three'], name='jumsu', dtype='uint8')\n",
    "sr1"
   ]
  },
  {
   "cell_type": "markdown",
   "id": "061d6971-10b6-4c52-8db3-1b85aacfefdf",
   "metadata": {},
   "source": [
    "#### (2) Series 객체 생성 - 방법 4 => 저장되는 데이터 dict"
   ]
  },
  {
   "cell_type": "code",
   "execution_count": 8,
   "id": "338db33e-3207-4a2f-9bd6-53f6d2527942",
   "metadata": {},
   "outputs": [
    {
     "data": {
      "text/plain": [
       "name    홍길동\n",
       "age      12\n",
       "job      도적\n",
       "dtype: object"
      ]
     },
     "execution_count": 8,
     "metadata": {},
     "output_type": "execute_result"
    }
   ],
   "source": [
    "data={'name':'홍길동', 'age':12, 'job':'도적'}\n",
    "# key를 인덱스로 넣어버림\n",
    "sr1=pd.Series(data)\n",
    "sr1"
   ]
  },
  {
   "cell_type": "code",
   "execution_count": 11,
   "id": "44421d61-5a68-4431-8059-025ec8e5b484",
   "metadata": {},
   "outputs": [
    {
     "name": "stdout",
     "output_type": "stream",
     "text": [
      "Index(['name', 'age', 'job'], dtype='object')\n",
      "['홍길동' 12 '도적']\n"
     ]
    }
   ],
   "source": [
    "# 속성 확인하기\n",
    "print(sr1.index , sr1.values,sep='\\n')"
   ]
  },
  {
   "cell_type": "code",
   "execution_count": 12,
   "id": "556a24cf-c53a-4d4c-8af9-7798ba7f2c6a",
   "metadata": {},
   "outputs": [
    {
     "data": {
      "text/plain": [
       "(Index(['name', 'age', 'job'], dtype='object'),\n",
       " array(['홍길동', 12, '도적'], dtype=object))"
      ]
     },
     "execution_count": 12,
     "metadata": {},
     "output_type": "execute_result"
    }
   ],
   "source": [
    "sr1.index, sr1.values"
   ]
  },
  {
   "cell_type": "markdown",
   "id": "9281eeb8-ba53-4e49-87ec-118be468663b",
   "metadata": {},
   "source": [
    "#### (2) Series 객체 생성 - 방법 4 => 저장되는 데이터 set"
   ]
  },
  {
   "cell_type": "code",
   "execution_count": 17,
   "id": "0746671c-bd82-49d1-9d7f-94ab8fa594b9",
   "metadata": {},
   "outputs": [
    {
     "data": {
      "text/plain": [
       "1     도적\n",
       "2     12\n",
       "3    홍길동\n",
       "dtype: object"
      ]
     },
     "execution_count": 17,
     "metadata": {},
     "output_type": "execute_result"
    }
   ],
   "source": [
    "data={'홍길동', 12, '도적'}     # 순서없는 데이터, 중복 불허\n",
    "\n",
    "# 형변환 후 객체 생성 가능\n",
    "sr1=pd.Series( list(data), index=[1,2,3] )\n",
    "sr1"
   ]
  },
  {
   "cell_type": "code",
   "execution_count": null,
   "id": "7cfae101-b161-482a-b9c4-4d66a76f8982",
   "metadata": {},
   "outputs": [],
   "source": []
  }
 ],
 "metadata": {
  "kernelspec": {
   "display_name": "Python 3 (ipykernel)",
   "language": "python",
   "name": "python3"
  },
  "language_info": {
   "codemirror_mode": {
    "name": "ipython",
    "version": 3
   },
   "file_extension": ".py",
   "mimetype": "text/x-python",
   "name": "python",
   "nbconvert_exporter": "python",
   "pygments_lexer": "ipython3",
   "version": "3.8.18"
  }
 },
 "nbformat": 4,
 "nbformat_minor": 5
}
