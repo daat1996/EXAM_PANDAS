{
 "cells": [
  {
   "cell_type": "markdown",
   "id": "3b0e0de7-74d4-4f5e-8329-343c364f46ca",
   "metadata": {},
   "source": [
    "<h1>시리즈(Series) 살펴보기</h1>\n",
    "\n",
    "- 판다스에서 데이터를 저장하는 자료 구조 중 하나  \n",
    "- 동일한 타입의 데이터를 연속된 메모리 공간에 저장 함  \n",
    "- 구성 : 인덱스 + 데이터  \n",
    "- 생성 : Series() 생성자 메서드  "
   ]
  },
  {
   "cell_type": "markdown",
   "id": "79085b88-6222-41c9-bb9a-7151f2982697",
   "metadata": {},
   "source": [
    "### (1) 모듈 로딩 ------------------------------------------"
   ]
  },
  {
   "cell_type": "code",
   "execution_count": 9,
   "id": "4f6ff300-47cd-424a-a314-b31b062ce5f1",
   "metadata": {},
   "outputs": [],
   "source": [
    "import pandas as pd"
   ]
  },
  {
   "cell_type": "markdown",
   "id": "66a2fe4e-0e54-4fd9-b707-94e719c5cda9",
   "metadata": {},
   "source": [
    "### (2) 시리즈 객체 생성 -------------------------------------------"
   ]
  },
  {
   "cell_type": "code",
   "execution_count": 60,
   "id": "c6fb9dc7-d220-412c-b896-3127e142836d",
   "metadata": {},
   "outputs": [],
   "source": [
    "# 객체 생성에 사용되는 메서드 => 생성자(Constructor)\n",
    "# 데이터 타입과 동일한 이름의 메서드 => Series()\n",
    "sr=pd.Series([11,22.,'33'])"
   ]
  },
  {
   "cell_type": "code",
   "execution_count": 61,
   "id": "7b75a7e8-5918-4b34-8e01-64cf09a45cb9",
   "metadata": {},
   "outputs": [
    {
     "data": {
      "text/plain": [
       "0      11\n",
       "1    22.0\n",
       "2      33\n",
       "dtype: object"
      ]
     },
     "execution_count": 61,
     "metadata": {},
     "output_type": "execute_result"
    }
   ],
   "source": [
    "sr"
   ]
  },
  {
   "cell_type": "code",
   "execution_count": 62,
   "id": "1f261db1-5dda-4a77-b519-ebd0ec6158e5",
   "metadata": {},
   "outputs": [
    {
     "data": {
      "text/plain": [
       "pandas.core.series.Series"
      ]
     },
     "execution_count": 62,
     "metadata": {},
     "output_type": "execute_result"
    }
   ],
   "source": [
    "type(sr)"
   ]
  },
  {
   "cell_type": "markdown",
   "id": "b4a3d349-9113-48e0-872e-e0122e44a77c",
   "metadata": {},
   "source": [
    "- Series 객체의 속성(attributes)/필드(field) 살펴보기\n",
    "    * 기본 : data, index, dtype\n",
    "    * 읽기 : 객체변수명.속성명\n",
    "    * 쓰기 : 객체변수명.속성명 = 새로운 값 [모든 속성이 가능한 것은 아님!!!]"
   ]
  },
  {
   "cell_type": "code",
   "execution_count": 63,
   "id": "d7181539-7e6b-40a8-ad77-47915f447120",
   "metadata": {},
   "outputs": [
    {
     "data": {
      "text/plain": [
       "RangeIndex(start=0, stop=3, step=1)"
      ]
     },
     "execution_count": 63,
     "metadata": {},
     "output_type": "execute_result"
    }
   ],
   "source": [
    "# 현재 시리즈 객체에 저장된 인덱스 속성 확인\n",
    "sr.index"
   ]
  },
  {
   "cell_type": "code",
   "execution_count": 64,
   "id": "c3eff010-fd89-4d79-9e53-fb347afefbd3",
   "metadata": {},
   "outputs": [
    {
     "data": {
      "text/plain": [
       "array([11, 22.0, '33'], dtype=object)"
      ]
     },
     "execution_count": 64,
     "metadata": {},
     "output_type": "execute_result"
    }
   ],
   "source": [
    "# 현재 시리즈 객체에 저장된 데이터 즉 값 확인\n",
    "sr.values"
   ]
  },
  {
   "cell_type": "code",
   "execution_count": 65,
   "id": "a795443f-10b7-4fcb-bcc0-e1294805aa88",
   "metadata": {},
   "outputs": [],
   "source": [
    "# 시리즈 객체의 인덱스 변경\n",
    "sr.index=[100, 200, 300]"
   ]
  },
  {
   "cell_type": "code",
   "execution_count": 66,
   "id": "e14ad2f8-6dbd-4ce7-92f2-610f187e9707",
   "metadata": {},
   "outputs": [
    {
     "data": {
      "text/plain": [
       "100      11\n",
       "200    22.0\n",
       "300      33\n",
       "dtype: object"
      ]
     },
     "execution_count": 66,
     "metadata": {},
     "output_type": "execute_result"
    }
   ],
   "source": [
    "sr"
   ]
  },
  {
   "cell_type": "code",
   "execution_count": 67,
   "id": "57b4c015-a576-4c21-979b-6a62ce166356",
   "metadata": {},
   "outputs": [
    {
     "data": {
      "text/plain": [
       "A      11\n",
       "B    22.0\n",
       "C      33\n",
       "dtype: object"
      ]
     },
     "execution_count": 67,
     "metadata": {},
     "output_type": "execute_result"
    }
   ],
   "source": [
    "sr.index=['A', 'B', 'C']\n",
    "sr"
   ]
  },
  {
   "cell_type": "code",
   "execution_count": 68,
   "id": "dc8a757d-6fb5-4d3e-b28b-475150ff7bb6",
   "metadata": {},
   "outputs": [],
   "source": [
    "# values 속성은 속성방식으로 변경 불가!!!\n",
    "#sr.values=[777,888,999]"
   ]
  },
  {
   "cell_type": "markdown",
   "id": "1257af49-42f1-46f8-b246-ea62ff3339d5",
   "metadata": {},
   "source": [
    "### (4)시리즈 객체의 요소 데이터/값 읽기  \n",
    "\n",
    "    * 읽기 : 객체변수명[인덱스]  \n",
    "    * 변경(쓰기) : 객체변수명[인덱스] = 새로운값"
   ]
  },
  {
   "cell_type": "code",
   "execution_count": 69,
   "id": "1ca907c6-051d-4bee-8536-22c2e3ac1406",
   "metadata": {},
   "outputs": [
    {
     "data": {
      "text/plain": [
       "11"
      ]
     },
     "execution_count": 69,
     "metadata": {},
     "output_type": "execute_result"
    }
   ],
   "source": [
    "sr['A']"
   ]
  },
  {
   "cell_type": "code",
   "execution_count": 70,
   "id": "ad6f416d-1c6a-4cc6-ac15-600f7c312dce",
   "metadata": {},
   "outputs": [],
   "source": [
    "sr['A'] = 2024"
   ]
  },
  {
   "cell_type": "code",
   "execution_count": 71,
   "id": "fe83bdc6-91f5-439a-bf8c-0dda5fcf5a4e",
   "metadata": {},
   "outputs": [
    {
     "data": {
      "text/plain": [
       "A    2024\n",
       "B    22.0\n",
       "C      33\n",
       "dtype: object"
      ]
     },
     "execution_count": 71,
     "metadata": {},
     "output_type": "execute_result"
    }
   ],
   "source": [
    "sr"
   ]
  },
  {
   "cell_type": "code",
   "execution_count": 72,
   "id": "077617b5-6982-40ef-a65b-067281487a99",
   "metadata": {},
   "outputs": [
    {
     "data": {
      "text/plain": [
       "Index(['A', 'B', 'C'], dtype='object')"
      ]
     },
     "execution_count": 72,
     "metadata": {},
     "output_type": "execute_result"
    }
   ],
   "source": [
    "sr.index"
   ]
  },
  {
   "cell_type": "code",
   "execution_count": 73,
   "id": "df1f7cf7-a555-4410-92bc-1e6106c461bd",
   "metadata": {},
   "outputs": [
    {
     "data": {
      "text/plain": [
       "2024"
      ]
     },
     "execution_count": 73,
     "metadata": {},
     "output_type": "execute_result"
    }
   ],
   "source": [
    "sr[0]"
   ]
  },
  {
   "cell_type": "code",
   "execution_count": 74,
   "id": "089ef0fd-4f36-4331-ac53-0e93764bd721",
   "metadata": {},
   "outputs": [
    {
     "data": {
      "text/plain": [
       "(2024, 2024)"
      ]
     },
     "execution_count": 74,
     "metadata": {},
     "output_type": "execute_result"
    }
   ],
   "source": [
    "sr[0], sr['A']"
   ]
  },
  {
   "cell_type": "code",
   "execution_count": 75,
   "id": "6a03b173-25ec-472f-b8c4-e518d38866e0",
   "metadata": {},
   "outputs": [
    {
     "data": {
      "text/plain": [
       "11    2024\n",
       "22    22.0\n",
       "33      33\n",
       "dtype: object"
      ]
     },
     "execution_count": 75,
     "metadata": {},
     "output_type": "execute_result"
    }
   ],
   "source": [
    "sr.index=[11,22,33]\n",
    "sr"
   ]
  },
  {
   "cell_type": "code",
   "execution_count": 79,
   "id": "d41c9823-653a-4bd7-a0ab-6bf4b15cbb9d",
   "metadata": {},
   "outputs": [
    {
     "data": {
      "text/plain": [
       "1    2024\n",
       "2    22.0\n",
       "3      33\n",
       "dtype: object"
      ]
     },
     "execution_count": 79,
     "metadata": {},
     "output_type": "execute_result"
    }
   ],
   "source": [
    "# 문자열 숫자로 인덱스 변경\n",
    "sr.index=['1','2','3']\n",
    "sr"
   ]
  },
  {
   "cell_type": "code",
   "execution_count": null,
   "id": "423476c4-a998-467a-99f0-99e85f5b54a4",
   "metadata": {},
   "outputs": [],
   "source": []
  },
  {
   "cell_type": "code",
   "execution_count": 77,
   "id": "d6b2e5c5-4a17-46f1-b02a-72127d12104c",
   "metadata": {},
   "outputs": [
    {
     "data": {
      "text/plain": [
       "22.0"
      ]
     },
     "execution_count": 77,
     "metadata": {},
     "output_type": "execute_result"
    }
   ],
   "source": [
    "sr[1]"
   ]
  },
  {
   "cell_type": "code",
   "execution_count": 80,
   "id": "e41c1e12-37a3-42c9-8f89-aa5363a971cb",
   "metadata": {},
   "outputs": [
    {
     "data": {
      "text/plain": [
       "11    2024\n",
       "22    22.0\n",
       "33      33\n",
       "dtype: object"
      ]
     },
     "execution_count": 80,
     "metadata": {},
     "output_type": "execute_result"
    }
   ],
   "source": [
    "sr.index=[11,22,33]\n",
    "sr"
   ]
  },
  {
   "cell_type": "code",
   "execution_count": 82,
   "id": "3f25449e-4cf7-4733-a55c-25163b437a55",
   "metadata": {},
   "outputs": [],
   "source": [
    "# 숫자 라벨 인덱스 지정하면 정수 위치 인덱스 => 정수 위치 인덱스 사용 불가!!\n",
    "#sr[0]"
   ]
  },
  {
   "cell_type": "code",
   "execution_count": null,
   "id": "0995d48b-ad90-402c-acf9-4e520cbad180",
   "metadata": {},
   "outputs": [],
   "source": []
  }
 ],
 "metadata": {
  "kernelspec": {
   "display_name": "Python 3 (ipykernel)",
   "language": "python",
   "name": "python3"
  },
  "language_info": {
   "codemirror_mode": {
    "name": "ipython",
    "version": 3
   },
   "file_extension": ".py",
   "mimetype": "text/x-python",
   "name": "python",
   "nbconvert_exporter": "python",
   "pygments_lexer": "ipython3",
   "version": "3.8.18"
  }
 },
 "nbformat": 4,
 "nbformat_minor": 5
}
