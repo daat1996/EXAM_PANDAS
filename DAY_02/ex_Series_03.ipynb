{
 "cells": [
  {
   "cell_type": "markdown",
   "id": "3138eebe-0e23-4347-89ff-a46cb7a6d6c7",
   "metadata": {},
   "source": [
    "### [ Series 객체 원소 인덱싱 & 슬라이싱]"
   ]
  },
  {
   "cell_type": "markdown",
   "id": "3e5b1903-fe66-4223-8f18-8b3fbd92ac4c",
   "metadata": {},
   "source": [
    "(1) 모듈 로딩 ----------------------------------------"
   ]
  },
  {
   "cell_type": "code",
   "execution_count": 1,
   "id": "fd9e8e14-3861-46ab-9cd8-4754403b1dcc",
   "metadata": {},
   "outputs": [],
   "source": [
    "from pandas import Series"
   ]
  },
  {
   "cell_type": "markdown",
   "id": "8ca321d3-d4a2-45db-afa0-cf2377281a42",
   "metadata": {},
   "source": [
    "(2) 데이터 준비 --------------------------------"
   ]
  },
  {
   "cell_type": "code",
   "execution_count": 2,
   "id": "9d56b838-7a1a-4042-857c-a2c9543bd1bd",
   "metadata": {},
   "outputs": [],
   "source": [
    "datas={'name':'홍길동', 'age':12, 'job':'도적'}"
   ]
  },
  {
   "cell_type": "markdown",
   "id": "fbbe471d-f646-420a-82ce-913d07081654",
   "metadata": {},
   "source": [
    "(3) Series 객체 생성 -----------------------------"
   ]
  },
  {
   "cell_type": "code",
   "execution_count": 3,
   "id": "cc52d770-e146-464d-8d13-8dfe17de3c7e",
   "metadata": {},
   "outputs": [],
   "source": [
    "sr1=Series(datas)"
   ]
  },
  {
   "cell_type": "code",
   "execution_count": 4,
   "id": "2a3c943f-3514-48dc-8afd-e7a8478f0408",
   "metadata": {},
   "outputs": [
    {
     "data": {
      "text/plain": [
       "name    홍길동\n",
       "age      12\n",
       "job      도적\n",
       "dtype: object"
      ]
     },
     "execution_count": 4,
     "metadata": {},
     "output_type": "execute_result"
    }
   ],
   "source": [
    "sr1"
   ]
  },
  {
   "cell_type": "markdown",
   "id": "4282abf5-6e94-458c-bdec-051817f7df89",
   "metadata": {},
   "source": [
    "(3) 인덱싱으로 원소 읽기 -------------------------"
   ]
  },
  {
   "cell_type": "markdown",
   "id": "58953129-c187-4b9d-ac9d-f603d3f34e54",
   "metadata": {},
   "source": [
    "=> 1개 원소 읽기"
   ]
  },
  {
   "cell_type": "code",
   "execution_count": 6,
   "id": "924949e1-b7ca-4dd8-9798-0daf08699002",
   "metadata": {},
   "outputs": [
    {
     "data": {
      "text/plain": [
       "(12, 12, Index(['name', 'age', 'job'], dtype='object'))"
      ]
     },
     "execution_count": 6,
     "metadata": {},
     "output_type": "execute_result"
    }
   ],
   "source": [
    "sr1['age'], sr1[1], sr1.index"
   ]
  },
  {
   "cell_type": "code",
   "execution_count": 12,
   "id": "03829337-c082-4f2e-b7a8-73d667402b0d",
   "metadata": {},
   "outputs": [
    {
     "data": {
      "text/plain": [
       "('홍길동', '도적', '홍길동', '도적', str)"
      ]
     },
     "execution_count": 12,
     "metadata": {},
     "output_type": "execute_result"
    }
   ],
   "source": [
    "# 이름과 직업 데이터 읽기 ==> 원소 단위\n",
    "sr1['name'], sr1['job'], sr1[0], sr1[2], type(sr1[0])"
   ]
  },
  {
   "cell_type": "code",
   "execution_count": 15,
   "id": "2e42eee6-c2a5-4add-aa2c-269dcb3d8f50",
   "metadata": {},
   "outputs": [
    {
     "data": {
      "text/plain": [
       "(pandas.core.series.Series,\n",
       " name    홍길동\n",
       " job      도적\n",
       " dtype: object)"
      ]
     },
     "execution_count": 15,
     "metadata": {},
     "output_type": "execute_result"
    }
   ],
   "source": [
    "# 이름과 직업 데이터 읽기 ==> 리스트 단위로 읽기\n",
    "ret = sr1[['name', 'job']]\n",
    "ret2 = sr1[[0,2]]\n",
    "type(ret), ret"
   ]
  },
  {
   "cell_type": "code",
   "execution_count": 16,
   "id": "ec003ebc-b138-419e-a7fa-00bde4d192a1",
   "metadata": {},
   "outputs": [
    {
     "data": {
      "text/plain": [
       "(pandas.core.series.Series,\n",
       " name    홍길동\n",
       " job      도적\n",
       " dtype: object)"
      ]
     },
     "execution_count": 16,
     "metadata": {},
     "output_type": "execute_result"
    }
   ],
   "source": [
    "type(ret2), ret2"
   ]
  },
  {
   "cell_type": "code",
   "execution_count": 9,
   "id": "a1b68a68-e717-47e7-9d09-c77a56f9acd7",
   "metadata": {},
   "outputs": [],
   "source": [
    "a=[1,2,3]\n",
    "b=(11,22,33)"
   ]
  },
  {
   "cell_type": "code",
   "execution_count": 10,
   "id": "6289527f-d709-45cf-a1e5-ec9b00027aec",
   "metadata": {},
   "outputs": [
    {
     "data": {
      "text/plain": [
       "(1, int)"
      ]
     },
     "execution_count": 10,
     "metadata": {},
     "output_type": "execute_result"
    }
   ],
   "source": [
    "a[0], type(a[0])"
   ]
  },
  {
   "cell_type": "code",
   "execution_count": 11,
   "id": "c222ff31-0a28-41c5-8e45-532ecd0f4827",
   "metadata": {},
   "outputs": [
    {
     "data": {
      "text/plain": [
       "([1], list)"
      ]
     },
     "execution_count": 11,
     "metadata": {},
     "output_type": "execute_result"
    }
   ],
   "source": [
    "a[:1], type(a[:1])"
   ]
  },
  {
   "cell_type": "markdown",
   "id": "969db1c6-5e90-4a1b-b3f9-908b597f8e19",
   "metadata": {},
   "source": [
    "(4) 슬라이싱으로 원소 읽기 ---------------------------------"
   ]
  },
  {
   "cell_type": "markdown",
   "id": "1b7b08d9-0607-4991-a1e0-950f50da6dec",
   "metadata": {},
   "source": [
    "- 위치 인덱스로 슬라이싱 ---------------------------------"
   ]
  },
  {
   "cell_type": "code",
   "execution_count": 21,
   "id": "3c69bf8f-daed-4677-8fd1-5fb09eb3a9aa",
   "metadata": {},
   "outputs": [
    {
     "data": {
      "text/plain": [
       "name    홍길동\n",
       "age      12\n",
       "dtype: object"
      ]
     },
     "execution_count": 21,
     "metadata": {},
     "output_type": "execute_result"
    }
   ],
   "source": [
    "sr1[:2]            # 시작 <= ~ <끝"
   ]
  },
  {
   "cell_type": "code",
   "execution_count": 22,
   "id": "03e9be3f-6133-471d-8472-d30b7b4b70e6",
   "metadata": {},
   "outputs": [
    {
     "data": {
      "text/plain": [
       "name    홍길동\n",
       "age      12\n",
       "job      도적\n",
       "dtype: object"
      ]
     },
     "execution_count": 22,
     "metadata": {},
     "output_type": "execute_result"
    }
   ],
   "source": [
    "sr1[:]        # 시작 <= ~ <= 끝"
   ]
  },
  {
   "cell_type": "code",
   "execution_count": 23,
   "id": "86caebd3-17e8-4da7-806a-7673c2166b28",
   "metadata": {},
   "outputs": [
    {
     "data": {
      "text/plain": [
       "name    홍길동\n",
       "age      12\n",
       "dtype: object"
      ]
     },
     "execution_count": 23,
     "metadata": {},
     "output_type": "execute_result"
    }
   ],
   "source": [
    "sr1[:-1]        # 시작 <= ~ < 끝"
   ]
  },
  {
   "cell_type": "code",
   "execution_count": 24,
   "id": "f2d73ad5-8467-4ff8-a027-275fd0aade82",
   "metadata": {},
   "outputs": [
    {
     "data": {
      "text/plain": [
       "name    홍길동\n",
       "dtype: object"
      ]
     },
     "execution_count": 24,
     "metadata": {},
     "output_type": "execute_result"
    }
   ],
   "source": [
    "sr1[:-2]"
   ]
  },
  {
   "cell_type": "markdown",
   "id": "9124fba5-f42f-455f-8781-95f78a3c340e",
   "metadata": {},
   "source": [
    "- 레이블 인덱스로 슬라이싱 --------------------------"
   ]
  },
  {
   "cell_type": "code",
   "execution_count": 25,
   "id": "6bc1ef7d-fd5e-499e-aba9-b5e9bd43d3f3",
   "metadata": {},
   "outputs": [
    {
     "data": {
      "text/plain": [
       "name    홍길동\n",
       "age      12\n",
       "job      도적\n",
       "dtype: object"
      ]
     },
     "execution_count": 25,
     "metadata": {},
     "output_type": "execute_result"
    }
   ],
   "source": [
    "sr1['name':'job']       # 시작<= ~ <= 끝"
   ]
  },
  {
   "cell_type": "code",
   "execution_count": 26,
   "id": "c252dbf9-8761-452c-b39a-824caa5fb9dd",
   "metadata": {},
   "outputs": [
    {
     "data": {
      "text/plain": [
       "name    홍길동\n",
       "age      12\n",
       "dtype: object"
      ]
     },
     "execution_count": 26,
     "metadata": {},
     "output_type": "execute_result"
    }
   ],
   "source": [
    "sr1['name':'age']       # 시작<= ~ <= 끝  ==  sr1[:2]"
   ]
  },
  {
   "cell_type": "code",
   "execution_count": null,
   "id": "0a12210f-afd7-4f29-a508-166ada4b4b14",
   "metadata": {},
   "outputs": [],
   "source": []
  }
 ],
 "metadata": {
  "kernelspec": {
   "display_name": "Python 3 (ipykernel)",
   "language": "python",
   "name": "python3"
  },
  "language_info": {
   "codemirror_mode": {
    "name": "ipython",
    "version": 3
   },
   "file_extension": ".py",
   "mimetype": "text/x-python",
   "name": "python",
   "nbconvert_exporter": "python",
   "pygments_lexer": "ipython3",
   "version": "3.8.18"
  }
 },
 "nbformat": 4,
 "nbformat_minor": 5
}
