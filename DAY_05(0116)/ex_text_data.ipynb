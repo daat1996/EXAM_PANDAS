{
 "cells": [
  {
   "cell_type": "markdown",
   "id": "c2e93645-c109-4a54-9015-fb80826e760d",
   "metadata": {},
   "source": [
    "## [ 텍스트 데이터 처리]\n",
    "- 다양한 형태의 텍스트 데이터를 정리하기 위한 방법들\n",
    "- Series에 str 속성을 활용해서 Str제공 전용 메서드 사용 가능\n",
    "- 사용방법 : Series객체.str.메서드()"
   ]
  },
  {
   "cell_type": "markdown",
   "id": "a2e7835a-b335-4a0f-a269-2e6ee7c99859",
   "metadata": {},
   "source": [
    "- 문자열 관련 메서드들 살펴보기\n",
    "(1) 공백 제거 관련 메서드 => strip(), lstrip(), rstrip()"
   ]
  },
  {
   "cell_type": "code",
   "execution_count": 6,
   "id": "1210e693-4367-4863-84b8-a35c4a0cfa91",
   "metadata": {},
   "outputs": [],
   "source": [
    "msg=\"   Merry Christmas     \""
   ]
  },
  {
   "cell_type": "code",
   "execution_count": 7,
   "id": "5b02a7a5-46a4-477e-9a0a-a5fca71a36ef",
   "metadata": {},
   "outputs": [
    {
     "data": {
      "text/plain": [
       "23"
      ]
     },
     "execution_count": 7,
     "metadata": {},
     "output_type": "execute_result"
    }
   ],
   "source": [
    "len(msg)"
   ]
  },
  {
   "cell_type": "code",
   "execution_count": 8,
   "id": "ce21a26d-dcae-444d-9756-323936e0c3d8",
   "metadata": {},
   "outputs": [],
   "source": [
    "msg1, msg2, msg3=msg.strip(), msg.lstrip(), msg.rstrip()"
   ]
  },
  {
   "cell_type": "code",
   "execution_count": 10,
   "id": "7506786d-766e-4b18-a481-c0f9977f669f",
   "metadata": {},
   "outputs": [
    {
     "data": {
      "text/plain": [
       "(15, 20, 18)"
      ]
     },
     "execution_count": 10,
     "metadata": {},
     "output_type": "execute_result"
    }
   ],
   "source": [
    "len(msg1), len (msg2), len(msg3)"
   ]
  },
  {
   "cell_type": "markdown",
   "id": "d47216b8-b2b3-4506-91c7-001d92801e70",
   "metadata": {},
   "source": [
    "<hr> (1) 모듈 로딩 <hr>"
   ]
  },
  {
   "cell_type": "code",
   "execution_count": 11,
   "id": "75c4629a-52d9-459a-acd5-3616906139fd",
   "metadata": {},
   "outputs": [],
   "source": [
    "import pandas as pd"
   ]
  },
  {
   "cell_type": "markdown",
   "id": "14c8b4a0-4795-4468-8c05-618747bea5ae",
   "metadata": {},
   "source": [
    "(2) 데이터 준비 <hr>"
   ]
  },
  {
   "cell_type": "code",
   "execution_count": 12,
   "id": "94f3edad-6eb2-4176-b183-07a3745a40dc",
   "metadata": {},
   "outputs": [],
   "source": [
    "file='../DATA/chicago_food_inspections.csv'"
   ]
  },
  {
   "cell_type": "markdown",
   "id": "12866769-2b20-429d-93f7-1a07a93055a0",
   "metadata": {},
   "source": [
    "(3) 데이터 저장 <hr>"
   ]
  },
  {
   "cell_type": "code",
   "execution_count": 13,
   "id": "aa6620d0-2848-4fbc-a34b-3d6cf934a5be",
   "metadata": {},
   "outputs": [],
   "source": [
    "chicagoDF=pd.read_csv(file)"
   ]
  },
  {
   "cell_type": "markdown",
   "id": "361bc663-ac8c-4cc9-ae93-cadca99e3541",
   "metadata": {},
   "source": [
    "(4) 데이터 확인 <hr>"
   ]
  },
  {
   "cell_type": "code",
   "execution_count": 14,
   "id": "3edd6ce0-6f01-4282-b92a-068e7d7ce780",
   "metadata": {},
   "outputs": [
    {
     "name": "stdout",
     "output_type": "stream",
     "text": [
      "<class 'pandas.core.frame.DataFrame'>\n",
      "RangeIndex: 153810 entries, 0 to 153809\n",
      "Data columns (total 2 columns):\n",
      " #   Column  Non-Null Count   Dtype \n",
      "---  ------  --------------   ----- \n",
      " 0   Name    153810 non-null  object\n",
      " 1   Risk    153744 non-null  object\n",
      "dtypes: object(2)\n",
      "memory usage: 2.3+ MB\n"
     ]
    }
   ],
   "source": [
    "chicagoDF.info()"
   ]
  },
  {
   "cell_type": "code",
   "execution_count": 15,
   "id": "71b3ce71-eb24-4104-b0d5-3aadfedef35f",
   "metadata": {},
   "outputs": [
    {
     "data": {
      "text/html": [
       "<div>\n",
       "<style scoped>\n",
       "    .dataframe tbody tr th:only-of-type {\n",
       "        vertical-align: middle;\n",
       "    }\n",
       "\n",
       "    .dataframe tbody tr th {\n",
       "        vertical-align: top;\n",
       "    }\n",
       "\n",
       "    .dataframe thead th {\n",
       "        text-align: right;\n",
       "    }\n",
       "</style>\n",
       "<table border=\"1\" class=\"dataframe\">\n",
       "  <thead>\n",
       "    <tr style=\"text-align: right;\">\n",
       "      <th></th>\n",
       "      <th>Name</th>\n",
       "      <th>Risk</th>\n",
       "    </tr>\n",
       "  </thead>\n",
       "  <tbody>\n",
       "    <tr>\n",
       "      <th>0</th>\n",
       "      <td>MARRIOT MARQUIS CHICAGO</td>\n",
       "      <td>Risk 1 (High)</td>\n",
       "    </tr>\n",
       "    <tr>\n",
       "      <th>1</th>\n",
       "      <td>JETS PIZZA</td>\n",
       "      <td>Risk 2 (Medium)</td>\n",
       "    </tr>\n",
       "    <tr>\n",
       "      <th>2</th>\n",
       "      <td>ROOM 1520</td>\n",
       "      <td>Risk 3 (Low)</td>\n",
       "    </tr>\n",
       "    <tr>\n",
       "      <th>3</th>\n",
       "      <td>MARRIOT MARQUIS CHICAGO</td>\n",
       "      <td>Risk 1 (High)</td>\n",
       "    </tr>\n",
       "    <tr>\n",
       "      <th>4</th>\n",
       "      <td>CHARTWELLS</td>\n",
       "      <td>Risk 1 (High)</td>\n",
       "    </tr>\n",
       "  </tbody>\n",
       "</table>\n",
       "</div>"
      ],
      "text/plain": [
       "                          Name             Risk\n",
       "0   MARRIOT MARQUIS CHICAGO       Risk 1 (High)\n",
       "1                  JETS PIZZA   Risk 2 (Medium)\n",
       "2                   ROOM 1520      Risk 3 (Low)\n",
       "3    MARRIOT MARQUIS CHICAGO      Risk 1 (High)\n",
       "4                CHARTWELLS       Risk 1 (High)"
      ]
     },
     "execution_count": 15,
     "metadata": {},
     "output_type": "execute_result"
    }
   ],
   "source": [
    "chicagoDF.head()"
   ]
  },
  {
   "cell_type": "markdown",
   "id": "6560770d-554d-44b2-b8d4-389c4cfe4721",
   "metadata": {},
   "source": [
    "- [문제] Name 컬럼에서 공백제거 처리"
   ]
  },
  {
   "cell_type": "code",
   "execution_count": 18,
   "id": "d293f789-b514-4549-afa7-90d3230bdf1d",
   "metadata": {},
   "outputs": [
    {
     "data": {
      "text/plain": [
       "0              MARRIOT MARQUIS CHICAGO\n",
       "1                           JETS PIZZA\n",
       "2                            ROOM 1520\n",
       "3              MARRIOT MARQUIS CHICAGO\n",
       "4                           CHARTWELLS\n",
       "                      ...             \n",
       "153805                       WOLCOTT'S\n",
       "153806    DUNKIN DONUTS/BASKIN-ROBBINS\n",
       "153807                        Cafe 608\n",
       "153808                     mr.daniel's\n",
       "153809                      TEMPO CAFE\n",
       "Name: Name, Length: 153810, dtype: object"
      ]
     },
     "execution_count": 18,
     "metadata": {},
     "output_type": "execute_result"
    }
   ],
   "source": [
    "chicagoDF['Name']=chicagoDF['Name'].str.strip()\n",
    "chicagoDF['Name']"
   ]
  },
  {
   "cell_type": "markdown",
   "id": "35eb9490-93ae-4cf8-b387-2425cd17b310",
   "metadata": {},
   "source": [
    "- [문제] Risk 컬럼에서 문자열 나누기 => Risk 숫자 ==> Risk와 불리"
   ]
  },
  {
   "cell_type": "code",
   "execution_count": 21,
   "id": "ae0bb586-8133-447a-8b05-9d9642341400",
   "metadata": {},
   "outputs": [
    {
     "data": {
      "text/plain": [
       "(4,\n",
       " array(['Risk 1 (High)', 'Risk 2 (Medium)', 'Risk 3 (Low)', 'All', nan],\n",
       "       dtype=object))"
      ]
     },
     "execution_count": 21,
     "metadata": {},
     "output_type": "execute_result"
    }
   ],
   "source": [
    "chicagoDF['Risk'].nunique(), chicagoDF[\"Risk\"].unique()"
   ]
  },
  {
   "cell_type": "code",
   "execution_count": 22,
   "id": "33011971-106f-48d0-b1bf-eaefd0ef416b",
   "metadata": {},
   "outputs": [
    {
     "data": {
      "text/plain": [
       "(66,\n",
       " Name     0\n",
       " Risk    66\n",
       " dtype: int64)"
      ]
     },
     "execution_count": 22,
     "metadata": {},
     "output_type": "execute_result"
    }
   ],
   "source": [
    "chicagoDF['Risk'].isna().sum(), chicagoDF.isna().sum()"
   ]
  },
  {
   "cell_type": "code",
   "execution_count": 23,
   "id": "50ba07a6-00ad-4a34-9743-1bfca0f4ed1d",
   "metadata": {},
   "outputs": [
    {
     "data": {
      "text/plain": [
       "(153744, 2)"
      ]
     },
     "execution_count": 23,
     "metadata": {},
     "output_type": "execute_result"
    }
   ],
   "source": [
    "# 기본 => 행 방향, 행 내에 한개라도 NaN이 있으면 삭제\n",
    "chicagoDF.dropna().shape"
   ]
  },
  {
   "cell_type": "code",
   "execution_count": 24,
   "id": "b9bdbcdd-0fd2-4a48-aef3-546b75f3da1d",
   "metadata": {},
   "outputs": [
    {
     "data": {
      "text/plain": [
       "(153744, 2)"
      ]
     },
     "execution_count": 24,
     "metadata": {},
     "output_type": "execute_result"
    }
   ],
   "source": [
    "# Risk 컬럼이 NaN인 행 삭제 => subset 파라미터 적용\n",
    "chicagoDF.dropna(subset=['Risk']).shape"
   ]
  },
  {
   "cell_type": "code",
   "execution_count": 25,
   "id": "f3bd2e41-6909-4e87-9b08-f89b1dabe9e2",
   "metadata": {},
   "outputs": [
    {
     "data": {
      "text/plain": [
       "0           Risk 1 (High)\n",
       "1         Risk 2 (Medium)\n",
       "2            Risk 3 (Low)\n",
       "3           Risk 1 (High)\n",
       "4           Risk 1 (High)\n",
       "               ...       \n",
       "153805      Risk 1 (High)\n",
       "153806    Risk 2 (Medium)\n",
       "153807      Risk 1 (High)\n",
       "153808      Risk 1 (High)\n",
       "153809      Risk 1 (High)\n",
       "Name: Risk, Length: 153810, dtype: object"
      ]
     },
     "execution_count": 25,
     "metadata": {},
     "output_type": "execute_result"
    }
   ],
   "source": [
    "# 원소의 데이터 값이 'all' => \"Rixk 4 (Extreme)\" 변경\n",
    "chicagoDF['Risk'].replace('all', 'Risk 4(Extreme)')"
   ]
  },
  {
   "cell_type": "code",
   "execution_count": 26,
   "id": "317399e0-07df-49c9-b5f2-e2bbe58b6086",
   "metadata": {},
   "outputs": [
    {
     "data": {
      "text/plain": [
       "0         1\n",
       "1         2\n",
       "2         3\n",
       "3         1\n",
       "4         1\n",
       "         ..\n",
       "153805    1\n",
       "153806    2\n",
       "153807    1\n",
       "153808    1\n",
       "153809    1\n",
       "Name: Risk, Length: 153810, dtype: object"
      ]
     },
     "execution_count": 26,
     "metadata": {},
     "output_type": "execute_result"
    }
   ],
   "source": [
    "chicagoDF['Risk'].str.slice(5,6)"
   ]
  },
  {
   "cell_type": "code",
   "execution_count": null,
   "id": "71a324e8-8961-47cd-966c-9b43258830bc",
   "metadata": {},
   "outputs": [],
   "source": []
  }
 ],
 "metadata": {
  "kernelspec": {
   "display_name": "Python 3 (ipykernel)",
   "language": "python",
   "name": "python3"
  },
  "language_info": {
   "codemirror_mode": {
    "name": "ipython",
    "version": 3
   },
   "file_extension": ".py",
   "mimetype": "text/x-python",
   "name": "python",
   "nbconvert_exporter": "python",
   "pygments_lexer": "ipython3",
   "version": "3.8.18"
  }
 },
 "nbformat": 4,
 "nbformat_minor": 5
}
