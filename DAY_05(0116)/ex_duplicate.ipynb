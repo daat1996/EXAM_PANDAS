{
 "cells": [
  {
   "cell_type": "markdown",
   "id": "5668436b-54d9-47b3-8230-22e22351142f",
   "metadata": {},
   "source": [
    "## [ 중복 데이터 처리]\n",
    "- 중복 데이터 기준 ==> 행(row)\n",
    "- 행 단위로 모든 컬럼의 값이 완전히 똑같은 데이터는 중복 데이터\n",
    "- 처리 => 제거"
   ]
  },
  {
   "cell_type": "markdown",
   "id": "795fe07a-26fc-48e7-a1dc-1a56e3954d38",
   "metadata": {},
   "source": [
    "(1) 모듈 로딩 <hr>"
   ]
  },
  {
   "cell_type": "code",
   "execution_count": 1,
   "id": "873565d0-a214-4203-80b1-204d2c05ae68",
   "metadata": {},
   "outputs": [],
   "source": [
    "import pandas as pd"
   ]
  },
  {
   "cell_type": "markdown",
   "id": "5ba67e4a-8328-4a8c-bdac-9b4b372cc4ac",
   "metadata": {},
   "source": [
    "(2) 데이터 준비 <hr>"
   ]
  },
  {
   "cell_type": "code",
   "execution_count": 2,
   "id": "ab7b5950-a895-4f9c-b1d9-32a5f917ca8b",
   "metadata": {},
   "outputs": [],
   "source": [
    "file='../DATA/employees.csv'"
   ]
  },
  {
   "cell_type": "markdown",
   "id": "340bd063-7044-4265-986a-067806b2d9b7",
   "metadata": {},
   "source": [
    "(3) 데이터 저장 : CSV => DF <hr>"
   ]
  },
  {
   "cell_type": "code",
   "execution_count": 3,
   "id": "f3033f2f-8e4d-4b17-8a98-d9d7d468424b",
   "metadata": {},
   "outputs": [],
   "source": [
    "empDF=pd.read_csv(file)"
   ]
  },
  {
   "cell_type": "markdown",
   "id": "422bd2c6-400c-4e60-ad69-9e1ccecf0abb",
   "metadata": {},
   "source": [
    "(4) 데이터 확인 <hr>"
   ]
  },
  {
   "cell_type": "code",
   "execution_count": 4,
   "id": "a60a38a1-174d-46c4-bd04-0c1b2b37aba8",
   "metadata": {},
   "outputs": [
    {
     "name": "stdout",
     "output_type": "stream",
     "text": [
      "<class 'pandas.core.frame.DataFrame'>\n",
      "RangeIndex: 1001 entries, 0 to 1000\n",
      "Data columns (total 6 columns):\n",
      " #   Column      Non-Null Count  Dtype  \n",
      "---  ------      --------------  -----  \n",
      " 0   First Name  933 non-null    object \n",
      " 1   Gender      854 non-null    object \n",
      " 2   Start Date  999 non-null    object \n",
      " 3   Salary      999 non-null    float64\n",
      " 4   Mgmt        933 non-null    object \n",
      " 5   Team        957 non-null    object \n",
      "dtypes: float64(1), object(5)\n",
      "memory usage: 47.0+ KB\n"
     ]
    }
   ],
   "source": [
    "empDF.info()"
   ]
  },
  {
   "cell_type": "markdown",
   "id": "1bf9b110-9db0-4629-a303-cd015180c244",
   "metadata": {},
   "source": [
    "(5) 데이터 전처리 => 나. 중복 데이터 처리 <hr>"
   ]
  },
  {
   "cell_type": "markdown",
   "id": "88b04cd7-6223-47c9-baaa-a47c3e1cb82c",
   "metadata": {},
   "source": [
    "- 중복 데이터 체크 => duplicated() : 중복이면 True\n",
    "- 중복 데이터 처리 => drop_duplicate() : 삭제"
   ]
  },
  {
   "cell_type": "code",
   "execution_count": 7,
   "id": "0b4626c0-1ae9-4cdd-bbca-d8de6d6f11ce",
   "metadata": {},
   "outputs": [
    {
     "data": {
      "text/plain": [
       "0"
      ]
     },
     "execution_count": 7,
     "metadata": {},
     "output_type": "execute_result"
    }
   ],
   "source": [
    "# 행 단위로 완전히 똑같은 행 검사 ==> 0개\n",
    "empDF.duplicated().sum()"
   ]
  },
  {
   "cell_type": "code",
   "execution_count": 10,
   "id": "8e4937d3-e8e3-4f4d-8866-7db313276028",
   "metadata": {},
   "outputs": [
    {
     "data": {
      "text/plain": [
       "(990, 10)"
      ]
     },
     "execution_count": 10,
     "metadata": {},
     "output_type": "execute_result"
    }
   ],
   "source": [
    "# Team 컬럼\n",
    "empDF.Team.duplicated().sum(), empDF.Team.nunique()"
   ]
  },
  {
   "cell_type": "code",
   "execution_count": 12,
   "id": "14f5c802-2b01-449a-bdb0-eb1b3644828e",
   "metadata": {},
   "outputs": [
    {
     "data": {
      "text/plain": [
       "Series([], Name: Team, dtype: object)"
      ]
     },
     "execution_count": 12,
     "metadata": {},
     "output_type": "execute_result"
    }
   ],
   "source": [
    "empDF.Team.drop_duplicates(keep=False)"
   ]
  },
  {
   "cell_type": "code",
   "execution_count": null,
   "id": "1ddf95ea-b47f-4a10-ac35-af656dd99c59",
   "metadata": {},
   "outputs": [],
   "source": []
  }
 ],
 "metadata": {
  "kernelspec": {
   "display_name": "Python 3 (ipykernel)",
   "language": "python",
   "name": "python3"
  },
  "language_info": {
   "codemirror_mode": {
    "name": "ipython",
    "version": 3
   },
   "file_extension": ".py",
   "mimetype": "text/x-python",
   "name": "python",
   "nbconvert_exporter": "python",
   "pygments_lexer": "ipython3",
   "version": "3.8.18"
  }
 },
 "nbformat": 4,
 "nbformat_minor": 5
}
