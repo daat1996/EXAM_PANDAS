{
 "cells": [
  {
   "cell_type": "markdown",
   "id": "fbee18b7-e221-4bd8-9a87-a63198384ce6",
   "metadata": {},
   "source": [
    "## [결측치 Missing Value 처리]\n",
    "- 데이터 미입력 또는 데이터 저장 과정에서 지워진 데이터\n",
    "- 빈칸 의미\n",
    "- 표시 : NaN (Not a Number), NaT (Not A Text)\n",
    "- 표현 : numpy 모듈의 nan, math 모듈의 nan 사용"
   ]
  },
  {
   "cell_type": "markdown",
   "id": "16148fe0-b5f5-45ea-8e72-0ec55c6a34f3",
   "metadata": {},
   "source": [
    "(1) 모듈 로딩 <hr>"
   ]
  },
  {
   "cell_type": "code",
   "execution_count": 1,
   "id": "b2e987a0-fbb7-4619-a5af-fa0e1fa93ff7",
   "metadata": {},
   "outputs": [],
   "source": [
    "import pandas as pd"
   ]
  },
  {
   "cell_type": "markdown",
   "id": "e0ddf83f-304f-4e70-b415-d717ffec85a2",
   "metadata": {},
   "source": [
    "(2) 데이터 준비 <hr>"
   ]
  },
  {
   "cell_type": "code",
   "execution_count": 2,
   "id": "b5c96a56-8a42-4ed0-8d97-086f3a7d0de3",
   "metadata": {},
   "outputs": [],
   "source": [
    "file = '../DATA/employees.csv'"
   ]
  },
  {
   "cell_type": "markdown",
   "id": "ba126d34-f911-466c-b1da-fcd71efd3dc7",
   "metadata": {},
   "source": [
    "- (3) 데이터 저장"
   ]
  },
  {
   "cell_type": "code",
   "execution_count": 4,
   "id": "68f0cb3d-500e-46df-aef0-05c4bbe39bba",
   "metadata": {},
   "outputs": [],
   "source": [
    "# 구분자: ,     헤더 : 첫번쨰 줄 컬럼명\n",
    "empDF=pd.read_csv(file)"
   ]
  },
  {
   "cell_type": "markdown",
   "id": "f276b426-4e81-40f8-9a0b-65b8d90af1ba",
   "metadata": {},
   "source": [
    "-(4) 데이터 확인"
   ]
  },
  {
   "cell_type": "code",
   "execution_count": 6,
   "id": "1b6827f8-ef64-4064-b3ec-9bcf3064bfff",
   "metadata": {},
   "outputs": [
    {
     "name": "stdout",
     "output_type": "stream",
     "text": [
      "<class 'pandas.core.frame.DataFrame'>\n",
      "RangeIndex: 1001 entries, 0 to 1000\n",
      "Data columns (total 6 columns):\n",
      " #   Column      Non-Null Count  Dtype  \n",
      "---  ------      --------------  -----  \n",
      " 0   First Name  933 non-null    object \n",
      " 1   Gender      854 non-null    object \n",
      " 2   Start Date  999 non-null    object \n",
      " 3   Salary      999 non-null    float64\n",
      " 4   Mgmt        933 non-null    object \n",
      " 5   Team        957 non-null    object \n",
      "dtypes: float64(1), object(5)\n",
      "memory usage: 47.0+ KB\n"
     ]
    }
   ],
   "source": [
    "# 데이터의 전반적인 요약정보 확인 => info() 메서드\n",
    "# - 컬럼별 결측치 여부 확인 ==> 실제 데이터에서 결측치 체크 & 처리\n",
    "# - 컬럼별 데이터 타입과 실제 데이터 타입 비교 ==> 타입 다른 경우, 타입 변환\n",
    "empDF.info()"
   ]
  },
  {
   "cell_type": "markdown",
   "id": "91a737ae-93e1-46ba-9f66-491d4a4c736e",
   "metadata": {},
   "source": [
    "- 데이터의 컬럼별 분포 확인 => describe() : 컬럼별 기술통계값"
   ]
  },
  {
   "cell_type": "code",
   "execution_count": 7,
   "id": "15943f49-f69a-48cf-9abf-03dc50af3492",
   "metadata": {},
   "outputs": [
    {
     "data": {
      "text/html": [
       "<div>\n",
       "<style scoped>\n",
       "    .dataframe tbody tr th:only-of-type {\n",
       "        vertical-align: middle;\n",
       "    }\n",
       "\n",
       "    .dataframe tbody tr th {\n",
       "        vertical-align: top;\n",
       "    }\n",
       "\n",
       "    .dataframe thead th {\n",
       "        text-align: right;\n",
       "    }\n",
       "</style>\n",
       "<table border=\"1\" class=\"dataframe\">\n",
       "  <thead>\n",
       "    <tr style=\"text-align: right;\">\n",
       "      <th></th>\n",
       "      <th>Salary</th>\n",
       "    </tr>\n",
       "  </thead>\n",
       "  <tbody>\n",
       "    <tr>\n",
       "      <th>count</th>\n",
       "      <td>999.000000</td>\n",
       "    </tr>\n",
       "    <tr>\n",
       "      <th>mean</th>\n",
       "      <td>90655.528529</td>\n",
       "    </tr>\n",
       "    <tr>\n",
       "      <th>std</th>\n",
       "      <td>32939.511615</td>\n",
       "    </tr>\n",
       "    <tr>\n",
       "      <th>min</th>\n",
       "      <td>35013.000000</td>\n",
       "    </tr>\n",
       "    <tr>\n",
       "      <th>25%</th>\n",
       "      <td>62560.000000</td>\n",
       "    </tr>\n",
       "    <tr>\n",
       "      <th>50%</th>\n",
       "      <td>90427.000000</td>\n",
       "    </tr>\n",
       "    <tr>\n",
       "      <th>75%</th>\n",
       "      <td>118744.500000</td>\n",
       "    </tr>\n",
       "    <tr>\n",
       "      <th>max</th>\n",
       "      <td>149908.000000</td>\n",
       "    </tr>\n",
       "  </tbody>\n",
       "</table>\n",
       "</div>"
      ],
      "text/plain": [
       "              Salary\n",
       "count     999.000000\n",
       "mean    90655.528529\n",
       "std     32939.511615\n",
       "min     35013.000000\n",
       "25%     62560.000000\n",
       "50%     90427.000000\n",
       "75%    118744.500000\n",
       "max    149908.000000"
      ]
     },
     "execution_count": 7,
     "metadata": {},
     "output_type": "execute_result"
    }
   ],
   "source": [
    "empDF.describe()"
   ]
  },
  {
   "cell_type": "code",
   "execution_count": 10,
   "id": "5d776e89-1838-4446-ad6a-0f93d2783e98",
   "metadata": {},
   "outputs": [
    {
     "name": "stdout",
     "output_type": "stream",
     "text": [
      "     Salary\n",
      "0   86676.0\n",
      "1   91462.0\n",
      "2  121160.0\n",
      "3  145988.0\n",
      "4  147183.0\n",
      "\n",
      "Salary    90427.0\n",
      "dtype: float64\n",
      "\n",
      "Salary    90655.528529\n",
      "dtype: float64\n"
     ]
    }
   ],
   "source": [
    "# 최빈값 => mode(), 중앙값 => median()\n",
    "print(empDF.mode(numeric_only=True), \n",
    "      empDF.median(numeric_only=True), \n",
    "      empDF.mean(numeric_only=True), sep='\\n\\n')"
   ]
  },
  {
   "cell_type": "markdown",
   "id": "7432e6ee-f583-478a-a7be-269a9a2f8ce1",
   "metadata": {},
   "source": [
    "- (5) 데이터 전처리(Preprocessing) => 가. 결측치 처리"
   ]
  },
  {
   "cell_type": "markdown",
   "id": "8c7be36d-22c4-4e5a-9f6d-5e458862e47b",
   "metadata": {},
   "source": [
    "- 결측치 확인 ==> isna(), isnull() : 원소 단위로 검사 후 결측치 인 경우 True 반환"
   ]
  },
  {
   "cell_type": "code",
   "execution_count": 11,
   "id": "0df7ead6-b9c2-4b55-8327-9279cdab00d3",
   "metadata": {},
   "outputs": [
    {
     "data": {
      "text/plain": [
       "Index(['First Name', 'Gender', 'Start Date', 'Salary', 'Mgmt', 'Team'], dtype='object')"
      ]
     },
     "execution_count": 11,
     "metadata": {},
     "output_type": "execute_result"
    }
   ],
   "source": [
    "empDF.columns"
   ]
  },
  {
   "cell_type": "code",
   "execution_count": 12,
   "id": "a23fb1d0-8fff-4557-89b1-abbe12e39994",
   "metadata": {},
   "outputs": [
    {
     "data": {
      "text/html": [
       "<div>\n",
       "<style scoped>\n",
       "    .dataframe tbody tr th:only-of-type {\n",
       "        vertical-align: middle;\n",
       "    }\n",
       "\n",
       "    .dataframe tbody tr th {\n",
       "        vertical-align: top;\n",
       "    }\n",
       "\n",
       "    .dataframe thead th {\n",
       "        text-align: right;\n",
       "    }\n",
       "</style>\n",
       "<table border=\"1\" class=\"dataframe\">\n",
       "  <thead>\n",
       "    <tr style=\"text-align: right;\">\n",
       "      <th></th>\n",
       "      <th>First Name</th>\n",
       "      <th>Gender</th>\n",
       "      <th>Start Date</th>\n",
       "      <th>Salary</th>\n",
       "      <th>Mgmt</th>\n",
       "      <th>Team</th>\n",
       "    </tr>\n",
       "  </thead>\n",
       "  <tbody>\n",
       "    <tr>\n",
       "      <th>0</th>\n",
       "      <td>False</td>\n",
       "      <td>False</td>\n",
       "      <td>False</td>\n",
       "      <td>True</td>\n",
       "      <td>False</td>\n",
       "      <td>False</td>\n",
       "    </tr>\n",
       "    <tr>\n",
       "      <th>1</th>\n",
       "      <td>False</td>\n",
       "      <td>False</td>\n",
       "      <td>False</td>\n",
       "      <td>False</td>\n",
       "      <td>False</td>\n",
       "      <td>True</td>\n",
       "    </tr>\n",
       "    <tr>\n",
       "      <th>2</th>\n",
       "      <td>False</td>\n",
       "      <td>False</td>\n",
       "      <td>True</td>\n",
       "      <td>False</td>\n",
       "      <td>False</td>\n",
       "      <td>False</td>\n",
       "    </tr>\n",
       "    <tr>\n",
       "      <th>3</th>\n",
       "      <td>False</td>\n",
       "      <td>True</td>\n",
       "      <td>False</td>\n",
       "      <td>False</td>\n",
       "      <td>False</td>\n",
       "      <td>False</td>\n",
       "    </tr>\n",
       "    <tr>\n",
       "      <th>4</th>\n",
       "      <td>False</td>\n",
       "      <td>False</td>\n",
       "      <td>False</td>\n",
       "      <td>False</td>\n",
       "      <td>False</td>\n",
       "      <td>False</td>\n",
       "    </tr>\n",
       "    <tr>\n",
       "      <th>...</th>\n",
       "      <td>...</td>\n",
       "      <td>...</td>\n",
       "      <td>...</td>\n",
       "      <td>...</td>\n",
       "      <td>...</td>\n",
       "      <td>...</td>\n",
       "    </tr>\n",
       "    <tr>\n",
       "      <th>996</th>\n",
       "      <td>False</td>\n",
       "      <td>False</td>\n",
       "      <td>False</td>\n",
       "      <td>False</td>\n",
       "      <td>False</td>\n",
       "      <td>False</td>\n",
       "    </tr>\n",
       "    <tr>\n",
       "      <th>997</th>\n",
       "      <td>False</td>\n",
       "      <td>False</td>\n",
       "      <td>False</td>\n",
       "      <td>False</td>\n",
       "      <td>False</td>\n",
       "      <td>False</td>\n",
       "    </tr>\n",
       "    <tr>\n",
       "      <th>998</th>\n",
       "      <td>False</td>\n",
       "      <td>False</td>\n",
       "      <td>False</td>\n",
       "      <td>False</td>\n",
       "      <td>False</td>\n",
       "      <td>False</td>\n",
       "    </tr>\n",
       "    <tr>\n",
       "      <th>999</th>\n",
       "      <td>False</td>\n",
       "      <td>False</td>\n",
       "      <td>False</td>\n",
       "      <td>False</td>\n",
       "      <td>False</td>\n",
       "      <td>False</td>\n",
       "    </tr>\n",
       "    <tr>\n",
       "      <th>1000</th>\n",
       "      <td>True</td>\n",
       "      <td>True</td>\n",
       "      <td>True</td>\n",
       "      <td>True</td>\n",
       "      <td>True</td>\n",
       "      <td>True</td>\n",
       "    </tr>\n",
       "  </tbody>\n",
       "</table>\n",
       "<p>1001 rows × 6 columns</p>\n",
       "</div>"
      ],
      "text/plain": [
       "      First Name  Gender  Start Date  Salary   Mgmt   Team\n",
       "0          False   False       False    True  False  False\n",
       "1          False   False       False   False  False   True\n",
       "2          False   False        True   False  False  False\n",
       "3          False    True       False   False  False  False\n",
       "4          False   False       False   False  False  False\n",
       "...          ...     ...         ...     ...    ...    ...\n",
       "996        False   False       False   False  False  False\n",
       "997        False   False       False   False  False  False\n",
       "998        False   False       False   False  False  False\n",
       "999        False   False       False   False  False  False\n",
       "1000        True    True        True    True   True   True\n",
       "\n",
       "[1001 rows x 6 columns]"
      ]
     },
     "execution_count": 12,
     "metadata": {},
     "output_type": "execute_result"
    }
   ],
   "source": [
    "# 전체 데이터의 컬럼별 결측치 체크\n",
    "empDF.isna()"
   ]
  },
  {
   "cell_type": "code",
   "execution_count": 13,
   "id": "97ff4c84-d6df-40b3-9448-719350f1c8e8",
   "metadata": {},
   "outputs": [
    {
     "name": "stdout",
     "output_type": "stream",
     "text": [
      "First Name     68\n",
      "Gender        147\n",
      "Start Date      2\n",
      "Salary          2\n",
      "Mgmt           68\n",
      "Team           44\n",
      "dtype: int64\n",
      "\n",
      "First Name     68\n",
      "Gender        147\n",
      "Start Date      2\n",
      "Salary          2\n",
      "Mgmt           68\n",
      "Team           44\n",
      "dtype: int64\n"
     ]
    }
   ],
   "source": [
    "# 전체 데이터의 컬럼별 결측치 체크 후 갯수 파악 => 합계\n",
    "print(empDF.isna().sum(), empDF.isnull().sum(),sep='\\n\\n')"
   ]
  },
  {
   "cell_type": "markdown",
   "id": "0663e3e3-50ff-44ff-ad02-67ca54ed1cbb",
   "metadata": {},
   "source": [
    "- 결측치 확인 ==> notna()/ notnull(): 결측치가 아니면 True 반환"
   ]
  },
  {
   "cell_type": "code",
   "execution_count": 14,
   "id": "49289569-699f-4d2e-a9a9-67a74c1ed69c",
   "metadata": {},
   "outputs": [
    {
     "name": "stdout",
     "output_type": "stream",
     "text": [
      "   First Name  Gender  Start Date  Salary  Mgmt   Team\n",
      "0        True    True        True   False  True   True\n",
      "1        True    True        True    True  True  False\n",
      "2        True    True       False    True  True   True\n",
      "3        True   False        True    True  True   True\n",
      "4        True    True        True    True  True   True\n",
      "\n",
      "   First Name  Gender  Start Date  Salary  Mgmt   Team\n",
      "0        True    True        True   False  True   True\n",
      "1        True    True        True    True  True  False\n",
      "2        True    True       False    True  True   True\n",
      "3        True   False        True    True  True   True\n",
      "4        True    True        True    True  True   True\n"
     ]
    }
   ],
   "source": [
    "print(empDF.notna().head(), empDF.notnull().head(),sep='\\n\\n')"
   ]
  },
  {
   "cell_type": "markdown",
   "id": "79ece40e-a104-49bd-af35-c5593538f170",
   "metadata": {},
   "source": [
    "- 결측치 처리 ==> (1) 삭제 : dropna()"
   ]
  },
  {
   "cell_type": "code",
   "execution_count": 15,
   "id": "9534b7f0-5b08-4d84-baaa-ab88e2bbc0a3",
   "metadata": {},
   "outputs": [
    {
     "name": "stdout",
     "output_type": "stream",
     "text": [
      "(761, 6) (1001, 6)\n"
     ]
    }
   ],
   "source": [
    "# [기본]모든 행에 1개 값이라도 NaN이면 삭제\n",
    "empDF2=empDF.dropna()\n",
    "print(empDF2.shape, empDF.shape)"
   ]
  },
  {
   "cell_type": "code",
   "execution_count": 17,
   "id": "19be5177-1e22-496d-bd16-180fc84f47c1",
   "metadata": {},
   "outputs": [
    {
     "name": "stdout",
     "output_type": "stream",
     "text": [
      "(1001, 6) (1000, 6)\n"
     ]
    }
   ],
   "source": [
    "# [설정] 행에 모든 데이터 값이 Na이면 삭제\n",
    "# First Name  Gender  Start Date  Salary  Mgmt  Team\n",
    "#     NA        NA        NA        NA     NA    NA\n",
    "empDF3=empDF.dropna(how='all')\n",
    "print(empDF.shape,empDF3.shape)"
   ]
  },
  {
   "cell_type": "code",
   "execution_count": 19,
   "id": "9f78f79d-489f-42a8-9862-fd8a93105b3c",
   "metadata": {},
   "outputs": [
    {
     "name": "stdout",
     "output_type": "stream",
     "text": [
      "(1001, 6) (853, 6)\n"
     ]
    }
   ],
   "source": [
    "# [설정] 특정 컬럼의 NA만 체크 후 삭제하는 방법\n",
    "# 예) 성별에 따른 연본 분석 => NA면 분석 불가능 컬럼을 지정\n",
    "empDF4=empDF.dropna(subset=['Gender','Salary'])\n",
    "print(empDF.shape, empDF4.shape)"
   ]
  },
  {
   "cell_type": "code",
   "execution_count": 23,
   "id": "caa7dec4-4f25-42b5-a6c3-fd9fba3a9d0d",
   "metadata": {},
   "outputs": [
    {
     "name": "stdout",
     "output_type": "stream",
     "text": [
      "(1001, 6) (1001, 3) Index(['Start Date', 'Salary', 'Team'], dtype='object')\n"
     ]
    }
   ],
   "source": [
    "# [설정] 컬럼별 정상데이터 즉 NA가 아닌 데이터의 갯수를 지정 후\n",
    "#        해당 수 만큼 정상 데이터가 없는 컬럼 삭제\n",
    "empDF5=empDF.dropna(thresh=950, axis='columns')\n",
    "print(empDF.shape, empDF5.shape, empDF5.columns)"
   ]
  },
  {
   "cell_type": "markdown",
   "id": "00515278-59b7-427d-a7ec-72ecff14c8c7",
   "metadata": {},
   "source": [
    "- 결측치 처리 ==> 대체: fillna()"
   ]
  },
  {
   "cell_type": "code",
   "execution_count": 25,
   "id": "3eaf1fec-eea3-4e29-8476-595736c958d2",
   "metadata": {},
   "outputs": [
    {
     "data": {
      "text/html": [
       "<div>\n",
       "<style scoped>\n",
       "    .dataframe tbody tr th:only-of-type {\n",
       "        vertical-align: middle;\n",
       "    }\n",
       "\n",
       "    .dataframe tbody tr th {\n",
       "        vertical-align: top;\n",
       "    }\n",
       "\n",
       "    .dataframe thead th {\n",
       "        text-align: right;\n",
       "    }\n",
       "</style>\n",
       "<table border=\"1\" class=\"dataframe\">\n",
       "  <thead>\n",
       "    <tr style=\"text-align: right;\">\n",
       "      <th></th>\n",
       "      <th>First Name</th>\n",
       "      <th>Gender</th>\n",
       "      <th>Start Date</th>\n",
       "      <th>Salary</th>\n",
       "      <th>Mgmt</th>\n",
       "      <th>Team</th>\n",
       "    </tr>\n",
       "  </thead>\n",
       "  <tbody>\n",
       "    <tr>\n",
       "      <th>count</th>\n",
       "      <td>933</td>\n",
       "      <td>854</td>\n",
       "      <td>999</td>\n",
       "      <td>999.000000</td>\n",
       "      <td>933</td>\n",
       "      <td>957</td>\n",
       "    </tr>\n",
       "    <tr>\n",
       "      <th>unique</th>\n",
       "      <td>200</td>\n",
       "      <td>2</td>\n",
       "      <td>971</td>\n",
       "      <td>NaN</td>\n",
       "      <td>2</td>\n",
       "      <td>10</td>\n",
       "    </tr>\n",
       "    <tr>\n",
       "      <th>top</th>\n",
       "      <td>Marilyn</td>\n",
       "      <td>Female</td>\n",
       "      <td>10/30/04</td>\n",
       "      <td>NaN</td>\n",
       "      <td>True</td>\n",
       "      <td>IT</td>\n",
       "    </tr>\n",
       "    <tr>\n",
       "      <th>freq</th>\n",
       "      <td>11</td>\n",
       "      <td>431</td>\n",
       "      <td>2</td>\n",
       "      <td>NaN</td>\n",
       "      <td>468</td>\n",
       "      <td>106</td>\n",
       "    </tr>\n",
       "    <tr>\n",
       "      <th>mean</th>\n",
       "      <td>NaN</td>\n",
       "      <td>NaN</td>\n",
       "      <td>NaN</td>\n",
       "      <td>90655.528529</td>\n",
       "      <td>NaN</td>\n",
       "      <td>NaN</td>\n",
       "    </tr>\n",
       "  </tbody>\n",
       "</table>\n",
       "</div>"
      ],
      "text/plain": [
       "       First Name  Gender Start Date        Salary  Mgmt Team\n",
       "count         933     854        999    999.000000   933  957\n",
       "unique        200       2        971           NaN     2   10\n",
       "top       Marilyn  Female   10/30/04           NaN  True   IT\n",
       "freq           11     431          2           NaN   468  106\n",
       "mean          NaN     NaN        NaN  90655.528529   NaN  NaN"
      ]
     },
     "execution_count": 25,
     "metadata": {},
     "output_type": "execute_result"
    }
   ],
   "source": [
    "# Gender 컬럼의 결측값을 무엇으로 채울지???\n",
    "empDF.describe(include='all').head()"
   ]
  },
  {
   "cell_type": "code",
   "execution_count": 28,
   "id": "b37b6e33-4534-4795-a544-5863b863ea8e",
   "metadata": {},
   "outputs": [
    {
     "data": {
      "text/plain": [
       "0"
      ]
     },
     "execution_count": 28,
     "metadata": {},
     "output_type": "execute_result"
    }
   ],
   "source": [
    "# ==> 컬럼의 최빈값으로 na 채우기\n",
    "empDF.Gender.mode()[0]\n",
    "genSR=empDF.Gender.fillna(empDF.Gender.mode()[0])\n",
    "genSR.isna().sum()"
   ]
  },
  {
   "cell_type": "code",
   "execution_count": 31,
   "id": "d0755319-a0e4-40c4-984c-d6ba1f1e5aeb",
   "metadata": {},
   "outputs": [
    {
     "data": {
      "text/plain": [
       "0         Male\n",
       "1         Male\n",
       "2       Female\n",
       "3       Female\n",
       "4         Male\n",
       "         ...  \n",
       "996       Male\n",
       "997       Male\n",
       "998       Male\n",
       "999       Male\n",
       "1000      Male\n",
       "Name: Gender, Length: 1001, dtype: object"
      ]
     },
     "execution_count": 31,
     "metadata": {},
     "output_type": "execute_result"
    }
   ],
   "source": [
    "# ==> NA값 이전과 이후 값으로 채우기 => method='ffill', method='bifill'\n",
    "empDF.Gender.fillna(method='ffill', limit=1)                              # back fill은 뒤에서 기준으로 채운다"
   ]
  },
  {
   "cell_type": "code",
   "execution_count": 32,
   "id": "56ee71b0-f9d7-484a-b932-6333ac6ea118",
   "metadata": {},
   "outputs": [
    {
     "data": {
      "text/html": [
       "<div>\n",
       "<style scoped>\n",
       "    .dataframe tbody tr th:only-of-type {\n",
       "        vertical-align: middle;\n",
       "    }\n",
       "\n",
       "    .dataframe tbody tr th {\n",
       "        vertical-align: top;\n",
       "    }\n",
       "\n",
       "    .dataframe thead th {\n",
       "        text-align: right;\n",
       "    }\n",
       "</style>\n",
       "<table border=\"1\" class=\"dataframe\">\n",
       "  <thead>\n",
       "    <tr style=\"text-align: right;\">\n",
       "      <th></th>\n",
       "      <th>A</th>\n",
       "      <th>B</th>\n",
       "      <th>C</th>\n",
       "      <th>D</th>\n",
       "    </tr>\n",
       "  </thead>\n",
       "  <tbody>\n",
       "    <tr>\n",
       "      <th>0</th>\n",
       "      <td>NaN</td>\n",
       "      <td>2.0</td>\n",
       "      <td>NaN</td>\n",
       "      <td>0.0</td>\n",
       "    </tr>\n",
       "    <tr>\n",
       "      <th>1</th>\n",
       "      <td>3.0</td>\n",
       "      <td>4.0</td>\n",
       "      <td>NaN</td>\n",
       "      <td>1.0</td>\n",
       "    </tr>\n",
       "    <tr>\n",
       "      <th>2</th>\n",
       "      <td>NaN</td>\n",
       "      <td>NaN</td>\n",
       "      <td>NaN</td>\n",
       "      <td>NaN</td>\n",
       "    </tr>\n",
       "    <tr>\n",
       "      <th>3</th>\n",
       "      <td>NaN</td>\n",
       "      <td>3.0</td>\n",
       "      <td>NaN</td>\n",
       "      <td>4.0</td>\n",
       "    </tr>\n",
       "  </tbody>\n",
       "</table>\n",
       "</div>"
      ],
      "text/plain": [
       "     A    B   C    D\n",
       "0  NaN  2.0 NaN  0.0\n",
       "1  3.0  4.0 NaN  1.0\n",
       "2  NaN  NaN NaN  NaN\n",
       "3  NaN  3.0 NaN  4.0"
      ]
     },
     "execution_count": 32,
     "metadata": {},
     "output_type": "execute_result"
    }
   ],
   "source": [
    "import numpy as np\n",
    "\n",
    "df = pd.DataFrame([ [np.nan, 2, np.nan, 0],\n",
    "                    [3, 4, np.nan, 1],\n",
    "                    [np.nan, np.nan, np.nan, np.nan],\n",
    "                    [np.nan, 3, np.nan, 4]],\n",
    "                    columns=list(\"ABCD\"))\n",
    "df"
   ]
  },
  {
   "cell_type": "code",
   "execution_count": 33,
   "id": "c33ab749-2129-4148-9252-7f764a0b392b",
   "metadata": {},
   "outputs": [
    {
     "data": {
      "text/plain": [
       "0    NaN\n",
       "1    3.0\n",
       "2    3.0\n",
       "3    3.0\n",
       "Name: A, dtype: float64"
      ]
     },
     "execution_count": 33,
     "metadata": {},
     "output_type": "execute_result"
    }
   ],
   "source": [
    "df.A.fillna(method='ffill')"
   ]
  },
  {
   "cell_type": "code",
   "execution_count": 34,
   "id": "b8d3f180-869e-4b5e-9507-34d737120dbd",
   "metadata": {},
   "outputs": [
    {
     "data": {
      "text/plain": [
       "0    NaN\n",
       "1    3.0\n",
       "2    3.0\n",
       "3    NaN\n",
       "Name: A, dtype: float64"
      ]
     },
     "execution_count": 34,
     "metadata": {},
     "output_type": "execute_result"
    }
   ],
   "source": [
    "df.A.fillna(method='ffill',limit=1)"
   ]
  },
  {
   "cell_type": "code",
   "execution_count": 35,
   "id": "830a9a77-be8d-4297-a111-0b7fbfa4e817",
   "metadata": {},
   "outputs": [
    {
     "data": {
      "text/plain": [
       "0    3.0\n",
       "1    3.0\n",
       "2    NaN\n",
       "3    NaN\n",
       "Name: A, dtype: float64"
      ]
     },
     "execution_count": 35,
     "metadata": {},
     "output_type": "execute_result"
    }
   ],
   "source": [
    "df.A.fillna(method='bfill')"
   ]
  },
  {
   "cell_type": "code",
   "execution_count": 36,
   "id": "9f4610f6-c93a-4af6-b6a7-47f6a52992aa",
   "metadata": {},
   "outputs": [
    {
     "data": {
      "text/html": [
       "<div>\n",
       "<style scoped>\n",
       "    .dataframe tbody tr th:only-of-type {\n",
       "        vertical-align: middle;\n",
       "    }\n",
       "\n",
       "    .dataframe tbody tr th {\n",
       "        vertical-align: top;\n",
       "    }\n",
       "\n",
       "    .dataframe thead th {\n",
       "        text-align: right;\n",
       "    }\n",
       "</style>\n",
       "<table border=\"1\" class=\"dataframe\">\n",
       "  <thead>\n",
       "    <tr style=\"text-align: right;\">\n",
       "      <th></th>\n",
       "      <th>A</th>\n",
       "      <th>B</th>\n",
       "      <th>C</th>\n",
       "      <th>D</th>\n",
       "    </tr>\n",
       "  </thead>\n",
       "  <tbody>\n",
       "    <tr>\n",
       "      <th>0</th>\n",
       "      <td>3.0</td>\n",
       "      <td>2.0</td>\n",
       "      <td>NaN</td>\n",
       "      <td>0.0</td>\n",
       "    </tr>\n",
       "    <tr>\n",
       "      <th>1</th>\n",
       "      <td>3.0</td>\n",
       "      <td>4.0</td>\n",
       "      <td>NaN</td>\n",
       "      <td>1.0</td>\n",
       "    </tr>\n",
       "    <tr>\n",
       "      <th>2</th>\n",
       "      <td>NaN</td>\n",
       "      <td>3.0</td>\n",
       "      <td>NaN</td>\n",
       "      <td>4.0</td>\n",
       "    </tr>\n",
       "    <tr>\n",
       "      <th>3</th>\n",
       "      <td>NaN</td>\n",
       "      <td>3.0</td>\n",
       "      <td>NaN</td>\n",
       "      <td>4.0</td>\n",
       "    </tr>\n",
       "  </tbody>\n",
       "</table>\n",
       "</div>"
      ],
      "text/plain": [
       "     A    B   C    D\n",
       "0  3.0  2.0 NaN  0.0\n",
       "1  3.0  4.0 NaN  1.0\n",
       "2  NaN  3.0 NaN  4.0\n",
       "3  NaN  3.0 NaN  4.0"
      ]
     },
     "execution_count": 36,
     "metadata": {},
     "output_type": "execute_result"
    }
   ],
   "source": [
    "df.fillna(method='bfill')"
   ]
  },
  {
   "cell_type": "code",
   "execution_count": 37,
   "id": "ca67f49a-16f3-40b3-aceb-676eecfd3e23",
   "metadata": {},
   "outputs": [
    {
     "data": {
      "text/plain": [
       "0    2.0\n",
       "1    4.0\n",
       "2    3.0\n",
       "3    3.0\n",
       "Name: B, dtype: float64"
      ]
     },
     "execution_count": 37,
     "metadata": {},
     "output_type": "execute_result"
    }
   ],
   "source": [
    "# B 컬럼과 D 컬럼을 평균으로 결측치를 대체\n",
    "df.B.fillna(df.B.mean())"
   ]
  },
  {
   "cell_type": "code",
   "execution_count": 38,
   "id": "2ada471f-8b73-4f49-8f84-a4154d7ae8bb",
   "metadata": {},
   "outputs": [
    {
     "data": {
      "text/plain": [
       "0    0.000000\n",
       "1    1.000000\n",
       "2    1.666667\n",
       "3    4.000000\n",
       "Name: D, dtype: float64"
      ]
     },
     "execution_count": 38,
     "metadata": {},
     "output_type": "execute_result"
    }
   ],
   "source": [
    "df.D.fillna(df.D.mean())"
   ]
  },
  {
   "cell_type": "code",
   "execution_count": null,
   "id": "b78efcb2-0c13-4354-bd6d-8c82f57a376e",
   "metadata": {},
   "outputs": [],
   "source": []
  }
 ],
 "metadata": {
  "kernelspec": {
   "display_name": "Python 3 (ipykernel)",
   "language": "python",
   "name": "python3"
  },
  "language_info": {
   "codemirror_mode": {
    "name": "ipython",
    "version": 3
   },
   "file_extension": ".py",
   "mimetype": "text/x-python",
   "name": "python",
   "nbconvert_exporter": "python",
   "pygments_lexer": "ipython3",
   "version": "3.8.18"
  }
 },
 "nbformat": 4,
 "nbformat_minor": 5
}
