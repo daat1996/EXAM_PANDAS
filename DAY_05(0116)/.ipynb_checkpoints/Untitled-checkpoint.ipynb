{
 "cells": [
  {
   "cell_type": "markdown",
   "id": "c8382ea0-6c3a-4680-b96d-6cd4a59da9af",
   "metadata": {},
   "source": [
    "### 멀티인덱스 행 추가"
   ]
  },
  {
   "cell_type": "markdown",
   "id": "6d17295c-aa51-4fdb-ae2b-93ae470faeb7",
   "metadata": {},
   "source": [
    "- 행 추가\n",
    "    * 단일 인덱스 => loc[새로운 행레이블/이름] = 새로운 값\n",
    "    * 멀티 인덱스 => loc[(새로운 행레이블/이름), 컬럼명] = 새로운 값\n",
    "         - 여러 컬럼에 넣을 경우 => loc[(새로운 행레이블/이름), :] = 새로운 값"
   ]
  },
  {
   "cell_type": "markdown",
   "id": "dc793f28-5654-4748-b64f-ac0286361796",
   "metadata": {},
   "source": [
    "- 컬럼 추가"
   ]
  },
  {
   "cell_type": "code",
   "execution_count": null,
   "id": "1fabc391-2fc2-4262-8a20-ee5dc9122f35",
   "metadata": {},
   "outputs": [],
   "source": []
  }
 ],
 "metadata": {
  "kernelspec": {
   "display_name": "Python 3 (ipykernel)",
   "language": "python",
   "name": "python3"
  },
  "language_info": {
   "codemirror_mode": {
    "name": "ipython",
    "version": 3
   },
   "file_extension": ".py",
   "mimetype": "text/x-python",
   "name": "python",
   "nbconvert_exporter": "python",
   "pygments_lexer": "ipython3",
   "version": "3.8.18"
  }
 },
 "nbformat": 4,
 "nbformat_minor": 5
}
